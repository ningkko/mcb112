{
 "cells": [
  {
   "cell_type": "markdown",
   "id": "12797500",
   "metadata": {},
   "source": [
    "## MCB 112\n",
    "Pset 01\\\n",
    "Yining Hua\\\n",
    "Sep 11, 2021"
   ]
  },
  {
   "cell_type": "markdown",
   "id": "70c15dab",
   "metadata": {},
   "source": [
    "### 1. Check that the gene names match\n",
    "1. Output the names that appear in Moriarty_SuppTable1 but not Adler_SuppTable2, if any. \n",
    "2. Don't use Pandas"
   ]
  },
  {
   "cell_type": "code",
   "execution_count": 1,
   "id": "48d34384",
   "metadata": {},
   "outputs": [],
   "source": [
    "## read in the data\n",
    "with open(\"Moriarty_SuppTable1.txt\",\"r\") as file:\n",
    "    dat1 = file.read().split(\"\\n\")\n",
    "    dat1.remove(\"\") ## there's an empty line at the end of the file. Remove it.\n",
    "\n",
    "## get the gene names     \n",
    "gene_set1 = [line.split()[0] for line in dat1[1:]]  ## skip the first row and split by spaces, take the first string"
   ]
  },
  {
   "cell_type": "code",
   "execution_count": 2,
   "id": "18148bfa",
   "metadata": {},
   "outputs": [],
   "source": [
    "## do the same thing for dataset 2\n",
    "with open(\"Adler_SuppTable2.txt\",\"r\") as file:\n",
    "    dat2 = file.read().split(\"\\n\")\n",
    "    dat2.remove(\"\")\n",
    "    \n",
    "gene_set2 = [line.split()[0] for line in dat2[1:]]  ## skip the first row and split by spaces, take the first string"
   ]
  },
  {
   "cell_type": "code",
   "execution_count": 3,
   "id": "f9ff9a20",
   "metadata": {},
   "outputs": [
    {
     "data": {
      "text/plain": [
       "['15-Sep',\n",
       " '2-Mar',\n",
       " '1-Mar',\n",
       " '10-Sep',\n",
       " '7-Mar',\n",
       " '4-Mar',\n",
       " '2-Sep',\n",
       " '11-Sep',\n",
       " '1-Mar',\n",
       " '6-Mar',\n",
       " '11-Mar',\n",
       " '3-Mar',\n",
       " '8-Sep',\n",
       " '7-Sep',\n",
       " '14-Sep',\n",
       " '6-Sep',\n",
       " '1-Dec',\n",
       " '8-Mar',\n",
       " '5-Mar',\n",
       " '9-Mar',\n",
       " '12-Sep',\n",
       " '1-Sep',\n",
       " '4-Sep',\n",
       " '10-Mar',\n",
       " '9-Sep',\n",
       " '2-Mar',\n",
       " '5-Sep',\n",
       " '3-Sep']"
      ]
     },
     "execution_count": 3,
     "metadata": {},
     "output_type": "execute_result"
    }
   ],
   "source": [
    "## Find genes in genset1 but not 2\n",
    "diff = []\n",
    "for gene in gene_set1:\n",
    "    if gene not in gene_set2:\n",
    "        diff.append(gene)\n",
    "diff"
   ]
  },
  {
   "cell_type": "code",
   "execution_count": 4,
   "id": "76e95180",
   "metadata": {},
   "outputs": [
    {
     "name": "stdout",
     "output_type": "stream",
     "text": [
      "28 genes are not found in our second data set. These gene names were converted to 26 unique date strings.\n"
     ]
    }
   ],
   "source": [
    "print(\"%i genes are not found in our second data set. These gene names were converted to %i unique date strings.\"%(len(diff),len(set(diff))))"
   ]
  },
  {
   "cell_type": "markdown",
   "id": "b9716c0b",
   "metadata": {},
   "source": [
    "### If there's a difference - why?\n",
    "It seems that some gene names in [dataset 1](http://mcb112.org/w01/Moriarty_SuppTable1) were converted to dates by Excel, as pointed out by the papers. E.g. in the abstract of [Zieann et al.](https://genomebiology.biomedcentral.com/articles/10.1186/s13059-016-1044-7), \"the spreadsheet software Microsoft Excel, when used with default settings, is known to convert gene names to dates and floating-point numbers\". "
   ]
  },
  {
   "cell_type": "markdown",
   "id": "d3c039b2",
   "metadata": {},
   "source": [
    "### 2. Explore the data\n",
    "Write basic Python code to:\n",
    "\n",
    "1. output the five genes with the highest mRNA synthesis rate. (i.e. in Adler_SuppTable2)\n",
    "2. output the five genes with the longest mRNA halflife. (i.e. in Adler_SuppTable2)\n",
    "3. output the five genes that have the highest ratio of expression at t=96 hours post-mortem vs. t=0 (i.e. in Moriarty_SuppTable1)"
   ]
  },
  {
   "cell_type": "code",
   "execution_count": 5,
   "id": "94647624",
   "metadata": {},
   "outputs": [
    {
     "data": {
      "text/plain": [
       "['ATN1', 'TIAL1', 'ZNF222', 'ANKS4B', 'XRN2']"
      ]
     },
     "execution_count": 5,
     "metadata": {},
     "output_type": "execute_result"
    }
   ],
   "source": [
    "## 1. the five genes with the highest mRNA synthesis rate\n",
    "## create a dictionary in the format of {synth_rates: gene_names},\n",
    "## sort the dict by key and output the 5 with highest synth_rates\n",
    "\n",
    "import collections\n",
    "\n",
    "gene_names_dat2 = [line.split()[0] for line in dat2[1:]]\n",
    "synth_rates = [float(line.split()[1]) for line in dat2[1:]]   ## also convert the numbers to floats for sorting\n",
    "d_gene_synthrate = collections.OrderedDict(sorted(dict(zip(synth_rates, gene_names_dat2)).items(), reverse=True))\n",
    "list(d_gene_synthrate.values())[:5]"
   ]
  },
  {
   "cell_type": "markdown",
   "id": "b2684be6",
   "metadata": {},
   "source": [
    "So the 5 genes with the highest mRNA synthesis rates are 'ATN1', 'TIAL1', 'ZNF222', 'ANKS4B', and 'XRN2'. We can also have a look at the first 15 items of the dictionary to double check:"
   ]
  },
  {
   "cell_type": "code",
   "execution_count": 6,
   "id": "47191973",
   "metadata": {},
   "outputs": [
    {
     "data": {
      "text/plain": [
       "[(130.5, 'ATN1'),\n",
       " (118.6, 'TIAL1'),\n",
       " (112.5, 'ZNF222'),\n",
       " (85.6, 'ANKS4B'),\n",
       " (80.8, 'XRN2'),\n",
       " (77.5, 'AIM1'),\n",
       " (70.3, 'CTC-479C5.6'),\n",
       " (69.6, 'TTC32'),\n",
       " (68.5, 'DUSP2'),\n",
       " (68.0, 'MRPL17'),\n",
       " (65.8, 'ACOX2'),\n",
       " (60.4, 'TRIM7'),\n",
       " (57.1, 'BPIFA2'),\n",
       " (56.3, 'NPIPB11'),\n",
       " (55.4, 'SYNJ2BP-COX16')]"
      ]
     },
     "execution_count": 6,
     "metadata": {},
     "output_type": "execute_result"
    }
   ],
   "source": [
    "list(d_gene_synthrate.items())[:15]"
   ]
  },
  {
   "cell_type": "code",
   "execution_count": 7,
   "id": "35047e01",
   "metadata": {},
   "outputs": [
    {
     "data": {
      "text/plain": [
       "['DHX58', 'ZNF679', 'NEBL', 'SMAD5', 'RGMA']"
      ]
     },
     "execution_count": 7,
     "metadata": {},
     "output_type": "execute_result"
    }
   ],
   "source": [
    "## 2. output the five genes with the longest mRNA halflife. (i.e. in Adler_SuppTable2)\n",
    "## Do the same as in q1.\n",
    "\n",
    "half_life = [float(line.split()[2]) for line in dat2[1:]]   ## also convert the numbers to floats for sorting\n",
    "d_gene_halflife = collections.OrderedDict(sorted(dict(zip(half_life, gene_names_dat2)).items(), reverse=True))\n",
    "list(d_gene_halflife.values())[:5]"
   ]
  },
  {
   "cell_type": "markdown",
   "id": "fb909416",
   "metadata": {},
   "source": [
    "The 5 genes with the longest halftimes are 'DHX58', 'ZNF679', 'NEBL', 'SMAD5', and 'RGMA'. Double check below:"
   ]
  },
  {
   "cell_type": "code",
   "execution_count": 8,
   "id": "2525b009",
   "metadata": {},
   "outputs": [
    {
     "data": {
      "text/plain": [
       "[(69.1, 'DHX58'),\n",
       " (62.8, 'ZNF679'),\n",
       " (60.1, 'NEBL'),\n",
       " (58.7, 'SMAD5'),\n",
       " (57.8, 'RGMA'),\n",
       " (56.1, 'TIMM50'),\n",
       " (55.4, 'ISM2'),\n",
       " (54.0, 'TOLLIP'),\n",
       " (52.3, 'L2HGDH'),\n",
       " (50.5, 'RNF223'),\n",
       " (48.8, 'BRK1'),\n",
       " (48.5, 'SLBP'),\n",
       " (48.0, 'POMZP3'),\n",
       " (47.8, 'C6orf141'),\n",
       " (47.4, 'MAGEA10')]"
      ]
     },
     "execution_count": 8,
     "metadata": {},
     "output_type": "execute_result"
    }
   ],
   "source": [
    "list(d_gene_halflife.items())[:15]"
   ]
  },
  {
   "cell_type": "code",
   "execution_count": 9,
   "id": "82eb422e",
   "metadata": {},
   "outputs": [
    {
     "data": {
      "text/plain": [
       "['DHX58', 'NEBL', 'ZNF679', 'RGMA', 'ISM2']"
      ]
     },
     "execution_count": 9,
     "metadata": {},
     "output_type": "execute_result"
    }
   ],
   "source": [
    "## 3. output the five genes that have the highest ratio of expression at t=96 hours post-mortem vs. t=0 (i.e. in Moriarty_SuppTable1)\n",
    "## We'll create a dictionary of {expression@96hr/expression@0hr : gene_names} and do the same thing as what we did in the previous 2 questions\n",
    "ratio_96_0 = [float(line.split()[5])/float(line.split()[1]) for line in dat1[1:]]\n",
    "gene_names_dat1 = [line.split()[0] for line in dat1[1:]]\n",
    "d_gene_ratio = collections.OrderedDict(sorted(dict(zip(ratio_96_0, gene_names_dat1)).items(), reverse=True))\n",
    "list(d_gene_ratio.values())[:5]"
   ]
  },
  {
   "cell_type": "code",
   "execution_count": 10,
   "id": "7975df1a",
   "metadata": {},
   "outputs": [
    {
     "data": {
      "text/plain": [
       "[(31.339757017176375, 'DHX58'),\n",
       " (26.547244774572466, 'NEBL'),\n",
       " (25.984079173838207, 'ZNF679'),\n",
       " (23.376250266014047, 'RGMA'),\n",
       " (21.80421393841167, 'ISM2'),\n",
       " (21.42863849765258, 'SMAD5'),\n",
       " (20.83362098722817, 'RNF223'),\n",
       " (20.515463917525775, 'TIMM50'),\n",
       " (19.58916967509025, 'L2HGDH'),\n",
       " (19.021289537712896, 'SLBP'),\n",
       " (17.988200589970504, 'TOLLIP'),\n",
       " (16.37295081967213, 'C6orf141'),\n",
       " (16.202933985330073, 'BRK1'),\n",
       " (16.11437908496732, 'POMZP3'),\n",
       " (15.91772151898734, 'MAGEA10')]"
      ]
     },
     "execution_count": 10,
     "metadata": {},
     "output_type": "execute_result"
    }
   ],
   "source": [
    "## Check\n",
    "list(d_gene_ratio.items())[:15]"
   ]
  },
  {
   "cell_type": "markdown",
   "id": "d1e7834e",
   "metadata": {},
   "source": [
    "### 3. Figure out what happened\n",
    "\n",
    "Merge the information in 2 datasets and skip non-shared genes. Output one whitespace-delimited, column-justified data line consisting of 7 fields per line:\n",
    "\n",
    "1. gene name\n",
    "2. Four expression ratios relative to t=0: i.e. tpm[12h]/tpm[0], tpm[24h]/tpm[0], tpm[48h]/tpm[0], tpm[96h]/tpm[0], by processing the TPM data in Moriarty_SuppTable1\n",
    "3. DNA synthesis rate (in mRNA/hr) and \n",
    "4. mRNA decay halflife (in hr) from Adler_SuppTable2"
   ]
  },
  {
   "cell_type": "code",
   "execution_count": 11,
   "id": "f8855ed1",
   "metadata": {},
   "outputs": [],
   "source": [
    "## Create a dictionary of {gene_name : [tpm0, temp12, tpm24, tpm48, tpm96]}, and a dictionary of {gene_name: synth_rate, halflife]}\n",
    "dat1_info = {line.split()[0]:list(map(float,line.split()[1:])) for line in dat1[1:]}\n",
    "dat2_info = {line.split()[0]:list(map(float,line.split()[1:])) for line in dat2[1:]}\n",
    "    \n",
    "## Find the intersection of gene names in dat1 and gene names in dat2, sort them for quicker lookup\n",
    "shared_genes = sorted(set(gene_names_dat1).intersection(set(gene_names_dat2)))  \n",
    "\n",
    "def get_ratio(info,index1,index2):\n",
    "    '''calculates the ratio of expressions and round them to 1 digit after the decimal'''\n",
    "    return round(info[index1]/info[index2],1)\n",
    "    \n",
    "## loop through the shared genes and merge & calculate the information.\n",
    "d_info = {}\n",
    "for gene in shared_genes:\n",
    "    gene_info = []  ## we'll store the 7 fields as a list\n",
    "    info1 = dat1_info.get(gene)  ## this returns None if key not found\n",
    "    info2 = dat2_info.get(gene)\n",
    "    if info1 and info2:\n",
    "        gene_info.extend([get_ratio(info1, 1, 0),\n",
    "                          get_ratio(info1, 2, 0),\n",
    "                          get_ratio(info1, 3, 0),\n",
    "                          get_ratio(info1, 4, 0),\n",
    "                          info2[0],\n",
    "                          info2[1]])\n",
    "    d_info[gene] = gene_info"
   ]
  },
  {
   "cell_type": "code",
   "execution_count": 12,
   "id": "068c3786",
   "metadata": {},
   "outputs": [],
   "source": [
    "## find the string with the max length in our whole file and +1 to be the length of our delimiter.\n",
    "columns = [\"#gene_name\", \"tpm[12h/0h]\", \"tpm[24h/0h]\", \"tpm[48h/0h]\",\n",
    "           \"tpm[96h/0h]\", \"synth_rate\", \"halflife\"]\n",
    "\n",
    "name_space = max(max(list(map(len,columns))), max(list(map(len,shared_genes))))+1\n",
    "value_space = max(list(map(len,columns)))+1\n",
    "\n",
    "formatter = f'%-{name_space}s %-{value_space}s %-{value_space}s %-{value_space}s %-{value_space}s %-{value_space}s %s\\n'\n",
    "with open(\"merged_gene_info.txt\",\"w\") as file:\n",
    "    file.write(formatter%(\"#gene_name\", \"tpm[12h/0h]\", \"tpm[24h/0h]\", \"tpm[48h/0h]\",\n",
    "                          \"tpm[96h/0h]\", \"synth_rate\", \"halflife\"))\n",
    "    for k,v in d_info.items():\n",
    "        v = list(map(str, v))\n",
    "        file.write(formatter%(k,v[0], v[1], v[2], v[3], v[4], v[5]))"
   ]
  },
  {
   "cell_type": "markdown",
   "id": "8c474545",
   "metadata": {},
   "source": [
    "#### Have a look?\n",
    "![Output_file](sample.png)\n"
   ]
  },
  {
   "cell_type": "markdown",
   "id": "a168a375",
   "metadata": {},
   "source": [
    "#### The last question\n",
    "Explore the data, however you want, for example by looking at the genes with the highest expression ratio t=96/t=0. What do you think is the real explanation for what happened in the dead sand mouse experiment?"
   ]
  },
  {
   "cell_type": "markdown",
   "id": "22eb2523",
   "metadata": {},
   "source": [
    "#### Response\n",
    "It gets clear if we look at the half-lives of genes that have the highest tmp[96hr]/tmp[0hr] (and also the highest tmp[48hr]/tmp[0hr], see Table 1, 2, and 3 below). It can be observed that these genes (e.g. DHX58, NEBL, ZNF679, etc.) have the highest half-lives. Since TPM measures \"relative proportions, not absolute numbers (quoted from [lecture w01](http://mcb112.org/w01/w01-lecture.html))\", the proportions of these long-half-life genes (out of total genes still exist) get higher after other short-half-life genes have decayed. So it creates the illusion of these genes being upregulated after the death of the mouse."
   ]
  },
  {
   "cell_type": "code",
   "execution_count": 13,
   "id": "8625d1ce",
   "metadata": {
    "scrolled": true
   },
   "outputs": [
    {
     "name": "stdout",
     "output_type": "stream",
     "text": [
      "Table 1: Genes with the highest tpm[96h]/tmp[0h]\n",
      "\n",
      "#gene_name           tpm[12h/0h]  tpm[24h/0h]  tpm[48h/0h]  tpm[96h/0h]  synth_rate   halflife\n",
      "DHX58                2.0          3.6          8.2          31.3         3.4          69.1\n",
      "NEBL                 1.9          3.5          7.7          26.5         10.1         60.1\n",
      "ZNF679               1.8          3.4          7.5          26.0         3.6          62.8\n",
      "RGMA                 1.9          3.2          6.9          23.4         7.6          57.8\n",
      "ISM2                 1.8          3.2          6.7          21.8         5.5          55.4\n",
      "SMAD5                2.1          2.8          7.3          21.4         3.4          58.7\n",
      "RNF223               1.9          2.8          7.5          20.8         6.2          50.5\n",
      "TIMM50               2.0          3.2          7.0          20.5         0.3          56.1\n",
      "L2HGDH               2.0          3.2          6.6          19.6         2.6          52.3\n",
      "SLBP                 1.9          3.2          5.3          19.0         3.5          48.5\n",
      "sort: Broken pipe\n"
     ]
    }
   ],
   "source": [
    "print(\"Table 1: Genes with the highest tpm[96h]/tmp[0h]\\n\")\n",
    "! cat merged_gene_info.txt | grep -i \"^#\"\n",
    "! cat merged_gene_info.txt | grep -v \"^#\" | sort -nr -k5 | head -10"
   ]
  },
  {
   "cell_type": "code",
   "execution_count": 14,
   "id": "54d06617",
   "metadata": {},
   "outputs": [
    {
     "name": "stdout",
     "output_type": "stream",
     "text": [
      "Table 2: Genes with the highest tpm[48h]/tmp[0h]\n",
      "\n",
      "#gene_name           tpm[12h/0h]  tpm[24h/0h]  tpm[48h/0h]  tpm[96h/0h]  synth_rate   halflife\n",
      "DHX58                2.0          3.6          8.2          31.3         3.4          69.1\n",
      "NEBL                 1.9          3.5          7.7          26.5         10.1         60.1\n",
      "ZNF679               1.8          3.4          7.5          26.0         3.6          62.8\n",
      "RNF223               1.9          2.8          7.5          20.8         6.2          50.5\n",
      "SMAD5                2.1          2.8          7.3          21.4         3.4          58.7\n",
      "TIMM50               2.0          3.2          7.0          20.5         0.3          56.1\n",
      "RGMA                 1.9          3.2          6.9          23.4         7.6          57.8\n",
      "ISM2                 1.8          3.2          6.7          21.8         5.5          55.4\n",
      "L2HGDH               2.0          3.2          6.6          19.6         2.6          52.3\n",
      "SLC6A2               2.1          3.2          6.4          13.3         6.4          43.9\n",
      "sort: Broken pipe\n"
     ]
    }
   ],
   "source": [
    "print(\"Table 2: Genes with the highest tpm[48h]/tmp[0h]\\n\")\n",
    "! cat merged_gene_info.txt | grep -i \"^#\"\n",
    "! cat merged_gene_info.txt | grep -v \"^#\" | sort -nr -k4 | head -10"
   ]
  },
  {
   "cell_type": "code",
   "execution_count": 15,
   "id": "3c988c73",
   "metadata": {},
   "outputs": [
    {
     "name": "stdout",
     "output_type": "stream",
     "text": [
      "Table 3: Genes with the highest half-lives\n",
      "\n",
      "#gene_name           tpm[12h/0h]  tpm[24h/0h]  tpm[48h/0h]  tpm[96h/0h]  synth_rate   halflife\n",
      "DHX58                2.0          3.6          8.2          31.3         3.4          69.1\n",
      "ZNF679               1.8          3.4          7.5          26.0         3.6          62.8\n",
      "NEBL                 1.9          3.5          7.7          26.5         10.1         60.1\n",
      "SMAD5                2.1          2.8          7.3          21.4         3.4          58.7\n",
      "RGMA                 1.9          3.2          6.9          23.4         7.6          57.8\n",
      "TIMM50               2.0          3.2          7.0          20.5         0.3          56.1\n",
      "ISM2                 1.8          3.2          6.7          21.8         5.5          55.4\n",
      "TOLLIP               1.7          2.5          5.8          18.0         3.3          54.0\n",
      "L2HGDH               2.0          3.2          6.6          19.6         2.6          52.3\n",
      "RNF223               1.9          2.8          7.5          20.8         6.2          50.5\n",
      "sort: Broken pipe\n"
     ]
    }
   ],
   "source": [
    "print(\"Table 3: Genes with the highest half-lives\\n\")\n",
    "! cat merged_gene_info.txt | grep -i \"^#\"\n",
    "! cat merged_gene_info.txt | grep -v \"^#\" | sort -nr -k7| head -10"
   ]
  },
  {
   "cell_type": "markdown",
   "id": "857f9d95",
   "metadata": {},
   "source": [
    "Let's take another look at the four selected genes from Moriarty et al.:\n",
    "![Moriarty et al](Fig1.png)\n",
    "If our hypothesis above is true, then clementine should have the shortest half-life because it almost completely decayed at t = 96hr. Similarly, the half-life of SRSF11 should be shorter than ARL16, which should then be shorter than that of chickpea. And yes, Table 4 examines our hypothesis:"
   ]
  },
  {
   "cell_type": "code",
   "execution_count": 16,
   "id": "474598c4",
   "metadata": {},
   "outputs": [
    {
     "name": "stdout",
     "output_type": "stream",
     "text": [
      "Table 4: Half-lives of the four selected genes\n",
      "\n",
      "#gene_name           tpm[12h/0h]  tpm[24h/0h]  tpm[48h/0h]  tpm[96h/0h]  synth_rate   halflife\n",
      "clementine           0.8          0.7          0.4          0.1          12.8         13.3\n",
      "SRSF11               1.1          1.5          1.4          0.8          6.5          19.3\n",
      "ARL16                1.3          1.3          1.7          1.2          6.2          20.9\n",
      "chickpea             1.6          1.9          3.0          4.1          4.2          28.9\n"
     ]
    }
   ],
   "source": [
    "print(\"Table 4: Half-lives of the four selected genes\\n\")\n",
    "\n",
    "! cat merged_gene_info.txt | grep -i \"^#\"\n",
    "! cat merged_gene_info.txt | grep -i \"^clementine\"\n",
    "! cat merged_gene_info.txt | grep -i \"^SRSF11\"\n",
    "! cat merged_gene_info.txt | grep -i \"^ARL16\"\n",
    "! cat merged_gene_info.txt | grep -i \"^chickpea\""
   ]
  },
  {
   "cell_type": "code",
   "execution_count": null,
   "id": "0c27c37c",
   "metadata": {},
   "outputs": [],
   "source": []
  }
 ],
 "metadata": {
  "kernelspec": {
   "display_name": "Python 3 (ipykernel)",
   "language": "python",
   "name": "python3"
  },
  "language_info": {
   "codemirror_mode": {
    "name": "ipython",
    "version": 3
   },
   "file_extension": ".py",
   "mimetype": "text/x-python",
   "name": "python",
   "nbconvert_exporter": "python",
   "pygments_lexer": "ipython3",
   "version": "3.9.7"
  }
 },
 "nbformat": 4,
 "nbformat_minor": 5
}
