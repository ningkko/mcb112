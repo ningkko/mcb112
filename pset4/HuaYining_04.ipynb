{
 "cells": [
  {
   "cell_type": "markdown",
   "id": "c83e1a07",
   "metadata": {},
   "source": [
    "# homework 04: a plague of sand mice\n"
   ]
  },
  {
   "cell_type": "markdown",
   "id": "2a5e9946",
   "metadata": {},
   "source": [
    "## 1. test Moriarty's method yourself\n",
    "After some prying on your part, Moriarty reluctantly discloses that his secret proprietary machine learning method is to score +1 for each A or T, and -1 for each C or G.\n",
    "\n",
    "You note that Moriarty showed results for discriminating against random sequences (of uniform base composition), but the problem is to discriminate against sand mouse sequences.\n",
    "\n",
    "Implement Moriarty's secret proprietary machine learning method. Test it on the sequences in pathogen.fa and sandmouse.fa. Make a plot of your own, showing a histogram and a ROC plot like in Moriarty's figure, but for performance in discriminating pathogen from sand mouse sequences, using matplotlib.\n",
    "\n",
    "What do you conclude? Why are your results different from Moriarty's?"
   ]
  },
  {
   "cell_type": "code",
   "execution_count": 1,
   "id": "b1adca93",
   "metadata": {},
   "outputs": [
    {
     "name": "stdout",
     "output_type": "stream",
     "text": [
      ">pathogen.9996\r\n",
      "TGAAAAATGGTATCATTTTGATTTGCATCAAGAAAGAGCTTCCAAATCATTCAATGTCATTTAATATTATCTTTTAAAAAAGAAACATAGAGGATATTTTGTAAAACATCTTATTTATGCTTTTAATCTTAACTTTCTTAGTCGAATATTTAAATTTTAATAATTTTTTTGCCATTTGTTTCAATTATTCTTAAATTACC\r\n",
      ">pathogen.9997\r\n",
      "AAAATATGGAGCTACAGGAAAAATTTGAAAATGAAATGGATGCTAAAATGAAAATTTTTGAAACTGGAATTTTTATCTAATAAGCATCTTTAAATCAACAGCGAAGATCAATAAATTATATGGATTTAAGCAATCGTTTATCTAAAGAGTTTTGAAATTGAGTTCTATAGGGACTTCTAACAATCAAAATACTATTTAAT\r\n",
      ">pathogen.9998\r\n",
      "TACAAAAAATATCTATGGATATTTTAATTTAATTCTGGTATGCTGAGGATAAATTCAATACACAACCTCCCATAAGAAAATTTATAATTTTATTTTCTTAGACAAGATCCCATTGTCAAATATTCCTAAATATAAATCAGAAAATTTTAATCAAATAAGCTAAGTAAATAAATAAAATTGTAATAATAAAATTTGTAGAT\r\n",
      ">pathogen.9999\r\n",
      "TATATTTTTTTATAGAAAATTATTTATTTGCAATTTCTTTAATTTTTGTATATTATTTGTAAAATAGTTTAAAATCTTCCTTTTTTAATAAGAAATATTTCGATATTCCCAATGTAAATGGAATTTGGGATGCAGACTGAGATATAATCTGGATCTAATTGGTATTATTGAAAAATAATTTATTTTATTTAGTTCTTAAT\r\n",
      ">pathogen.10000\r\n",
      "AAAGGAATCTGCTTAGCTAAGATATATGTTAATGTTTTGTTATATAGAATATAGAATCCTTTTTTTTAAAAAAATATGATTTGAATTTAAATTAATGCTTAAACTTTTAAGAGAAGGAAACTCCTGAAAGAATTTCTATCTTTCTTTTTTTTTATTAGAAGGTGCATTATTTTTTTTTTAAACTAAAGATAGAACTTCAT\r\n"
     ]
    }
   ],
   "source": [
    "!tail -10 pathogen.fa"
   ]
  },
  {
   "cell_type": "code",
   "execution_count": 4,
   "id": "ee6ace73",
   "metadata": {},
   "outputs": [],
   "source": [
    "import numpy as np\n",
    "import random\n",
    "import itertools as it\n",
    "%matplotlib inline\n",
    "random.seed(1048)\n",
    "import matplotlib.pyplot as plt\n",
    "import seaborn as sns\n",
    "import statistics as stat\n",
    "from tqdm import tqdm\n",
    "\n",
    "class Moriarty_scorer:\n",
    "    def __init__(self, seq=None):\n",
    "        self.seqs = {}\n",
    "        self.seqs[\"pathogen\"] = self.read_seq_from_fasta(\"pathogen.fa\")\n",
    "        self.seqs[\"sandmouse\"] = self.read_seq_from_fasta(\"sandmouse.fa\")\n",
    "        self.seq_len = len(self.seqs[\"pathogen\"]) # same for the two\n",
    "        self.roc = {\"true positives\" : [],\n",
    "                    \"false positives\" : []}\n",
    "        self.scores = {\"pathogen\":[],\n",
    "                       \"sandmouse\":[],}\n",
    "        self.cal_score()\n",
    "        self.cal_roc()\n",
    "        \n",
    "    def read_seq_from_fasta(self, filepath):\n",
    "        with open(filepath, \"r\") as file:\n",
    "            return [line.rstrip(\"\\n\") for line in file.readlines() if line[0]!=\">\"]\n",
    "    \n",
    "    def read_score(self):\n",
    "        if not self.scores:\n",
    "            print(\"No score yet\")\n",
    "            return \n",
    "        for k,v in self.scores.items():\n",
    "            print(\"%s score mean: %f\"%(k, stat.mean(v)))\n",
    "            print(\"%s score std: %f\"%(k, stat.stdev(v)))\n",
    "            print(\"---------------------------\")\n",
    "    \n",
    "    def cal_score(self):\n",
    "        print(\"Calculating score using the Moriarty method\")\n",
    "        for k,v in self.seqs.items():\n",
    "            score_list = []\n",
    "            for seq in v:\n",
    "                score = 0\n",
    "                for g in seq:\n",
    "                    if g == \"A\" or g == \"T\":\n",
    "                        score += 1\n",
    "                    elif g == \"G\" or g==\"C\":\n",
    "                        score -= 1  \n",
    "                score_list.append(score)  \n",
    "            self.scores[k] = score_list\n",
    "        self.read_score()       \n",
    "    \n",
    "    def cal_roc(self):\n",
    "        \"\"\"Given the sequences, this function finds true and false positives\n",
    "        >> A plot of sensitivity versus false positive rate (both from 0 to 1.0) for all possible choices of \n",
    "        >> threshold is called a receiver operating characteristic plot (ROC plot). The name \"receiver operating \n",
    "        >> characteristic\" is a historical artifact, as you might guess. It's military jargon that arose in WWII \n",
    "        >> for radar receivers distinguishing blips as enemy vs. friendly aircraft. Correct friend/foe classification \n",
    "        >> is a pretty important operating characteristic for a military radar receiver.A perfect ROC plot leaps\n",
    "        >> immediately to 100% sensitivity at 0% FPR. Random guessing gives you a diagonal line.\n",
    "        Quoted form course website: http://mcb112.org/w04/w04-lecture.html\n",
    "        \"\"\"\n",
    "        thresholds = np.linspace(min((min(self.scores[\"pathogen\"]), min(self.scores[\"sandmouse\"]))), \n",
    "                                 max((max(self.scores[\"pathogen\"]), max(self.scores[\"sandmouse\"]))), \n",
    "                                 num=self.seq_len)\n",
    "        \n",
    "        print(\"Calculating ROC...\")\n",
    "        for threshold in tqdm(thresholds):\n",
    "            tp = [1 if score >= threshold else 0 for score in self.scores[\"pathogen\"]]\n",
    "            fp = [1 if score >= threshold else 0 for score in self.scores[\"sandmouse\"]]    \n",
    "            self.roc[\"true positives\"].append(sum(tp)/self.seq_len)\n",
    "            self.roc[\"false positives\"].append(sum(fp)/self.seq_len)\n",
    "    \n",
    "    def peak_seq(self, n=5):\n",
    "        for k,v in self.seqs.items():\n",
    "            print(\">> \"+k)\n",
    "            print(\"---------------------------\")\n",
    "            print(\"\\n\\n\".join(v[:n]))\n",
    "            \n",
    "    def visualize_scores(self, output_filename=None):\n",
    "        fig, (ax1, ax2) = plt.subplots(1, 2, figsize=(17,8))\n",
    "        sns.set_style(\"white\")\n",
    "\n",
    "        bins = np.linspace(min((min(self.scores[\"pathogen\"]), min(self.scores[\"sandmouse\"]))), \n",
    "                           max((max(self.scores[\"pathogen\"]), max(self.scores[\"sandmouse\"]))), \n",
    "                           50)\n",
    "        ax1.hist(self.scores[\"pathogen\"], bins=bins, color = \"orange\", label=\"pathogen\", alpha = 1, density=True)\n",
    "        ax1.hist(self.scores[\"sandmouse\"], bins=bins, color = \"black\", label=\"sandmouse\", alpha=0.3, density=True)\n",
    "\n",
    "        ax1.set_title(\"score histogram\")\n",
    "        ax1.set_xlabel(\"Score\")\n",
    "        ax1.set_ylabel(\"frequency\")\n",
    "        ax1.legend()\n",
    "        \n",
    "        ax2.plot(self.roc[\"false positives\"], self.roc[\"true positives\"])\n",
    "        ax2.set_title(\"ROC plot\")\n",
    "        ax2.set_xlabel(\"false positives\")\n",
    "        ax2.set_ylabel(\"true positives\")\n",
    "        if output_filename:\n",
    "            plt.savefig(output_filename, format=\"png\")\n",
    "        plt.show()\n",
    "        \n",
    "    "
   ]
  },
  {
   "cell_type": "code",
   "execution_count": 5,
   "id": "be16d489",
   "metadata": {},
   "outputs": [
    {
     "name": "stdout",
     "output_type": "stream",
     "text": [
      "Calculating score using the Moriarty method\n",
      "pathogen score mean: 109.894600\n",
      "pathogen score std: 12.794439\n",
      "---------------------------\n",
      "sandmouse score mean: 110.174600\n",
      "sandmouse score std: 11.688575\n",
      "---------------------------\n",
      "Calculating ROC...\n"
     ]
    },
    {
     "name": "stderr",
     "output_type": "stream",
     "text": [
      "100%|██████████| 10000/10000 [00:33<00:00, 297.98it/s]\n"
     ]
    }
   ],
   "source": [
    "moriarty_scorer = Moriarty_scorer()"
   ]
  },
  {
   "cell_type": "code",
   "execution_count": 6,
   "id": "47d71f64",
   "metadata": {},
   "outputs": [
    {
     "name": "stdout",
     "output_type": "stream",
     "text": [
      ">> pathogen\n",
      "---------------------------\n",
      "TTTTATAGCTTAAATTAATCTTGCAATAATACAATGGTGCTCCAATTATCATAAGAAAATACTTTAAGAAATAGAATTATCTATAGAGTCCTTATCTGTCTTGTTTATATGAGACAGTTAATTTGAAGAAGGAATAATCTTTCCGTTTTTAGATATTAAAATAATTATACCTCATTAAAGTTTTCAGATAATTTCTAGAA\n",
      "\n",
      "ATTTATGAAAGATTTTTTCTATTTTTTATAGATGTCTATTCTGTGAATTTTCAATAAACGATTTTAGTACAAAGTATATAACTGCACATGCTGTAGATGTATTAAAAAAATTCTAACAGATTAAGAAGATTAAAATGGAAATGTTCTCCGAAATGTTGGAAACATAGAAATTAAAACTATTTATAAGGTTAAAGCTGTTT\n",
      ">> sandmouse\n",
      "---------------------------\n",
      "GATAAATAACACATTTTTCTATATATCATTATTTGTTATATGATTATAATATAATTATTTAAAAACTAGAATTTGCAAATGCATATATATGTGAAATTTTATATTAATTAAGTATGAAAAATGGAGTAGAATAAAAAATTAATATAAATTAATTAAAACAAAGTACAGATAAATCTATGTAAATTATCATAAAATATGGA\n",
      "\n",
      "TGGTTAAACAGTTTCGAAATTAGTAAGTAAAGTGAAGTGTATATAGAATGAGTATTTTAAAAATCATAACTAAGAACTGTAAATACTATATATTATAATAACCAACTACTTATTAATTATTAATTTTTTAAATTTTGTAAAATTAGTCAATTTGTTAATTATTAATATCGGTAAATGCTCATGCTTTAGACATGCTATAA\n"
     ]
    }
   ],
   "source": [
    "## let's check if it read in the seqs properly\n",
    "moriarty_scorer.peak_seq(n=2)"
   ]
  },
  {
   "cell_type": "code",
   "execution_count": 7,
   "id": "bf6d9185",
   "metadata": {},
   "outputs": [
    {
     "data": {
      "image/png": "[encoded data removed]",
      "text/plain": [
       "<Figure size 1224x576 with 2 Axes>"
      ]
     },
     "metadata": {
      "needs_background": "light"
     },
     "output_type": "display_data"
    }
   ],
   "source": [
    "moriarty_scorer.visualize_scores()"
   ]
  },
  {
   "cell_type": "markdown",
   "id": "7bd984e2",
   "metadata": {},
   "source": [
    "This is just, very obvious to see, that the pathogen and the sandmouse sequences had almost the same distribution using Moriarty's methods. The ROC plot almost shows a straight diagnal line, showing that Moriarty's secret proprietary machine learning method is no better than random guessing. \n",
    "\n",
    "Why didn't Moriarty's native \"A/T + 1; C/G -1\" loss function work out? The answer might be that the four bases A, C, T, G are not uniformly distributed in both the sandmouse's DNA sequences and those of the pathogen, while M's loss function assume a uniform distribution of them (So he just calculated the pathogen's difference to 10,000 random sequences of uniform base composition)."
   ]
  },
  {
   "cell_type": "markdown",
   "id": "537c2dc3",
   "metadata": {},
   "source": [
    "## 2. make your own method\n",
    "You think you can do better, using higher order Markov models.\n",
    "\n",
    "- Implement a **second order Markov model** (i.e. with parameters $P(x_i|x_i−1,x_i−2)$. )\n",
    "\n",
    "- Train (i.e. estimate parameters for) two models: one on pathogen.fa, and one on sandmouse.fa.\n",
    "\n",
    "- Implement a routine that calculate the log-odds score for a sequence read, given the read sequence and the two 2nd-order Markov models.\n",
    "\n",
    "- Plot the histogram and ROC plot for your 2nd-order Markov model method, for results of discriminating the reads in pathogen.fa from sandmouse.fa.\n",
    "\n",
    "Because you're estimating the parameters of your models from the example data, you should train and test on separate data sets. Use half of each sequence set for training, and half for testing."
   ]
  },
  {
   "cell_type": "code",
   "execution_count": 14,
   "id": "5dc90ead",
   "metadata": {},
   "outputs": [],
   "source": [
    "import random as rand\n",
    "import itertools as it\n",
    "\n",
    "rand.seed(1028)\n",
    "\n",
    "bases = [\"A\", \"C\", \"T\", \"G\"]\n",
    "\n",
    "# Let me continue using class here, I'm not very good at it, so trying to improve\n",
    "class Markov_model:\n",
    "    def __init__(self):\n",
    "        self.sample_size = None\n",
    "        self.test = []\n",
    "        self.train = []\n",
    "        self.prob_dict = {}\n",
    "        ## since we are using a second order Markov chain, we skipped the first 2 bases\n",
    "        ## So dor each 2mer we calc a probability of it appearing at the first position\n",
    "        self.start_position_dict = {}\n",
    "        \n",
    "    def read_data_as_sample(self, filepath):\n",
    "        with open(filepath, \"r\") as file:\n",
    "            sample = [line.rstrip(\"\\n\") for line in file.readlines() if line[0]!=\">\"]\n",
    "        self.sample_size = len(sample)\n",
    "        print(\"%i samples read, splitting into train test sets...\"%self.sample_size)\n",
    "        self.train_test_split(sample)\n",
    "\n",
    "    def train_test_split(self, sample, test_size=0.15):\n",
    "        n_test = int(self.sample_size*test_size)\n",
    "        self.test = rand.sample(sample, n_test)\n",
    "        self.train = [s for s in sample if s not in self.test]\n",
    "        print(\"%i training sample generated\\n%i test sample generated\"%(len(self.train), len(self.test)))    \n",
    "\n",
    "    def create_frequency_dict(self):\n",
    "        print(\"Creating 3-mer probability dictionary...\")\n",
    "        ## create a dictionary of occurences of all posible 3-mers of ACTG\n",
    "        d_3mer = dict.fromkeys([\"\".join(i) for i in list(it.product(\"AGTC\", repeat=3))], 0)\n",
    "        \n",
    "        ## loop through all 3-mers to create a occurence dict\n",
    "        for seq in tqdm(self.train):\n",
    "            for i in range(2,len(seq)-2):\n",
    "                d_3mer[seq[i:i+3]] += 1\n",
    "        ## Now our dictinary looks like {3-mer: count}, \n",
    "        ## now let's turn it into {2-mer : {'A':count,\n",
    "        ##                                  'C':count, ...}}\n",
    "        \n",
    "        # initialize our 2-mer dict\n",
    "        d_2mer = dict.fromkeys([\"\".join(i) for i in list(it.product(\"AGTC\", repeat=2))], \n",
    "                               dict.fromkeys(bases,0))\n",
    "        \n",
    "        print(d_2mer)\n",
    "        # loop through the 3-mer dict to update probs. k3mer[:2] is the first 2 bases of the 3mer and [k3mer[:-1] is the last base\n",
    "        for k3mer, count in d_3mer.items():\n",
    "            print(\"[%s][%s]\"%(k3mer[:2],k3mer[-1:]))\n",
    "            print(count)\n",
    "            \n",
    "            d_2mer[k3mer[:2]][k3mer[-1:]] = count \n",
    "        \n",
    "        print(d_2mer)\n",
    "        ## now for each 2-mer dict, normalize the count distribution to find a probablit distribution that adds up to 1 \n",
    "        for k2mer, distribution in d_2mer.items():\n",
    "            normalization_factor=1/sum(distribution.values())\n",
    "            d_2mer[k2mer] = {base: count*normalization_factor for base, count in distribution.items()}\n",
    "        \n",
    "        ##  update d_3mer with the probabilities\n",
    "        for k2mer, distribution in d_2mer.items():\n",
    "            for base, probability in distribution.items():\n",
    "                d_3mer[k2mer+base] = probability\n",
    "        \n",
    "        self.prob_dict = d_3mer\n",
    "        \n",
    "       \n",
    "    \n",
    "    def create_first2_freq_dict(self):\n",
    "        d_2mer = dict.fromkeys([\"\".join(i) for i in list(it.product(\"AGTC\", repeat=2))], 0)\n",
    "        \n",
    "        ## loop through all 3-mers to create a occurence dict\n",
    "        for seq in tqdm(self.train):\n",
    "            d_2mer[seq[:2]] += 1\n",
    "        ## now normalize the dictionary to make all the values add up to 1 \n",
    "        normalization_factor=1/sum(d_2mer.values())\n",
    "        d_2mer = {k : v*normalization_factor for k,v in d_2mer.items()}\n",
    "        self.start_position_dict = d_2mer\n",
    "        "
   ]
  },
  {
   "cell_type": "markdown",
   "id": "e55e4ca6",
   "metadata": {},
   "source": [
    "### Let's create a model for the pythogen sequences"
   ]
  },
  {
   "cell_type": "code",
   "execution_count": 15,
   "id": "64a8a2c2",
   "metadata": {},
   "outputs": [
    {
     "name": "stdout",
     "output_type": "stream",
     "text": [
      "10000 samples read, splitting into train test sets...\n",
      "8500 training sample generated\n",
      "1500 test sample generated\n"
     ]
    }
   ],
   "source": [
    "pathogen = Markov_model()\n",
    "pathogen.read_data_as_sample(\"pathogen.fa\")"
   ]
  },
  {
   "cell_type": "code",
   "execution_count": 16,
   "id": "651a8524",
   "metadata": {},
   "outputs": [
    {
     "name": "stdout",
     "output_type": "stream",
     "text": [
      "Creating 3-mer probability dictionary...\n"
     ]
    },
    {
     "name": "stderr",
     "output_type": "stream",
     "text": [
      "100%|██████████| 8500/8500 [00:00<00:00, 26297.80it/s]\n"
     ]
    },
    {
     "name": "stdout",
     "output_type": "stream",
     "text": [
      "{'AA': {'A': 0, 'C': 0, 'T': 0, 'G': 0}, 'AG': {'A': 0, 'C': 0, 'T': 0, 'G': 0}, 'AT': {'A': 0, 'C': 0, 'T': 0, 'G': 0}, 'AC': {'A': 0, 'C': 0, 'T': 0, 'G': 0}, 'GA': {'A': 0, 'C': 0, 'T': 0, 'G': 0}, 'GG': {'A': 0, 'C': 0, 'T': 0, 'G': 0}, 'GT': {'A': 0, 'C': 0, 'T': 0, 'G': 0}, 'GC': {'A': 0, 'C': 0, 'T': 0, 'G': 0}, 'TA': {'A': 0, 'C': 0, 'T': 0, 'G': 0}, 'TG': {'A': 0, 'C': 0, 'T': 0, 'G': 0}, 'TT': {'A': 0, 'C': 0, 'T': 0, 'G': 0}, 'TC': {'A': 0, 'C': 0, 'T': 0, 'G': 0}, 'CA': {'A': 0, 'C': 0, 'T': 0, 'G': 0}, 'CG': {'A': 0, 'C': 0, 'T': 0, 'G': 0}, 'CT': {'A': 0, 'C': 0, 'T': 0, 'G': 0}, 'CC': {'A': 0, 'C': 0, 'T': 0, 'G': 0}}\n",
      "[AA][A]\n",
      "137491\n",
      "[AA][G]\n",
      "26241\n",
      "[AA][T]\n",
      "100973\n",
      "[AA][C]\n",
      "21412\n",
      "[AG][A]\n",
      "32203\n",
      "[AG][G]\n",
      "10917\n",
      "[AG][T]\n",
      "16377\n",
      "[AG][C]\n",
      "12385\n",
      "[AT][A]\n",
      "85460\n",
      "[AT][G]\n",
      "25694\n",
      "[AT][T]\n",
      "100417\n",
      "[AT][C]\n",
      "27792\n",
      "[AC][A]\n",
      "21044\n",
      "[AC][G]\n",
      "4509\n",
      "[AC][T]\n",
      "16410\n",
      "[AC][C]\n",
      "7560\n",
      "[GA][A]\n",
      "33831\n",
      "[GA][G]\n",
      "9267\n",
      "[GA][T]\n",
      "27523\n",
      "[GA][C]\n",
      "5449\n",
      "[GG][A]\n",
      "17104\n",
      "[GG][G]\n",
      "3247\n",
      "[GG][T]\n",
      "7159\n",
      "[GG][C]\n",
      "3357\n",
      "[GT][A]\n",
      "17902\n",
      "[GT][G]\n",
      "4663\n",
      "[GT][T]\n",
      "20678\n",
      "[GT][C]\n",
      "5289\n",
      "[GC][A]\n",
      "13275\n",
      "[GC][G]\n",
      "2478\n",
      "[GC][T]\n",
      "12499\n",
      "[GC][C]\n",
      "3330\n",
      "[TA][A]\n",
      "85272\n",
      "[TA][G]\n",
      "24813\n",
      "[TA][T]\n",
      "84557\n",
      "[TA][C]\n",
      "17619\n",
      "[TG][A]\n",
      "23045\n",
      "[TG][G]\n",
      "14675\n",
      "[TG][T]\n",
      "20489\n",
      "[TG][C]\n",
      "13265\n",
      "[TT][A]\n",
      "83933\n",
      "[TT][G]\n",
      "29609\n",
      "[TT][T]\n",
      "137217\n",
      "[TT][C]\n",
      "33401\n",
      "[TC][A]\n",
      "23373\n",
      "[TC][G]\n",
      "3630\n",
      "[TC][T]\n",
      "31902\n",
      "[TC][C]\n",
      "16985\n",
      "[CA][A]\n",
      "29579\n",
      "[CA][G]\n",
      "11503\n",
      "[CA][T]\n",
      "26325\n",
      "[CA][C]\n",
      "5043\n",
      "[CG][A]\n",
      "3722\n",
      "[CG][G]\n",
      "2063\n",
      "[CG][T]\n",
      "4485\n",
      "[CG][C]\n",
      "2586\n",
      "[CT][A]\n",
      "24942\n",
      "[CT][G]\n",
      "11464\n",
      "[CT][T]\n",
      "25921\n",
      "[CT][C]\n",
      "9376\n",
      "[CC][A]\n",
      "14768\n",
      "[CC][G]\n",
      "2234\n",
      "[CC][T]\n",
      "10871\n",
      "[CC][C]\n",
      "3397\n",
      "{'AA': {'A': 14768, 'C': 3397, 'T': 10871, 'G': 2234}, 'AG': {'A': 14768, 'C': 3397, 'T': 10871, 'G': 2234}, 'AT': {'A': 14768, 'C': 3397, 'T': 10871, 'G': 2234}, 'AC': {'A': 14768, 'C': 3397, 'T': 10871, 'G': 2234}, 'GA': {'A': 14768, 'C': 3397, 'T': 10871, 'G': 2234}, 'GG': {'A': 14768, 'C': 3397, 'T': 10871, 'G': 2234}, 'GT': {'A': 14768, 'C': 3397, 'T': 10871, 'G': 2234}, 'GC': {'A': 14768, 'C': 3397, 'T': 10871, 'G': 2234}, 'TA': {'A': 14768, 'C': 3397, 'T': 10871, 'G': 2234}, 'TG': {'A': 14768, 'C': 3397, 'T': 10871, 'G': 2234}, 'TT': {'A': 14768, 'C': 3397, 'T': 10871, 'G': 2234}, 'TC': {'A': 14768, 'C': 3397, 'T': 10871, 'G': 2234}, 'CA': {'A': 14768, 'C': 3397, 'T': 10871, 'G': 2234}, 'CG': {'A': 14768, 'C': 3397, 'T': 10871, 'G': 2234}, 'CT': {'A': 14768, 'C': 3397, 'T': 10871, 'G': 2234}, 'CC': {'A': 14768, 'C': 3397, 'T': 10871, 'G': 2234}}\n"
     ]
    },
    {
     "name": "stderr",
     "output_type": "stream",
     "text": [
      "100%|██████████| 8500/8500 [00:00<00:00, 2708675.28it/s]\n"
     ]
    }
   ],
   "source": [
    "pathogen.create_frequency_dict()\n",
    "pathogen.create_first2_freq_dict()"
   ]
  },
  {
   "cell_type": "code",
   "execution_count": 50,
   "id": "46dda7d9",
   "metadata": {},
   "outputs": [
    {
     "data": {
      "text/plain": [
       "{'AAA': 0.4722737448033259,\n",
       " 'AAG': 0.07144227694275664,\n",
       " 'AAT': 0.347649504317237,\n",
       " 'AAC': 0.10863447393668053,\n",
       " 'AGA': 0.4722737448033259,\n",
       " 'AGG': 0.07144227694275664,\n",
       " 'AGT': 0.347649504317237,\n",
       " 'AGC': 0.10863447393668053,\n",
       " 'ATA': 0.4722737448033259,\n",
       " 'ATG': 0.07144227694275664,\n",
       " 'ATT': 0.347649504317237,\n",
       " 'ATC': 0.10863447393668053,\n",
       " 'ACA': 0.4722737448033259,\n",
       " 'ACG': 0.07144227694275664,\n",
       " 'ACT': 0.347649504317237,\n",
       " 'ACC': 0.10863447393668053,\n",
       " 'GAA': 0.4722737448033259,\n",
       " 'GAG': 0.07144227694275664,\n",
       " 'GAT': 0.347649504317237,\n",
       " 'GAC': 0.10863447393668053,\n",
       " 'GGA': 0.4722737448033259,\n",
       " 'GGG': 0.07144227694275664,\n",
       " 'GGT': 0.347649504317237,\n",
       " 'GGC': 0.10863447393668053,\n",
       " 'GTA': 0.4722737448033259,\n",
       " 'GTG': 0.07144227694275664,\n",
       " 'GTT': 0.347649504317237,\n",
       " 'GTC': 0.10863447393668053,\n",
       " 'GCA': 0.4722737448033259,\n",
       " 'GCG': 0.07144227694275664,\n",
       " 'GCT': 0.347649504317237,\n",
       " 'GCC': 0.10863447393668053,\n",
       " 'TAA': 0.4722737448033259,\n",
       " 'TAG': 0.07144227694275664,\n",
       " 'TAT': 0.347649504317237,\n",
       " 'TAC': 0.10863447393668053,\n",
       " 'TGA': 0.4722737448033259,\n",
       " 'TGG': 0.07144227694275664,\n",
       " 'TGT': 0.347649504317237,\n",
       " 'TGC': 0.10863447393668053,\n",
       " 'TTA': 0.4722737448033259,\n",
       " 'TTG': 0.07144227694275664,\n",
       " 'TTT': 0.347649504317237,\n",
       " 'TTC': 0.10863447393668053,\n",
       " 'TCA': 0.4722737448033259,\n",
       " 'TCG': 0.07144227694275664,\n",
       " 'TCT': 0.347649504317237,\n",
       " 'TCC': 0.10863447393668053,\n",
       " 'CAA': 0.4722737448033259,\n",
       " 'CAG': 0.07144227694275664,\n",
       " 'CAT': 0.347649504317237,\n",
       " 'CAC': 0.10863447393668053,\n",
       " 'CGA': 0.4722737448033259,\n",
       " 'CGG': 0.07144227694275664,\n",
       " 'CGT': 0.347649504317237,\n",
       " 'CGC': 0.10863447393668053,\n",
       " 'CTA': 0.4722737448033259,\n",
       " 'CTG': 0.07144227694275664,\n",
       " 'CTT': 0.347649504317237,\n",
       " 'CTC': 0.10863447393668053,\n",
       " 'CCA': 0.4722737448033259,\n",
       " 'CCG': 0.07144227694275664,\n",
       " 'CCT': 0.347649504317237,\n",
       " 'CCC': 0.10863447393668053}"
      ]
     },
     "execution_count": 50,
     "metadata": {},
     "output_type": "execute_result"
    }
   ],
   "source": [
    "pathogen.prob_dict\n"
   ]
  },
  {
   "cell_type": "markdown",
   "id": "cf304a35",
   "metadata": {},
   "source": [
    "### Now another one for the sandmouse frequencies"
   ]
  },
  {
   "cell_type": "code",
   "execution_count": 6,
   "id": "c6594d99",
   "metadata": {},
   "outputs": [
    {
     "name": "stdout",
     "output_type": "stream",
     "text": [
      "10000 samples read, splitting into train test sets...\n",
      "8500 training sample generated\n",
      "1500 test sample generated\n",
      "Creating 3-mer probability dictionary...\n"
     ]
    },
    {
     "name": "stderr",
     "output_type": "stream",
     "text": [
      "100%|██████████| 8500/8500 [00:00<00:00, 27457.88it/s]\n",
      "100%|██████████| 8500/8500 [00:00<00:00, 2781368.70it/s]\n"
     ]
    },
    {
     "data": {
      "text/plain": [
       "{'AAA': 0.38326218511047516,\n",
       " 'AAG': 0.1101468311676127,\n",
       " 'AAT': 0.38846929680536657,\n",
       " 'AAC': 0.11812168691654547,\n",
       " 'AGA': 0.38326218511047516,\n",
       " 'AGG': 0.1101468311676127,\n",
       " 'AGT': 0.38846929680536657,\n",
       " 'AGC': 0.11812168691654547,\n",
       " 'ATA': 0.38326218511047516,\n",
       " 'ATG': 0.1101468311676127,\n",
       " 'ATT': 0.38846929680536657,\n",
       " 'ATC': 0.11812168691654547,\n",
       " 'ACA': 0.38326218511047516,\n",
       " 'ACG': 0.1101468311676127,\n",
       " 'ACT': 0.38846929680536657,\n",
       " 'ACC': 0.11812168691654547,\n",
       " 'GAA': 0.38326218511047516,\n",
       " 'GAG': 0.1101468311676127,\n",
       " 'GAT': 0.38846929680536657,\n",
       " 'GAC': 0.11812168691654547,\n",
       " 'GGA': 0.38326218511047516,\n",
       " 'GGG': 0.1101468311676127,\n",
       " 'GGT': 0.38846929680536657,\n",
       " 'GGC': 0.11812168691654547,\n",
       " 'GTA': 0.38326218511047516,\n",
       " 'GTG': 0.1101468311676127,\n",
       " 'GTT': 0.38846929680536657,\n",
       " 'GTC': 0.11812168691654547,\n",
       " 'GCA': 0.38326218511047516,\n",
       " 'GCG': 0.1101468311676127,\n",
       " 'GCT': 0.38846929680536657,\n",
       " 'GCC': 0.11812168691654547,\n",
       " 'TAA': 0.38326218511047516,\n",
       " 'TAG': 0.1101468311676127,\n",
       " 'TAT': 0.38846929680536657,\n",
       " 'TAC': 0.11812168691654547,\n",
       " 'TGA': 0.38326218511047516,\n",
       " 'TGG': 0.1101468311676127,\n",
       " 'TGT': 0.38846929680536657,\n",
       " 'TGC': 0.11812168691654547,\n",
       " 'TTA': 0.38326218511047516,\n",
       " 'TTG': 0.1101468311676127,\n",
       " 'TTT': 0.38846929680536657,\n",
       " 'TTC': 0.11812168691654547,\n",
       " 'TCA': 0.38326218511047516,\n",
       " 'TCG': 0.1101468311676127,\n",
       " 'TCT': 0.38846929680536657,\n",
       " 'TCC': 0.11812168691654547,\n",
       " 'CAA': 0.38326218511047516,\n",
       " 'CAG': 0.1101468311676127,\n",
       " 'CAT': 0.38846929680536657,\n",
       " 'CAC': 0.11812168691654547,\n",
       " 'CGA': 0.38326218511047516,\n",
       " 'CGG': 0.1101468311676127,\n",
       " 'CGT': 0.38846929680536657,\n",
       " 'CGC': 0.11812168691654547,\n",
       " 'CTA': 0.38326218511047516,\n",
       " 'CTG': 0.1101468311676127,\n",
       " 'CTT': 0.38846929680536657,\n",
       " 'CTC': 0.11812168691654547,\n",
       " 'CCA': 0.38326218511047516,\n",
       " 'CCG': 0.1101468311676127,\n",
       " 'CCT': 0.38846929680536657,\n",
       " 'CCC': 0.11812168691654547}"
      ]
     },
     "execution_count": 6,
     "metadata": {},
     "output_type": "execute_result"
    }
   ],
   "source": [
    "sandmouse = Markov_model()\n",
    "sandmouse.read_data_as_sample(\"sandmouse.fa\")\n",
    "sandmouse.create_frequency_dict()\n",
    "sandmouse.create_first2_freq_dict()\n",
    "sandmouse.prob_dict\n"
   ]
  },
  {
   "cell_type": "code",
   "execution_count": 7,
   "id": "60c256b0",
   "metadata": {},
   "outputs": [],
   "source": [
    "def get_log_likelihood(seqs, model):\n",
    "    \"\"\"Calculate the loglikelyhood ratio for each of the seq in the test set\"\"\"\n",
    "    log_likelihood = []\n",
    "    for seq in tqdm(seqs):\n",
    "        prob = [np.log10(model.start_position_dict[seq[:2]])]\n",
    "        for i in range(2,len(seq)-2):\n",
    "            prob.append(np.log10(model.prob_dict[seq[i:i+3]]))\n",
    "        log_likelihood.append(sum(prob))\n",
    "    return log_likelihood"
   ]
  },
  {
   "cell_type": "code",
   "execution_count": 8,
   "id": "5b5d68fe",
   "metadata": {},
   "outputs": [
    {
     "name": "stderr",
     "output_type": "stream",
     "text": [
      "100%|██████████| 1500/1500 [00:00<00:00, 5392.31it/s]\n",
      "100%|██████████| 1500/1500 [00:00<00:00, 6274.87it/s]\n",
      "100%|██████████| 1500/1500 [00:00<00:00, 6225.64it/s]\n",
      "100%|██████████| 1500/1500 [00:00<00:00, 6278.68it/s]\n"
     ]
    }
   ],
   "source": [
    "pathogen_llh_1 = get_log_likelihood(pathogen.test, pathogen)        \n",
    "pathogen_llh_2 = get_log_likelihood(pathogen.test, sandmouse)        \n",
    "pathogen_ratios = [llh1 - llh2 for llh1, llh2 in zip(pathogen_llh_1, pathogen_llh_2)]\n",
    "\n",
    "sandmouse_ratios = [llh1 - llh2 for llh1, llh2 in zip(get_log_likelihood(sandmouse.test, sandmouse), \n",
    "                                                      get_log_likelihood(sandmouse.test, pathogen))]"
   ]
  },
  {
   "cell_type": "code",
   "execution_count": 18,
   "id": "b4ca5c9c",
   "metadata": {},
   "outputs": [
    {
     "name": "stdout",
     "output_type": "stream",
     "text": [
      "Calculating ROC...\n"
     ]
    },
    {
     "name": "stderr",
     "output_type": "stream",
     "text": [
      "100%|██████████| 1500/1500 [00:00<00:00, 4911.99it/s]\n"
     ]
    }
   ],
   "source": [
    "## These are the same as in Q1, just with variable names changed\n",
    "\n",
    "tps = []\n",
    "fps = []\n",
    "thresholds = np.linspace(min(pathogen_ratios + sandmouse_ratios), max(pathogen_ratios + sandmouse_ratios), \n",
    "                         num=len(pathogen_ratios))\n",
    "\n",
    "print(\"Calculating ROC...\")\n",
    "for threshold in tqdm(thresholds):\n",
    "    tp = [1 if score >= threshold else 0 for score in pathogen_ratios]\n",
    "    fp = [1 if score >= threshold else 0 for score in sandmouse_ratios]    \n",
    "    tps.append(sum(tp)/len(pathogen_ratios))\n",
    "    fps.append(sum(fp)/len(sandmouse_ratios))\n",
    "\n",
    "\n",
    "def visualize_scores(tps, fps, output_filename=None):\n",
    "    fig, (ax1, ax2) = plt.subplots(1, 2, figsize=(17,8))\n",
    "    sns.set_style(\"white\")\n",
    "\n",
    "    bins = np.linspace(min(pathogen_ratios + sandmouse_ratios), max(pathogen_ratios + sandmouse_ratios), 60)\n",
    "    ax1.hist(pathogen_ratios, bins=bins, color = \"orange\", label=\"pathogen\", alpha = 1, density=True)\n",
    "    ax1.hist(sandmouse_ratios, bins=bins, color = \"black\", label=\"sandmouse\", alpha=0.3, density=True)\n",
    "\n",
    "    ax1.set_title(\"score histogram\")\n",
    "    ax1.set_xlabel(\"score\")\n",
    "    ax1.set_ylabel(\"frequency\")\n",
    "    ax1.legend()\n",
    "\n",
    "    ax2.plot(fps, tps)\n",
    "    ax2.set_title(\"ROC plot\")\n",
    "    ax2.set_xlabel(\"false positives\")\n",
    "    ax2.set_ylabel(\"true positives\")\n",
    "    if output_filename:\n",
    "        plt.savefig(output_filename, format=\"png\")\n",
    "    plt.show()"
   ]
  },
  {
   "cell_type": "code",
   "execution_count": 20,
   "id": "593cedab",
   "metadata": {},
   "outputs": [
    {
     "data": {
      "image/png": "[encoded data removed]",
      "text/plain": [
       "<Figure size 1224x576 with 2 Axes>"
      ]
     },
     "metadata": {},
     "output_type": "display_data"
    }
   ],
   "source": [
    "visualize_scores(tps, fps, \"markoc_roc.png\")\n"
   ]
  },
  {
   "cell_type": "code",
   "execution_count": 12,
   "id": "7750765d",
   "metadata": {},
   "outputs": [
    {
     "data": {
      "text/plain": [
       "2.69"
      ]
     },
     "execution_count": 12,
     "metadata": {},
     "output_type": "execute_result"
    }
   ],
   "source": [
    "## calculate how apart the two distributions are \n",
    "round((stat.mean(sandmouse_ratios)-stat.mean(pathogen_ratios))/stat.stdev(sandmouse_ratios),2)\n",
    "\n"
   ]
  },
  {
   "cell_type": "markdown",
   "id": "21e53783",
   "metadata": {},
   "source": [
    "Seems to be working. Nice ROC plot showing high TPs comparing to FPs. Also the log-likelihood distribution of the pathogen ad that of the sand mouth have different means ( > 2.5 standard deviations (of sandmouse) away), as shown in previous 2 chunks."
   ]
  },
  {
   "cell_type": "markdown",
   "id": "9276fb3d",
   "metadata": {},
   "source": [
    "## 3. how good is your method?\n",
    "Suppose the lab needs to achieve 90% sensitivity (i.e. detecting 90% of pathogen sequences).\n",
    "\n",
    "- What score threshold would you need to set?\n",
    "\n",
    "- What is your estimate for the false positive rate at that threshold?\n",
    "\n",
    "Remember that in an RNA-seq sample from an infected sand mouse, 1% of the reads are from the pathogen, and 99% of the reads are from the mouse. Using your estimates above, if you use your method to classify reads, what proportion of the reads that you label as \"pathogen\" are actually false positives from the sand mouse? (This is your false discovery rate, FDR.)\n",
    "\n",
    "(Use Python code to answer these questions, using the results of your testing above.)"
   ]
  },
  {
   "cell_type": "code",
   "execution_count": 13,
   "id": "10ee186d",
   "metadata": {},
   "outputs": [
    {
     "name": "stdout",
     "output_type": "stream",
     "text": [
      "Threshold to set: -3.425349316423991, with a sensitivity of 0.900667 \n",
      "False postive rate estimate at threshold -3: 1.000000\n"
     ]
    }
   ],
   "source": [
    "## find the indices of those thresholds with qualified sensitivities\n",
    "qualified = [i for i, sensitivity in enumerate(roc[\"true positives\"]) if sensitivity >= 0.9] \n",
    "index = max(qualified)  ## set it to the last index, meaning the one with lowest feasible sensitivity\n",
    "\n",
    "print(\"Threshold to set: %s, with a sensitivity of %f \" % (thresholds[index], roc[\"true positives\"][index]))\n",
    "print(\"False postive rate estimate at threshold %i: %f\" % (thresholds[index], roc[\"false positives\"][index]))\n",
    "\n"
   ]
  },
  {
   "cell_type": "code",
   "execution_count": null,
   "id": "fe3f7551",
   "metadata": {},
   "outputs": [],
   "source": []
  }
 ],
 "metadata": {
  "kernelspec": {
   "display_name": "Python 3",
   "language": "python",
   "name": "python3"
  },
  "language_info": {
   "codemirror_mode": {
    "name": "ipython",
    "version": 3
   },
   "file_extension": ".py",
   "mimetype": "text/x-python",
   "name": "python",
   "nbconvert_exporter": "python",
   "pygments_lexer": "ipython3",
   "version": "3.8.5"
  }
 },
 "nbformat": 4,
 "nbformat_minor": 5
}
