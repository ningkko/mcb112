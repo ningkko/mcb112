{
 "cells": [
  {
   "cell_type": "markdown",
   "metadata": {},
   "source": [
    "# _A MIXTURE OF FIVE_"
   ]
  },
  {
   "cell_type": "code",
   "execution_count": 1,
   "metadata": {},
   "outputs": [],
   "source": [
    "import numpy as np\n",
    "import math\n",
    "import pandas as pd\n",
    "import scipy.spatial.distance as dis\n",
    "import matplotlib.pyplot as plt\n",
    "import matplotlib.cm as cm\n",
    "import numpy.random as rand\n",
    "import scipy.stats as stats\n",
    "import scipy.misc as misc\n",
    "import scipy.special as special\n",
    "from collections import Counter"
   ]
  },
  {
   "cell_type": "markdown",
   "metadata": {},
   "source": [
    "## 1. Reproducing Wiggins' result"
   ]
  },
  {
   "cell_type": "markdown",
   "metadata": {},
   "source": [
    "_I credit the code below to MCB112's section 6 notes and homework hint code (for producing the visual), with changes to the code to account for the fact that there are now 2 dimensions instead of 1, as well as updated the docstring for the methods to be in line with the updated methods._\n",
    "\n",
    "We reproduce Wiggins' result using the _k_-means clustering procedure. I repeat the _k_-means algorithm 20 times and obtain the best cluster estimates out of those iterations -- \"best\" being defined as the cluster estimates that give us the minimum total squared distance from each cell to the cluster means. In each iteration, centroids/cluster estimates are chosen in one of 3 ways:\n",
    "\n",
    "1. By taking the minimum and maximum read counts for both Caraway and Kiwi genes, and then randomly sample 5 numbers in between the minimums and maximums for each gene, evenly split into 10000 intervals.\n",
    "2. By taking 5 random data points (or cells) from our data, and have them serve as our initial estimates.\n",
    "3. By randomly assigning all the cells to a cluster, and then calculating the mean estimate of the cluster by taking the mean of all the Caraway and Kiwi mapped counts of the cells assigned to the clusters.\n",
    "\n",
    "A review of the _k_-means algorithm is as follows: Using the ```assignment``` method given to us in section notes, for every cell, we find the cell's closest cluster by calculating the minimum Euclidean distance $d_i$ from the $i^{th}$ cell to each of the five cluster estimates. The Euclidean distance can be calculated by:\n",
    "\n",
    "$$d_i = \\sqrt{(x_{i0} - q_0)^2 + (x_{i1} - q_1)^2}$$\n",
    "\n",
    "where $x_{i0}$ and $x_{i1}$ represent the $i^{th}$ cell's Caraway read counts and Kiwi counts respectively and $q_{0}$ and $q_{1}$ represent the cluster's Caraway read counts and Kiwi counts respectively.\n",
    " \n",
    "We assign the cell to the cluster which yields the minimum Euclidean distance from that cell. Any cluster that does not have any cell assigned to it will have the cell that is furthest away from its assigned cluster be assigned to that cluster (using the ```assign_empty``` method), as the most outlier cell will theoretically be more likely to not belong in its cluster.\n",
    "\n",
    "After assigning all the cells to their clusters, we ```update``` the five clusters that we have by taking the average mean counts for Caraway and Kiwi of all the cells in their respective clusters.\n",
    "\n",
    "We repeat these steps until there is no difference from the previous cluster estimate to our current cluster estimate.\n",
    "\n",
    "###### Q: What is a good statistic for choosing the \"best\" solution for K-means?\n",
    "\n",
    "As previously mentioned before, a good statistic for choosing the \"best\" solution for K-means is the smallest total squared distance generated of all 20 iterations of K-means. Furthermore, as there are multiple ways of initializing our estimates, we take the minimum total squared distance of the overall K-means algorithm from the 3 methods."
   ]
  },
  {
   "cell_type": "markdown",
   "metadata": {},
   "source": [
    "##### METHODS TO PERFORM THE K-MEANS CLUSTERING ALGORITHM"
   ]
  },
  {
   "cell_type": "code",
   "execution_count": 4,
   "metadata": {},
   "outputs": [],
   "source": [
    "# CREDIT: THE SCRIPT WIGGINS USED TO READ IN THE DATA\n",
    "def read_data(infile):\n",
    "    '''\n",
    "    read_data(infile)\n",
    "    Read Lestrade's input file, w06-data.tbl, or a file in that format.\n",
    "    Return:\n",
    "       ctype[0..N-1] : cell types 0..Q-1 for each cell i\n",
    "       data[i,g]     : array of count data; rows = cells i; cols = genes g\n",
    "       N             : number of cells (rows of the data file)\n",
    "       G             : number of genes (cols of the data file, after the first)\n",
    "       Q             : number of cell types\n",
    "    '''\n",
    "    ctype = []\n",
    "    data  = []\n",
    "    with open(infile) as f:\n",
    "        for line in f:\n",
    "            if line[0] == '#': continue   # skip comment lines\n",
    "            fields = line.split()\n",
    "            ctype.append(int(fields[1]))\n",
    "            data.append( (int(fields[2]), int(fields[3])))  # assumes exactly 2 genes!!\n",
    "    ctype = np.array(ctype)\n",
    "    data  = np.array(data)\n",
    "    N, G  = np.shape(data)\n",
    "    Q     = np.max(ctype) + 1\n",
    "    return ctype, data, N, G, Q"
   ]
  },
  {
   "cell_type": "code",
   "execution_count": 5,
   "metadata": {},
   "outputs": [],
   "source": [
    "def calc_distance(point, center):\n",
    "    '''Finds the Euclidean distance from a point and a center.\n",
    "\n",
    "    Parameters\n",
    "    ----------\n",
    "    point    : list or 1D array\n",
    "               list of coordinates\n",
    "    center   : list or 1D array\n",
    "               list of coordinates\n",
    "               \n",
    "    Returns\n",
    "    ----------\n",
    "    dist     : float\n",
    "               Euclidean distance between point and center. \n",
    "    '''\n",
    "    if len(point) != len(center):\n",
    "        raise Exception ('Dimensions do not match.')\n",
    "    \n",
    "    dist = 0\n",
    "    \n",
    "    for i in len(point):\n",
    "        dist += (point[i] - center[i]) ** 2\n",
    "    \n",
    "    dist = math.sqrt(dist)\n",
    "    return dist\n",
    "    \n",
    "    \n",
    "def assignment(data,centers):  \n",
    "    '''\n",
    "    Return current cluster assigned to each point, as well as the \n",
    "    sum of this distances between each point and its assigned cluster\n",
    "    \n",
    "    Parameters\n",
    "    ----------\n",
    "    data     : list of lists or 2D array\n",
    "               list of each cell's mapped counts for Caraway and Kiwi genes\n",
    "    centers  : list of current center estimates for the clusters\n",
    "       \n",
    "    Returns\n",
    "    -------\n",
    "    clusters : list or 1D array\n",
    "               list of current cluster assignment for each point\n",
    "    distance : float\n",
    "               sum of distances between each point and its assigned cluster center\n",
    "    '''\n",
    "    \n",
    "    # Find minimum Euclidean distance between cell and each cluster center\n",
    "    distances = [np.min([calc_distance(cell, i) for i in centers]) for cell in data]\n",
    "    \n",
    "    # Assign each point to the closest cluster center\n",
    "    clusters =  [np.argmin([calc_distance(cell, i) for i in centers]) for cell in data]\n",
    "    \n",
    "    # Count how many points in each cluster\n",
    "    c = Counter(clusters)\n",
    "    \n",
    "    # Look for empty clusters\n",
    "    for x in set(range(len(centers))).difference(set(c.keys())):\n",
    "        clusters,distances =  assign_empty(x,clusters,distances)\n",
    "    distance = sum(distances)\n",
    "    \n",
    "    return clusters, distance\n",
    "\n",
    "# CREDIT: SECTION NOTES\n",
    "def assign_empty(c,clusters,distances):\n",
    "    \n",
    "    '''\n",
    "    Assigns the point furthest from its current cluster center to an empty cluster\n",
    "    Returns an updated cluster list and updatd distances list\n",
    "    \n",
    "    Parameters\n",
    "    ----------\n",
    "    c        : int\n",
    "               number of empty cluster   \n",
    "    clusters : list or 1D array\n",
    "               list of current cluster assignment for each point\n",
    "    distances: list or 1D array\n",
    "               list of current distances between each point and its assigned center\n",
    "       \n",
    "    Returns\n",
    "    -------\n",
    "    clusters : list or 1D array\n",
    "               list of current cluster assignment for each cell\n",
    "    distances: list or 1D array\n",
    "               list of current distances between each cell and its assigned center\n",
    "    '''\n",
    "    \n",
    "    # find index of point furthest from its assigned center\n",
    "    max_idx = np.argmax(distances)\n",
    "    \n",
    "    # set distances at that index to 0\n",
    "    distances[max_idx] = 0\n",
    "    \n",
    "    # set clusters at that index to empty cluster\n",
    "    clusters[max_idx] = c\n",
    "    \n",
    "    return clusters,distances\n",
    "\n",
    "# CREDIT: SECTION NOTES\n",
    "def update(coords, clusters, num_clust):\n",
    "    \n",
    "    '''\n",
    "    Calculates the new cluster centers as an average of the positions of all \n",
    "    points included in the cluster.\n",
    "    \n",
    "    Parameters\n",
    "    ----------\n",
    "    coords   : list or 2D ndarray\n",
    "               list X-coordinates of all points   \n",
    "    clusters : list or 1D array\n",
    "               list of current cluster assignment for each point\n",
    "    num_clust: int\n",
    "               number of clusters\n",
    "       \n",
    "    Returns\n",
    "    -------\n",
    "    centers  : list of lists or 2D array\n",
    "               list of current estimated center for each cluster\n",
    "    '''\n",
    "    coords = np.asarray(coords)\n",
    "    \n",
    "    # Find indices of each point assigned to each cluster\n",
    "    clusters = ([np.where(np.asarray(clusters) == x) for x in range(num_clust)])\n",
    "    \n",
    "    # Average position of each point assigned to each cluster\n",
    "    centers = [np.mean(coords[clusters[x]],0) for x in range(len(clusters))]    \n",
    "\n",
    "    return centers"
   ]
  },
  {
   "cell_type": "code",
   "execution_count": 6,
   "metadata": {},
   "outputs": [],
   "source": [
    "# CREDIT: THE SCRIPT WIGGINS USED TO VISUALIZE DATA AFTER K-MEANS CLUSTERING\n",
    "def visualize_data(data, mu, C):\n",
    "    '''\n",
    "    visualize_data():\n",
    "\n",
    "    This might give you a starting point that saves some matplotlib\n",
    "    machinations; you can certainly spiff this up from here.\n",
    "\n",
    "    Input:\n",
    "       data[i,g] : count data for each cell i, for each gene g\n",
    "       mu[q,g]   : array of mean counts for mixture q, gene g\n",
    "       C[i]      : assignment of cell i to a cluster 0..Q-1\n",
    "       outpng    : save figure to PNG file (must end in .png; example 'foo.png')\n",
    "\n",
    "    '''\n",
    "    N, G  = np.shape(data)\n",
    "    Q, G2 = np.shape(mu)\n",
    "    assert G == G2\n",
    "    assert len(C) == N\n",
    "\n",
    "    # We can assign colors to up to Q=10 components. If you want more, add more.\n",
    "    colormap = ['xkcd:orange', 'xkcd:olive',     'xkcd:azure',    'xkcd:rose', 'xkcd:mustard', \n",
    "                'xkcd:peach',  'xkcd:turquoise', 'xkcd:lavender', 'xkcd:rust', 'xkcd:red']\n",
    "\n",
    "    fig, ax = plt.subplots()\n",
    "    for i in range(N):\n",
    "        edgecolor = colormap[ C[i]]\n",
    "        fillcolor = 'w'\n",
    "        shape     = 'o'\n",
    "        ax.loglog( data[i,0], data[i,1], marker=shape, mec=edgecolor, mfc=fillcolor, mew=1.5)\n",
    "\n",
    "    for q in range(Q):\n",
    "        ax.loglog(mu[q,0], mu[q,1], '*k', ms=10)\n",
    "\n",
    "    ax.set_xlabel('caraway (counts)')\n",
    "    ax.set_ylabel('kiwi (counts)')\n",
    "\n",
    "    plt.show()"
   ]
  },
  {
   "cell_type": "markdown",
   "metadata": {},
   "source": [
    "Here, I create an overarching k-means method that utilizes the functions from above, and allows the user to choose which initialziation method they want: random points from space, random points from data, or assigning points random clusters and taking the centroids of those clusters."
   ]
  },
  {
   "cell_type": "code",
   "execution_count": 7,
   "metadata": {},
   "outputs": [],
   "source": [
    "# GENERAL CUSTOM METHOD THAT USES CODE FROM SECTION TO RUN K-MEANS\n",
    "# WITH A VARIETY OF INITIALIZATION METHODS\n",
    "def kmeans(data, init, num_clust, iters):\n",
    "    '''\n",
    "    Calculates the hard k-means clustering.\n",
    "    \n",
    "    Parameters\n",
    "    ----------\n",
    "    data     : list or 2D ndarray\n",
    "               Coordinates of all points   \n",
    "    init     : initialization method\n",
    "               1: random points from space; \n",
    "               2: random points from data; \n",
    "               3: assigning points random clusters\n",
    "    num_clust: int\n",
    "               number of clusters\n",
    "    iters    : int\n",
    "               number of iterations\n",
    "       \n",
    "    Returns\n",
    "    -------\n",
    "    min_dist      : float\n",
    "                    minimum total squared distance from the iterations\n",
    "    centers_best  : list of lists or 2D array\n",
    "                    list of current estimated center for each cluster\n",
    "    clusters_best : list or 1D array\n",
    "                    list of current best cluster for each cell\n",
    "    '''\n",
    "    # Initialize best clusters\n",
    "    min_dist = float('inf')\n",
    "    clusters_best = []\n",
    "    \n",
    "    # Min and max data for the coordinates\n",
    "    min_x, min_y = np.min(data,0)\n",
    "    max_x, max_y = np.max(data,0)\n",
    "    \n",
    "    np.random.seed(0)\n",
    "    \n",
    "    # CREDIT: SECTION NOTES\n",
    "    # Loop on iters\n",
    "    for i in range(iters):\n",
    "\n",
    "        # Initialize centroids using random points from space\n",
    "        if init == 1:\n",
    "            # Each iteration starts with a random set of centers\n",
    "            # Centers randomly chosen in between minimum and maximum counts\n",
    "            x_centers = np.random.choice(np.linspace(min_x,max_x,10000),num_clust)\n",
    "            y_centers = np.random.choice(np.linspace(min_y,max_y,10000),num_clust)\n",
    "            centers = np.array(list(zip(x_centers, y_centers)))\n",
    "        \n",
    "        # Initialize centroids using random points from data\n",
    "        elif init == 2:\n",
    "            # Getting num_clust random indices to get from the data\n",
    "            idx = np.random.randint(len(data), size=num_clust)\n",
    "            centers = data[idx,:]\n",
    "            \n",
    "        # Initialize centroids by randomly assigning clusters to data and finding means\n",
    "        else:\n",
    "            # randomly assigning each data point to a cluster\n",
    "            rand_clusters = np.random.randint(0, num_clust + 1, size=len(data))\n",
    "            centers = update(data, rand_clusters, num_clust)\n",
    "            \n",
    "        # Start with empty clusters\n",
    "        clusters_old = []*len(data)\n",
    "        clusters = [0]* len(data)\n",
    "\n",
    "        # Iterate until clusters don't change\n",
    "        while clusters != clusters_old:\n",
    "\n",
    "            # Update clusters\n",
    "            clusters_old = clusters\n",
    "\n",
    "            # New Assignment \n",
    "            clusters,distance = assignment(data,centers)        \n",
    "\n",
    "            # New centers\n",
    "            centers = update(data, clusters, num_clust)\n",
    "\n",
    "        # Save clusters and centers if it has minimal summ distance to date\n",
    "        if distance < min_dist:            \n",
    "            min_dist = distance\n",
    "            centers_best = centers\n",
    "            clusters_best = clusters\n",
    "            \n",
    "    return (min_dist, centers_best, clusters_best)"
   ]
  },
  {
   "cell_type": "markdown",
   "metadata": {},
   "source": [
    "##### PERFORMING THE K-MEANS CLUSTERING ALGORITHM"
   ]
  },
  {
   "cell_type": "code",
   "execution_count": 9,
   "metadata": {},
   "outputs": [],
   "source": [
    "# actual cell types, data, number of cells, number of genes, number of clusters\n",
    "ctype, data, num_cells, num_genes, num_clust = read_data('w05-data.tbl')"
   ]
  },
  {
   "cell_type": "markdown",
   "metadata": {},
   "source": [
    "To choose the best cluster centers, we run the k-means algorithm for 20 iterations 3 times -- once for each initialization method. Out of the three runs of the k-means algorithm, we take the best clusters/centers from the method that produces the smallest total squared distance, which is the ```min_dist``` produced by the ```kmeans``` method implemented above."
   ]
  },
  {
   "cell_type": "code",
   "execution_count": 12,
   "metadata": {},
   "outputs": [
    {
     "ename": "TypeError",
     "evalue": "'int' object is not iterable",
     "output_type": "error",
     "traceback": [
      "\u001b[0;31m---------------------------------------------------------------------------\u001b[0m",
      "\u001b[0;31mTypeError\u001b[0m                                 Traceback (most recent call last)",
      "\u001b[0;32m<ipython-input-12-e5c881104a8f>\u001b[0m in \u001b[0;36m<module>\u001b[0;34m\u001b[0m\n\u001b[1;32m      1\u001b[0m \u001b[0;31m# running k-means by initializing random points in space as centroids\u001b[0m\u001b[0;34m\u001b[0m\u001b[0;34m\u001b[0m\u001b[0;34m\u001b[0m\u001b[0m\n\u001b[0;32m----> 2\u001b[0;31m \u001b[0mkmeans_rspace\u001b[0m \u001b[0;34m=\u001b[0m \u001b[0mkmeans\u001b[0m\u001b[0;34m(\u001b[0m\u001b[0mdata\u001b[0m\u001b[0;34m,\u001b[0m \u001b[0;36m1\u001b[0m\u001b[0;34m,\u001b[0m \u001b[0mnum_clust\u001b[0m\u001b[0;34m,\u001b[0m \u001b[0;36m20\u001b[0m\u001b[0;34m)\u001b[0m\u001b[0;34m\u001b[0m\u001b[0;34m\u001b[0m\u001b[0m\n\u001b[0m\u001b[1;32m      3\u001b[0m \u001b[0;34m\u001b[0m\u001b[0m\n\u001b[1;32m      4\u001b[0m \u001b[0;31m# running k-means by initializing random points in data as centroids\u001b[0m\u001b[0;34m\u001b[0m\u001b[0;34m\u001b[0m\u001b[0;34m\u001b[0m\u001b[0m\n\u001b[1;32m      5\u001b[0m \u001b[0mkmeans_rdata\u001b[0m \u001b[0;34m=\u001b[0m \u001b[0mkmeans\u001b[0m\u001b[0;34m(\u001b[0m\u001b[0mdata\u001b[0m\u001b[0;34m,\u001b[0m \u001b[0;36m2\u001b[0m\u001b[0;34m,\u001b[0m \u001b[0mnum_clust\u001b[0m\u001b[0;34m,\u001b[0m \u001b[0;36m20\u001b[0m\u001b[0;34m)\u001b[0m\u001b[0;34m\u001b[0m\u001b[0;34m\u001b[0m\u001b[0m\n",
      "\u001b[0;32m<ipython-input-7-d9156426b1b1>\u001b[0m in \u001b[0;36mkmeans\u001b[0;34m(data, init, num_clust, iters)\u001b[0m\n\u001b[1;32m     72\u001b[0m \u001b[0;34m\u001b[0m\u001b[0m\n\u001b[1;32m     73\u001b[0m             \u001b[0;31m# New Assignment\u001b[0m\u001b[0;34m\u001b[0m\u001b[0;34m\u001b[0m\u001b[0;34m\u001b[0m\u001b[0m\n\u001b[0;32m---> 74\u001b[0;31m             \u001b[0mclusters\u001b[0m\u001b[0;34m,\u001b[0m\u001b[0mdistance\u001b[0m \u001b[0;34m=\u001b[0m \u001b[0massignment\u001b[0m\u001b[0;34m(\u001b[0m\u001b[0mdata\u001b[0m\u001b[0;34m,\u001b[0m\u001b[0mcenters\u001b[0m\u001b[0;34m)\u001b[0m\u001b[0;34m\u001b[0m\u001b[0;34m\u001b[0m\u001b[0m\n\u001b[0m\u001b[1;32m     75\u001b[0m \u001b[0;34m\u001b[0m\u001b[0m\n\u001b[1;32m     76\u001b[0m             \u001b[0;31m# New centers\u001b[0m\u001b[0;34m\u001b[0m\u001b[0;34m\u001b[0m\u001b[0;34m\u001b[0m\u001b[0m\n",
      "\u001b[0;32m<ipython-input-5-715e7ba14e16>\u001b[0m in \u001b[0;36massignment\u001b[0;34m(data, centers)\u001b[0m\n\u001b[1;32m     46\u001b[0m \u001b[0;34m\u001b[0m\u001b[0m\n\u001b[1;32m     47\u001b[0m     \u001b[0;31m# Find minimum Euclidean distance between cell and each cluster center\u001b[0m\u001b[0;34m\u001b[0m\u001b[0;34m\u001b[0m\u001b[0;34m\u001b[0m\u001b[0m\n\u001b[0;32m---> 48\u001b[0;31m     \u001b[0mdistances\u001b[0m \u001b[0;34m=\u001b[0m \u001b[0;34m[\u001b[0m\u001b[0mnp\u001b[0m\u001b[0;34m.\u001b[0m\u001b[0mmin\u001b[0m\u001b[0;34m(\u001b[0m\u001b[0;34m[\u001b[0m\u001b[0mcalc_distance\u001b[0m\u001b[0;34m(\u001b[0m\u001b[0mcell\u001b[0m\u001b[0;34m,\u001b[0m \u001b[0mi\u001b[0m\u001b[0;34m)\u001b[0m \u001b[0;32mfor\u001b[0m \u001b[0mi\u001b[0m \u001b[0;32min\u001b[0m \u001b[0mcenters\u001b[0m\u001b[0;34m]\u001b[0m\u001b[0;34m)\u001b[0m \u001b[0;32mfor\u001b[0m \u001b[0mcell\u001b[0m \u001b[0;32min\u001b[0m \u001b[0mdata\u001b[0m\u001b[0;34m]\u001b[0m\u001b[0;34m\u001b[0m\u001b[0;34m\u001b[0m\u001b[0m\n\u001b[0m\u001b[1;32m     49\u001b[0m \u001b[0;34m\u001b[0m\u001b[0m\n\u001b[1;32m     50\u001b[0m     \u001b[0;31m# Assign each point to the closest cluster center\u001b[0m\u001b[0;34m\u001b[0m\u001b[0;34m\u001b[0m\u001b[0;34m\u001b[0m\u001b[0m\n",
      "\u001b[0;32m<ipython-input-5-715e7ba14e16>\u001b[0m in \u001b[0;36m<listcomp>\u001b[0;34m(.0)\u001b[0m\n\u001b[1;32m     46\u001b[0m \u001b[0;34m\u001b[0m\u001b[0m\n\u001b[1;32m     47\u001b[0m     \u001b[0;31m# Find minimum Euclidean distance between cell and each cluster center\u001b[0m\u001b[0;34m\u001b[0m\u001b[0;34m\u001b[0m\u001b[0;34m\u001b[0m\u001b[0m\n\u001b[0;32m---> 48\u001b[0;31m     \u001b[0mdistances\u001b[0m \u001b[0;34m=\u001b[0m \u001b[0;34m[\u001b[0m\u001b[0mnp\u001b[0m\u001b[0;34m.\u001b[0m\u001b[0mmin\u001b[0m\u001b[0;34m(\u001b[0m\u001b[0;34m[\u001b[0m\u001b[0mcalc_distance\u001b[0m\u001b[0;34m(\u001b[0m\u001b[0mcell\u001b[0m\u001b[0;34m,\u001b[0m \u001b[0mi\u001b[0m\u001b[0;34m)\u001b[0m \u001b[0;32mfor\u001b[0m \u001b[0mi\u001b[0m \u001b[0;32min\u001b[0m \u001b[0mcenters\u001b[0m\u001b[0;34m]\u001b[0m\u001b[0;34m)\u001b[0m \u001b[0;32mfor\u001b[0m \u001b[0mcell\u001b[0m \u001b[0;32min\u001b[0m \u001b[0mdata\u001b[0m\u001b[0;34m]\u001b[0m\u001b[0;34m\u001b[0m\u001b[0;34m\u001b[0m\u001b[0m\n\u001b[0m\u001b[1;32m     49\u001b[0m \u001b[0;34m\u001b[0m\u001b[0m\n\u001b[1;32m     50\u001b[0m     \u001b[0;31m# Assign each point to the closest cluster center\u001b[0m\u001b[0;34m\u001b[0m\u001b[0;34m\u001b[0m\u001b[0;34m\u001b[0m\u001b[0m\n",
      "\u001b[0;32m<ipython-input-5-715e7ba14e16>\u001b[0m in \u001b[0;36m<listcomp>\u001b[0;34m(.0)\u001b[0m\n\u001b[1;32m     46\u001b[0m \u001b[0;34m\u001b[0m\u001b[0m\n\u001b[1;32m     47\u001b[0m     \u001b[0;31m# Find minimum Euclidean distance between cell and each cluster center\u001b[0m\u001b[0;34m\u001b[0m\u001b[0;34m\u001b[0m\u001b[0;34m\u001b[0m\u001b[0m\n\u001b[0;32m---> 48\u001b[0;31m     \u001b[0mdistances\u001b[0m \u001b[0;34m=\u001b[0m \u001b[0;34m[\u001b[0m\u001b[0mnp\u001b[0m\u001b[0;34m.\u001b[0m\u001b[0mmin\u001b[0m\u001b[0;34m(\u001b[0m\u001b[0;34m[\u001b[0m\u001b[0mcalc_distance\u001b[0m\u001b[0;34m(\u001b[0m\u001b[0mcell\u001b[0m\u001b[0;34m,\u001b[0m \u001b[0mi\u001b[0m\u001b[0;34m)\u001b[0m \u001b[0;32mfor\u001b[0m \u001b[0mi\u001b[0m \u001b[0;32min\u001b[0m \u001b[0mcenters\u001b[0m\u001b[0;34m]\u001b[0m\u001b[0;34m)\u001b[0m \u001b[0;32mfor\u001b[0m \u001b[0mcell\u001b[0m \u001b[0;32min\u001b[0m \u001b[0mdata\u001b[0m\u001b[0;34m]\u001b[0m\u001b[0;34m\u001b[0m\u001b[0;34m\u001b[0m\u001b[0m\n\u001b[0m\u001b[1;32m     49\u001b[0m \u001b[0;34m\u001b[0m\u001b[0m\n\u001b[1;32m     50\u001b[0m     \u001b[0;31m# Assign each point to the closest cluster center\u001b[0m\u001b[0;34m\u001b[0m\u001b[0;34m\u001b[0m\u001b[0;34m\u001b[0m\u001b[0m\n",
      "\u001b[0;32m<ipython-input-5-715e7ba14e16>\u001b[0m in \u001b[0;36mcalc_distance\u001b[0;34m(point, center)\u001b[0m\n\u001b[1;32m     19\u001b[0m     \u001b[0mdist\u001b[0m \u001b[0;34m=\u001b[0m \u001b[0;36m0\u001b[0m\u001b[0;34m\u001b[0m\u001b[0;34m\u001b[0m\u001b[0m\n\u001b[1;32m     20\u001b[0m \u001b[0;34m\u001b[0m\u001b[0m\n\u001b[0;32m---> 21\u001b[0;31m     \u001b[0;32mfor\u001b[0m \u001b[0mi\u001b[0m \u001b[0;32min\u001b[0m \u001b[0mlen\u001b[0m\u001b[0;34m(\u001b[0m\u001b[0mpoint\u001b[0m\u001b[0;34m)\u001b[0m\u001b[0;34m:\u001b[0m\u001b[0;34m\u001b[0m\u001b[0;34m\u001b[0m\u001b[0m\n\u001b[0m\u001b[1;32m     22\u001b[0m         \u001b[0mdist\u001b[0m \u001b[0;34m+=\u001b[0m \u001b[0;34m(\u001b[0m\u001b[0mpoint\u001b[0m\u001b[0;34m[\u001b[0m\u001b[0mi\u001b[0m\u001b[0;34m]\u001b[0m \u001b[0;34m-\u001b[0m \u001b[0mcenter\u001b[0m\u001b[0;34m[\u001b[0m\u001b[0mi\u001b[0m\u001b[0;34m]\u001b[0m\u001b[0;34m)\u001b[0m \u001b[0;34m**\u001b[0m \u001b[0;36m2\u001b[0m\u001b[0;34m\u001b[0m\u001b[0;34m\u001b[0m\u001b[0m\n\u001b[1;32m     23\u001b[0m \u001b[0;34m\u001b[0m\u001b[0m\n",
      "\u001b[0;31mTypeError\u001b[0m: 'int' object is not iterable"
     ]
    }
   ],
   "source": [
    "# running k-means by initializing random points in space as centroids\n",
    "kmeans_rspace = kmeans(data, 1, num_clust, 20)\n",
    "\n",
    "# running k-means by initializing random points in data as centroids\n",
    "kmeans_rdata = kmeans(data, 2, num_clust, 20)\n",
    "\n",
    "# running k-means by initializing random clusters to data\n",
    "kmeans_rclusters = kmeans(data, 3, num_clust, 20)"
   ]
  },
  {
   "cell_type": "code",
   "execution_count": 11,
   "metadata": {},
   "outputs": [
    {
     "ename": "NameError",
     "evalue": "name 'kmeans_rspace' is not defined",
     "output_type": "error",
     "traceback": [
      "\u001b[0;31m---------------------------------------------------------------------------\u001b[0m",
      "\u001b[0;31mNameError\u001b[0m                                 Traceback (most recent call last)",
      "\u001b[0;32m<ipython-input-11-c5f8a49d2a10>\u001b[0m in \u001b[0;36m<module>\u001b[0;34m\u001b[0m\n\u001b[0;32m----> 1\u001b[0;31m \u001b[0mmin_dists\u001b[0m \u001b[0;34m=\u001b[0m \u001b[0;34m[\u001b[0m\u001b[0mkmeans_rspace\u001b[0m\u001b[0;34m[\u001b[0m\u001b[0;36m0\u001b[0m\u001b[0;34m]\u001b[0m\u001b[0;34m,\u001b[0m \u001b[0mkmeans_rdata\u001b[0m\u001b[0;34m[\u001b[0m\u001b[0;36m0\u001b[0m\u001b[0;34m]\u001b[0m\u001b[0;34m,\u001b[0m \u001b[0mkmeans_rclusters\u001b[0m\u001b[0;34m[\u001b[0m\u001b[0;36m0\u001b[0m\u001b[0;34m]\u001b[0m\u001b[0;34m]\u001b[0m\u001b[0;34m\u001b[0m\u001b[0;34m\u001b[0m\u001b[0m\n\u001b[0m\u001b[1;32m      2\u001b[0m \u001b[0;34m\u001b[0m\u001b[0m\n\u001b[1;32m      3\u001b[0m \u001b[0;32mif\u001b[0m \u001b[0mnp\u001b[0m\u001b[0;34m.\u001b[0m\u001b[0margmin\u001b[0m\u001b[0;34m(\u001b[0m\u001b[0mmin_dists\u001b[0m\u001b[0;34m)\u001b[0m \u001b[0;34m==\u001b[0m \u001b[0;36m0\u001b[0m\u001b[0;34m:\u001b[0m\u001b[0;34m\u001b[0m\u001b[0;34m\u001b[0m\u001b[0m\n\u001b[1;32m      4\u001b[0m     \u001b[0mmin_dist\u001b[0m \u001b[0;34m=\u001b[0m \u001b[0mkmeans_rspace\u001b[0m\u001b[0;34m[\u001b[0m\u001b[0;36m0\u001b[0m\u001b[0;34m]\u001b[0m\u001b[0;34m\u001b[0m\u001b[0;34m\u001b[0m\u001b[0m\n\u001b[1;32m      5\u001b[0m     \u001b[0mcenters_best\u001b[0m \u001b[0;34m=\u001b[0m \u001b[0mkmeans_rspace\u001b[0m\u001b[0;34m[\u001b[0m\u001b[0;36m1\u001b[0m\u001b[0;34m]\u001b[0m\u001b[0;34m\u001b[0m\u001b[0;34m\u001b[0m\u001b[0m\n",
      "\u001b[0;31mNameError\u001b[0m: name 'kmeans_rspace' is not defined"
     ]
    }
   ],
   "source": [
    "min_dists = [kmeans_rspace[0], kmeans_rdata[0], kmeans_rclusters[0]]\n",
    "\n",
    "if np.argmin(min_dists) == 0:\n",
    "    min_dist = kmeans_rspace[0]\n",
    "    centers_best = kmeans_rspace[1]\n",
    "    clusters_best = kmeans_rspace[2]\n",
    "elif np.argmin(min_dists) == 1:\n",
    "    min_dist = kmeans_rdata[0]\n",
    "    centers_best = kmeans_rdata[1]\n",
    "    clusters_best = kmeans_rdata[2]\n",
    "else:\n",
    "    min_dist = kmeans_rclusters[0]\n",
    "    centers_best = kmeans_rclusters[1]\n",
    "    clusters_best = kmeans_rclusters[2]"
   ]
  },
  {
   "cell_type": "code",
   "execution_count": 9,
   "metadata": {},
   "outputs": [
    {
     "name": "stdout",
     "output_type": "stream",
     "text": [
      "[507543.46286257566, 501412.6250450593, 501578.68635579257]\n"
     ]
    }
   ],
   "source": [
    "# the minimum total squared distances from each of the initialization methods\n",
    "print (min_dists)"
   ]
  },
  {
   "cell_type": "code",
   "execution_count": 10,
   "metadata": {},
   "outputs": [
    {
     "data": {
      "image/png": "[encoded data removed]",
      "text/plain": [
       "<matplotlib.figure.Figure at 0x1a0f390208>"
      ]
     },
     "metadata": {},
     "output_type": "display_data"
    }
   ],
   "source": [
    "# visualizing the data\n",
    "visualize_data(data, np.array(centers_best), clusters_best)"
   ]
  },
  {
   "cell_type": "code",
   "execution_count": 11,
   "metadata": {},
   "outputs": [
    {
     "name": "stdout",
     "output_type": "stream",
     "text": [
      "The minimum total distance generated is: 501412.6250450593\n"
     ]
    }
   ],
   "source": [
    "print ('The minimum total distance generated is: {}'.format(min_dist))"
   ]
  },
  {
   "cell_type": "code",
   "execution_count": 12,
   "metadata": {
    "collapsed": true
   },
   "outputs": [],
   "source": [
    "# method to return a dataframe of the fraction of each cluster as well as their mean counts for the genes\n",
    "def expr_levels(mean_exp, clusters_best):\n",
    "    values = np.array((list(Counter(sorted(clusters_best)).values())))\n",
    "    values = np.divide(values, sum(values))\n",
    "    df = pd.concat([pd.DataFrame(values), pd.DataFrame(mean_exp)],axis=1)\n",
    "    df.columns = ['fraction', 'Caraway mean count', 'Kiwi mean count']\n",
    "    return (df)"
   ]
  },
  {
   "cell_type": "code",
   "execution_count": 13,
   "metadata": {},
   "outputs": [
    {
     "data": {
      "text/html": [
       "<div>\n",
       "<style scoped>\n",
       "    .dataframe tbody tr th:only-of-type {\n",
       "        vertical-align: middle;\n",
       "    }\n",
       "\n",
       "    .dataframe tbody tr th {\n",
       "        vertical-align: top;\n",
       "    }\n",
       "\n",
       "    .dataframe thead th {\n",
       "        text-align: right;\n",
       "    }\n",
       "</style>\n",
       "<table border=\"1\" class=\"dataframe\">\n",
       "  <thead>\n",
       "    <tr style=\"text-align: right;\">\n",
       "      <th></th>\n",
       "      <th>fraction</th>\n",
       "      <th>Caraway mean count</th>\n",
       "      <th>Kiwi mean count</th>\n",
       "    </tr>\n",
       "  </thead>\n",
       "  <tbody>\n",
       "    <tr>\n",
       "      <th>0</th>\n",
       "      <td>0.128</td>\n",
       "      <td>944.718750</td>\n",
       "      <td>1796.406250</td>\n",
       "    </tr>\n",
       "    <tr>\n",
       "      <th>1</th>\n",
       "      <td>0.055</td>\n",
       "      <td>3548.872727</td>\n",
       "      <td>2336.763636</td>\n",
       "    </tr>\n",
       "    <tr>\n",
       "      <th>2</th>\n",
       "      <td>0.051</td>\n",
       "      <td>726.235294</td>\n",
       "      <td>4141.666667</td>\n",
       "    </tr>\n",
       "    <tr>\n",
       "      <th>3</th>\n",
       "      <td>0.667</td>\n",
       "      <td>252.269865</td>\n",
       "      <td>223.154423</td>\n",
       "    </tr>\n",
       "    <tr>\n",
       "      <th>4</th>\n",
       "      <td>0.099</td>\n",
       "      <td>2460.535354</td>\n",
       "      <td>263.313131</td>\n",
       "    </tr>\n",
       "  </tbody>\n",
       "</table>\n",
       "</div>"
      ],
      "text/plain": [
       "   fraction  Caraway mean count  Kiwi mean count\n",
       "0     0.128          944.718750      1796.406250\n",
       "1     0.055         3548.872727      2336.763636\n",
       "2     0.051          726.235294      4141.666667\n",
       "3     0.667          252.269865       223.154423\n",
       "4     0.099         2460.535354       263.313131"
      ]
     },
     "execution_count": 13,
     "metadata": {},
     "output_type": "execute_result"
    }
   ],
   "source": [
    "expr_levels(kmeans_rdata[1], kmeans_rdata[2])"
   ]
  },
  {
   "cell_type": "markdown",
   "metadata": {},
   "source": [
    "### Observations\n",
    "\n",
    "We can see that of the 3 initialization methods used for the _K_-means algorithm, randomly choosing 5 cells from the data as the cluster estimates as well as randomly assigning the cells to the clusters yields a better minimum total squared distance than randomly choosing 5 points in between the minimum and maximum mapped counts of Caraway and Kiwi genes (at least, for our random seed). However, despite choosing the best minimum total squared distance, we can see that we have generated about the same result Wiggins did before he quit the lab. From the DataFrame generated above, we can confirm that we generated fractions of each cell cluster and their associated Caraway/Kiwi mean counts similar to that of Wiggins' results."
   ]
  },
  {
   "cell_type": "markdown",
   "metadata": {},
   "source": [
    "### Q: Why is K-means clustering producing this result, when there are clearly five distinct clusters in the data?\n",
    "\n",
    "If we look at the ```visualize_data``` method that Wiggins wrote, he plots the points on the log scale. However, we are creating clusters on the raw data, without log transforming the data beforehand. If we plot the points without log-scaling them:"
   ]
  },
  {
   "cell_type": "code",
   "execution_count": 13,
   "metadata": {},
   "outputs": [
    {
     "ename": "NameError",
     "evalue": "name 'clusters_best' is not defined",
     "output_type": "error",
     "traceback": [
      "\u001b[0;31m---------------------------------------------------------------------------\u001b[0m",
      "\u001b[0;31mNameError\u001b[0m                                 Traceback (most recent call last)",
      "\u001b[0;32m<ipython-input-13-fe1c6db51662>\u001b[0m in \u001b[0;36m<module>\u001b[0;34m\u001b[0m\n\u001b[1;32m      1\u001b[0m \u001b[0;31m# Splitting up the data from best K-means clustering by cluster\u001b[0m\u001b[0;34m\u001b[0m\u001b[0;34m\u001b[0m\u001b[0;34m\u001b[0m\u001b[0m\n\u001b[0;32m----> 2\u001b[0;31m \u001b[0mcluster0\u001b[0m \u001b[0;34m=\u001b[0m \u001b[0;34m[\u001b[0m\u001b[0mi\u001b[0m \u001b[0;32mfor\u001b[0m \u001b[0mi\u001b[0m\u001b[0;34m,\u001b[0m \u001b[0mx\u001b[0m \u001b[0;32min\u001b[0m \u001b[0menumerate\u001b[0m\u001b[0;34m(\u001b[0m\u001b[0mclusters_best\u001b[0m\u001b[0;34m)\u001b[0m \u001b[0;32mif\u001b[0m \u001b[0mx\u001b[0m \u001b[0;34m==\u001b[0m \u001b[0;36m0\u001b[0m\u001b[0;34m]\u001b[0m\u001b[0;34m\u001b[0m\u001b[0;34m\u001b[0m\u001b[0m\n\u001b[0m\u001b[1;32m      3\u001b[0m \u001b[0mcluster1\u001b[0m \u001b[0;34m=\u001b[0m \u001b[0;34m[\u001b[0m\u001b[0mi\u001b[0m \u001b[0;32mfor\u001b[0m \u001b[0mi\u001b[0m\u001b[0;34m,\u001b[0m \u001b[0mx\u001b[0m \u001b[0;32min\u001b[0m \u001b[0menumerate\u001b[0m\u001b[0;34m(\u001b[0m\u001b[0mclusters_best\u001b[0m\u001b[0;34m)\u001b[0m \u001b[0;32mif\u001b[0m \u001b[0mx\u001b[0m \u001b[0;34m==\u001b[0m \u001b[0;36m1\u001b[0m\u001b[0;34m]\u001b[0m\u001b[0;34m\u001b[0m\u001b[0;34m\u001b[0m\u001b[0m\n\u001b[1;32m      4\u001b[0m \u001b[0mcluster2\u001b[0m \u001b[0;34m=\u001b[0m \u001b[0;34m[\u001b[0m\u001b[0mi\u001b[0m \u001b[0;32mfor\u001b[0m \u001b[0mi\u001b[0m\u001b[0;34m,\u001b[0m \u001b[0mx\u001b[0m \u001b[0;32min\u001b[0m \u001b[0menumerate\u001b[0m\u001b[0;34m(\u001b[0m\u001b[0mclusters_best\u001b[0m\u001b[0;34m)\u001b[0m \u001b[0;32mif\u001b[0m \u001b[0mx\u001b[0m \u001b[0;34m==\u001b[0m \u001b[0;36m2\u001b[0m\u001b[0;34m]\u001b[0m\u001b[0;34m\u001b[0m\u001b[0;34m\u001b[0m\u001b[0m\n\u001b[1;32m      5\u001b[0m \u001b[0mcluster3\u001b[0m \u001b[0;34m=\u001b[0m \u001b[0;34m[\u001b[0m\u001b[0mi\u001b[0m \u001b[0;32mfor\u001b[0m \u001b[0mi\u001b[0m\u001b[0;34m,\u001b[0m \u001b[0mx\u001b[0m \u001b[0;32min\u001b[0m \u001b[0menumerate\u001b[0m\u001b[0;34m(\u001b[0m\u001b[0mclusters_best\u001b[0m\u001b[0;34m)\u001b[0m \u001b[0;32mif\u001b[0m \u001b[0mx\u001b[0m \u001b[0;34m==\u001b[0m \u001b[0;36m3\u001b[0m\u001b[0;34m]\u001b[0m\u001b[0;34m\u001b[0m\u001b[0;34m\u001b[0m\u001b[0m\n",
      "\u001b[0;31mNameError\u001b[0m: name 'clusters_best' is not defined"
     ]
    }
   ],
   "source": [
    "# Splitting up the data from best K-means clustering by cluster\n",
    "cluster0 = [i for i, x in enumerate(clusters_best) if x == 0]\n",
    "cluster1 = [i for i, x in enumerate(clusters_best) if x == 1]\n",
    "cluster2 = [i for i, x in enumerate(clusters_best) if x == 2]\n",
    "cluster3 = [i for i, x in enumerate(clusters_best) if x == 3]\n",
    "cluster4 = [i for i, x in enumerate(clusters_best) if x == 4]\n",
    "\n",
    "data0 = [list(data[i]) for i in cluster0]\n",
    "data1 = [list(data[i]) for i in cluster1]\n",
    "data2 = [list(data[i]) for i in cluster2]\n",
    "data3 = [list(data[i]) for i in cluster3]\n",
    "data4 = [list(data[i]) for i in cluster4]\n",
    "\n",
    "x0, y0 = zip(*data0)\n",
    "x1, y1 = zip(*data1)\n",
    "x2, y2 = zip(*data2)\n",
    "x3, y3 = zip(*data3)\n",
    "x4, y4 = zip(*data4)\n",
    "x5, y5 = zip(*centers_best)"
   ]
  },
  {
   "cell_type": "code",
   "execution_count": 14,
   "metadata": {
    "scrolled": false
   },
   "outputs": [
    {
     "ename": "NameError",
     "evalue": "name 'x0' is not defined",
     "output_type": "error",
     "traceback": [
      "\u001b[0;31m---------------------------------------------------------------------------\u001b[0m",
      "\u001b[0;31mNameError\u001b[0m                                 Traceback (most recent call last)",
      "\u001b[0;32m<ipython-input-14-0d04d81a2dc9>\u001b[0m in \u001b[0;36m<module>\u001b[0;34m\u001b[0m\n\u001b[1;32m      1\u001b[0m \u001b[0;31m# Generating scatter plot without log scaling\u001b[0m\u001b[0;34m\u001b[0m\u001b[0;34m\u001b[0m\u001b[0;34m\u001b[0m\u001b[0m\n\u001b[0;32m----> 2\u001b[0;31m \u001b[0mplt\u001b[0m\u001b[0;34m.\u001b[0m\u001b[0mscatter\u001b[0m\u001b[0;34m(\u001b[0m\u001b[0mx0\u001b[0m\u001b[0;34m,\u001b[0m \u001b[0my0\u001b[0m\u001b[0;34m,\u001b[0m \u001b[0medgecolors\u001b[0m\u001b[0;34m=\u001b[0m\u001b[0;34m'xkcd:rose'\u001b[0m\u001b[0;34m,\u001b[0m \u001b[0mfacecolors\u001b[0m\u001b[0;34m=\u001b[0m\u001b[0;34m'none'\u001b[0m\u001b[0;34m)\u001b[0m\u001b[0;34m\u001b[0m\u001b[0;34m\u001b[0m\u001b[0m\n\u001b[0m\u001b[1;32m      3\u001b[0m \u001b[0mplt\u001b[0m\u001b[0;34m.\u001b[0m\u001b[0mscatter\u001b[0m\u001b[0;34m(\u001b[0m\u001b[0mx1\u001b[0m\u001b[0;34m,\u001b[0m \u001b[0my1\u001b[0m\u001b[0;34m,\u001b[0m \u001b[0medgecolors\u001b[0m\u001b[0;34m=\u001b[0m\u001b[0;34m'xkcd:olive'\u001b[0m\u001b[0;34m,\u001b[0m \u001b[0mfacecolors\u001b[0m\u001b[0;34m=\u001b[0m\u001b[0;34m'none'\u001b[0m\u001b[0;34m)\u001b[0m\u001b[0;34m\u001b[0m\u001b[0;34m\u001b[0m\u001b[0m\n\u001b[1;32m      4\u001b[0m \u001b[0mplt\u001b[0m\u001b[0;34m.\u001b[0m\u001b[0mscatter\u001b[0m\u001b[0;34m(\u001b[0m\u001b[0mx2\u001b[0m\u001b[0;34m,\u001b[0m \u001b[0my2\u001b[0m\u001b[0;34m,\u001b[0m \u001b[0medgecolors\u001b[0m\u001b[0;34m=\u001b[0m\u001b[0;34m'xkcd:azure'\u001b[0m\u001b[0;34m,\u001b[0m \u001b[0mfacecolors\u001b[0m\u001b[0;34m=\u001b[0m\u001b[0;34m'none'\u001b[0m\u001b[0;34m)\u001b[0m\u001b[0;34m\u001b[0m\u001b[0;34m\u001b[0m\u001b[0m\n\u001b[1;32m      5\u001b[0m \u001b[0mplt\u001b[0m\u001b[0;34m.\u001b[0m\u001b[0mscatter\u001b[0m\u001b[0;34m(\u001b[0m\u001b[0mx3\u001b[0m\u001b[0;34m,\u001b[0m \u001b[0my3\u001b[0m\u001b[0;34m,\u001b[0m \u001b[0medgecolors\u001b[0m\u001b[0;34m=\u001b[0m\u001b[0;34m'xkcd:gold'\u001b[0m\u001b[0;34m,\u001b[0m \u001b[0mfacecolors\u001b[0m\u001b[0;34m=\u001b[0m\u001b[0;34m'none'\u001b[0m\u001b[0;34m)\u001b[0m\u001b[0;34m\u001b[0m\u001b[0;34m\u001b[0m\u001b[0m\n",
      "\u001b[0;31mNameError\u001b[0m: name 'x0' is not defined"
     ]
    }
   ],
   "source": [
    "# Generating scatter plot without log scaling\n",
    "plt.scatter(x0, y0, edgecolors='xkcd:rose', facecolors='none')\n",
    "plt.scatter(x1, y1, edgecolors='xkcd:olive', facecolors='none')\n",
    "plt.scatter(x2, y2, edgecolors='xkcd:azure', facecolors='none')\n",
    "plt.scatter(x3, y3, edgecolors='xkcd:gold', facecolors='none')\n",
    "plt.scatter(x4, y4, edgecolors='xkcd:orange', facecolors='none')\n",
    "plt.scatter(x5, y5, color=\"black\", marker=\"*\", s=50)\n",
    "plt.xlabel('Caraway counts')\n",
    "plt.ylabel('Kiwi counts')\n",
    "plt.show()"
   ]
  },
  {
   "cell_type": "markdown",
   "metadata": {},
   "source": [
    "We can see that even though there are clear clusters on the log scale scatterplot, the clusters on the real linear axis aren't as obvious, if noticeable at all. However, with the K-means clustering, we had fit the real data to the clusters instead of the log transformed data, giving us the undesirable results that we see above. "
   ]
  },
  {
   "cell_type": "markdown",
   "metadata": {},
   "source": [
    "## 2. Mixture negative binomial fitting\n",
    "\n",
    "_First and foremost, I credit the code below to MCB112's section 6 notes and homework hint code (for producing the visual), with changes to the code to account for the fact that there are now 2 dimensions instead of 1, as well as updated the docstring for the methods to be in line with the updated methods._\n",
    "\n",
    "For the mixture negative binomial model fitting, we assume that each cell has a probability of belonging to a certain cluster with some mixed coefficient $\\pi_q$, where the cluster has gene counts represented by the negative binomial distribution with some fixed disperstion parameter $\\phi = 0.3$. In the expectation-maximization algorithm, we calculate the posterior probabilities of each cell coming from each of the five clusters (initially created also by one of the three methods mentioned above) by multiplying the probability of choosing that cluster (from our mixed coefficients) with the PMFs of choosing the gene counts for Caraway and Kiwi from negative binomial distributions. Because we are essentially dealing with two dimensions, one for the Caraway gene and one for the Kiwi gene, each cluster has two negative binomial distributions associated with it -- one for the distribution of Caraway counts and one for the distribution of Kiwi counts. We assume that these two distributions are indepedent of each other.\n",
    "\n",
    "Doing this for each cluster, this generates the probability of obtaining that cell with the given cluster distribution. To calculate the posterior probabilities, we must normalize each of these probabilites by dividing them by sum of all of these probabilities (this follows from the Law of Total Probability). Whichever cluster has the highest posterior probability of generating that cell will be the cluster that the cell is assigned to. In other words, we calculate for every cluster $q$ and cell $x_{ij}$ with Caraway count $i$ and Kiwi count $j$:\n",
    "\n",
    "$$P(q \\mid x_ij, \\mu_q, \\phi) = \\frac{\\pi_q * P(x_i \\mid \\mu_{qi}, \\phi) * P(x_j \\mid \\mu_{qi}, \\phi)}{P(x_{ij})}.$$\n",
    "\n",
    "This process is known as the Expectation step of the expectation-maximization algorithm.\n",
    "\n",
    "In the maximization step of the algorithm, we update the cluster centers and mixture coefficients for each cluster. To obtain the new cluster centers, for every cluster $q$, we add up the Caraway counts of each cell multiplied by the posterior probability of the cluster generating that cell, all divided by the posterior probabilities of the cluster generating the cells (analogous to a weighted mean). We do the same for Kiwi counts for each cluster. Thus, for a new $\\mu_q$:\n",
    "\n",
    "$$\\mu_q = \\left(\\frac{\\Sigma_{i=0}^{n}x_i*P(q \\mid x_{i})}{\\Sigma_{i=0}P(q \\mid x_{i})}, \\frac{\\Sigma_{j=0}^{n}x_j*P(q \\mid x_{j})}{\\Sigma_{j=0}P(q \\mid x_{j})}\\right).$$\n",
    "\n",
    "The new mixed coefficient $\\pi_q$ for the new cluster $q$ is the average of all the posterior probabilities for $q$.\n",
    "\n",
    "_Because the PMFs generate can get extremely low and multiplying probabilites together can yield extremely low values, this may result in underflow. Thus, when calculating the PMFs and multiplying probabilities together to achieve posterior probabilities, we do so by adding and subtracting their logs instead._\n",
    "\n",
    "Lastly, in the last step of the algorithm, we calculate the negative log likelihood for each cell given our generated model. This is done by first: multiplying the mixture coefficient with the negative binomial PMF (again, the dispersion parameter being constant 0.3 in our case) each cell's Caraway count and Kiwi count given every new centroid that we calculated from the maximization step (done by adding their logs) to generate individual log likelihoods of each cell, and second: adding together all the log likelihoods. Lastly, we take the negative of the log likelihood to generate a positive number. In other words, we calculate:\n",
    "\n",
    "$$\\text{Neg Log Likelihood} = -\\Sigma_q \\Sigma_{x_{ij} \\in X} \\log(\\pi_q) + \\log(P(x_{ij} \\mid \\mu_q) + \\log(P(x_{ij} \\mid \\mu_q)$$\n",
    "\n",
    "###### Q: What is an appropriate statistic for choosing the \"best\" fit?\n",
    "\n",
    "We base our \"best\" fit statistic on the negative log likelihood generated after every iteration of the expectation-maximization algorithm. In particular, we take the negative log likelihood that is smallest. The intuition behind this is that because we are taking logs of probabilites (which range from 0 to 1), logs of probabilities are negative, and therefore the total sum of these logs will be even more negative. As probabilities get smaller and smaller, log probabilities get more and more negative. Thus the smallest negative log likelihood actually represents the greatest total probability of the models. Furthermore, we take the minimum of the minimum negative log likelihoods from our 3 initialization methods used in the expectation-maximization algorithm to ensure that we are choosing the best initialization method."
   ]
  },
  {
   "cell_type": "markdown",
   "metadata": {},
   "source": [
    "##### METHODS TO PERFORM MIXTURE MODELS EXPECTATION MAXIMIZATION"
   ]
  },
  {
   "cell_type": "code",
   "execution_count": 32,
   "metadata": {},
   "outputs": [],
   "source": [
    "# CREDIT: MCB112 SECTION NOTES\n",
    "def expectation(coords, mus, phi, mix_coeffs):\n",
    "    '''\n",
    "    Return the Posterior Probability of each data point coming from each componenent\n",
    "    \n",
    "    Parameters\n",
    "    ----------\n",
    "    coords    : list of lists or 2D array: [caraway count, kiwi count] for all cells\n",
    "    mus       : list of lists or 2D array, list of current caraway/kiwi count estimates for the 5 cells\n",
    "    phi       : dispersion parameter    \n",
    "    mix_coeffs: list or 1D array, list of current estimates for mixture coefficients of components\n",
    "                      \n",
    "    Returns\n",
    "    -------\n",
    "    posts    : 2D array, Posterior probabilities of each component being the\n",
    "               source of each point.\n",
    "    clusters : list or 1D array, list of current cluster assignment for each point \n",
    "    '''\n",
    "    \n",
    "    # Initialze P(q|x)\n",
    "    Pqx = []\n",
    "    \n",
    "    # Loop through points\n",
    "    for point in coords: \n",
    "        # Append pi * P(x|q) in log space\n",
    "        Pqx.append([np.log(mix_coeffs[i]) +\n",
    "                    stats.nbinom.logpmf(point[0],1/phi,1/(1+mu[0]*phi)) + \n",
    "                    stats.nbinom.logpmf(point[1],1/phi,1/(1+mu[1]*phi)) for i,mu in enumerate(mus)])\n",
    "\n",
    "    # Normalize\n",
    "    posts = [x - special.logsumexp(x) for x in Pqx]\n",
    "    \n",
    "    # Revert back to linear space\n",
    "    posts = np.exp(posts)\n",
    "    \n",
    "    # Assign clusters based on max posterior probability\n",
    "    clusters = [np.argmax(post) for post in posts]\n",
    "    return posts,clusters\n",
    "\n",
    "def maximization(coords, posts, mix_coeffs):\n",
    "    '''\n",
    "    Return the update mu and mixture coefficient for each component\n",
    "    \n",
    "    Parameters\n",
    "    ----------\n",
    "    coords    : list of lists or 2D array, list of Caraway/Kiwi counts from the cells\n",
    "    posts     : 2D array, Posterior probabilities of each component being the\n",
    "                source of each point.\n",
    "    mix_coeffs: list or 1D array, list of current estimates for mixture coefficients of components\n",
    "                             \n",
    "    Returns\n",
    "    -------\n",
    "    mus       : list or 1D array, new estimate of component means\n",
    "    mix_coeffs: list or 1D array, list of current estimates for mixture coefficients of components \n",
    "    '''\n",
    "    \n",
    "    # calculate the new mean as the posterior weighted average of point positions\n",
    "    num_mu_car = np.sum([np.multiply(posts[i],x[0]) for i,x in enumerate(coords)],0)    \n",
    "    num_mu_kiwi = np.sum([np.multiply(posts[i],x[1]) for i,x in enumerate(coords)],0) \n",
    "    denom_mu = np.sum(posts,0)\n",
    "    car_mus = np.divide(num_mu_car,denom_mu)\n",
    "    kiwi_mus = np.divide(num_mu_kiwi,denom_mu)\n",
    "    mus = np.array(list(zip(car_mus, kiwi_mus)))\n",
    "    \n",
    "    # calculate the new mixture coefficients as the mean of the posteriors\n",
    "    mix_coeffs = np.divide(np.sum(posts,0),len(coords))    \n",
    "    \n",
    "    return mus,mix_coeffs\n",
    "\n",
    "def negll(coords, mus, phi, mix_coeffs):\n",
    "    '''\n",
    "    Return the negative log likelihood of data given the current mixture model\n",
    "    \n",
    "    Parameters\n",
    "    ----------\n",
    "    coords    : list of lists or 2D array, list of Caraway/Kiwi counts from the cells\n",
    "    mus       : list of lists or 2D array, list of current caraway/kiwi count estimates for the 5 cells\n",
    "    phi       : dispersion parameter    \n",
    "    mix_coeffs: list or 1D array, list of current extiamtes for mixture coefficients of components\n",
    "                      \n",
    "    Returns\n",
    "    -------\n",
    "    nll       : float, negative log likelihood of data given model\n",
    "    '''\n",
    "    \n",
    "    # Compute the nll as the nbinom logpmf of the data, given mu and sigma, plus the log of the mixture coefficient\n",
    "    # Summed for each point\n",
    "    ll = special.logsumexp([[np.log(mix_coeffs[i]) + \n",
    "                  stats.nbinom.logpmf(point[0],1/phi,1/(1+mu[0]*phi)) + \n",
    "                  stats.nbinom.logpmf(point[1],1/phi,1/(1+mu[1]*phi))for i,mu in enumerate(mus)] for point in coords])\n",
    "    \n",
    "    return -ll"
   ]
  },
  {
   "cell_type": "markdown",
   "metadata": {},
   "source": [
    "Like previously done for the k-means algorithm, I create an overarching mixture model method that utilizes the functions from above, and allows the user to choose which initialziation method they want: random points from space, random points from data, or assigning points random clusters and taking the centroids of those clusters."
   ]
  },
  {
   "cell_type": "code",
   "execution_count": 33,
   "metadata": {},
   "outputs": [],
   "source": [
    "def mixed_nbinom(data, init, phi, nll_thresh, num_clust, iters):\n",
    "    '''\n",
    "    Fits the data using the mixture negative binomial model.\n",
    "    \n",
    "    Parameters\n",
    "    ----------\n",
    "    data       : list or 2D ndarray\n",
    "                 Coordinates of all points   \n",
    "    init       : initialization method\n",
    "                 1: random points from space; \n",
    "                 2: random points from data;\n",
    "                 3: assigning points random clusters\n",
    "    phi        : dispersion parameter\n",
    "    nll_thresh : float\n",
    "                 Threshold for nll change that will stop iteration (nll_thresh)\n",
    "    num_clust  : int\n",
    "                 number of clusters\n",
    "    iters      : int\n",
    "                 number of iterations\n",
    "       \n",
    "    Returns\n",
    "    -------\n",
    "    min_dist      : float\n",
    "                    minimum total squared distance from the iterations\n",
    "    centers_best  : list of lists or 2D array\n",
    "                    list of current estimated center for each cluster\n",
    "    clusters_best : list or 1D array\n",
    "                    list of current best cluster for each cell\n",
    "    '''\n",
    "    # define best mus (mus_best), best mixture coefficients (mix_coeffs_best\n",
    "    # and intialize as starting best nll (nll_best) \n",
    "    mus_best = []*len(data)\n",
    "    nll_best = float('inf')\n",
    "    mix_coeffs_best = []\n",
    "    \n",
    "    # Min and max data for the coordinates\n",
    "    min_x, min_y = np.min(data,0)\n",
    "    max_x, max_y = np.max(data,0)\n",
    "    \n",
    "    np.random.seed(0)\n",
    "    \n",
    "    # CREDIT: SECTION NOTES\n",
    "    # Loop on iters\n",
    "    for _ in range(iters):\n",
    "        \n",
    "        # Each iteration starts with a random set of mus (mus) with random mixture coeffcients (mix_coeffs)\n",
    "        mix_coeffs = rand.rand(num_clust)\n",
    "        mix_coeffs = np.divide(mix_coeffs,sum(mix_coeffs))\n",
    "        # Initialize centroids using random points from space\n",
    "        if init == 1:\n",
    "            # Each iteration starts with a random set of centers\n",
    "            # Centers randomly chosen in between minimum and maximum counts\n",
    "            x_centers = np.random.choice(np.linspace(min_x,max_x,10000),num_clust)\n",
    "            y_centers = np.random.choice(np.linspace(min_y,max_y,10000),num_clust)\n",
    "            mus = np.array(list(zip(x_centers, y_centers)))\n",
    "        \n",
    "        # Initialize centroids using random points from data\n",
    "        elif init == 2:\n",
    "            # Getting num_clust random indices to get from the data\n",
    "            idx = np.random.randint(len(data), size=num_clust)\n",
    "            mus = data[idx,:]\n",
    "            \n",
    "        # Initialize centroids by randomly assigning clusters to data and finding means\n",
    "        else:\n",
    "            # randomly assigning each data point to a cluster\n",
    "            rand_clusters = np.random.randint(0, num_clust + 1, size=len(data))\n",
    "            mus = update(data, rand_clusters, num_clust)\n",
    "            \n",
    "        # We will iterate until the nll stops changing muc\n",
    "        # Here we initialize holder variables for the last nll and the difference between the current and last nll\n",
    "        nll_diff = float('inf')\n",
    "        nll_old = float(0)    \n",
    "\n",
    "        # Iterate while the differnece between consecutive nlls is above a threshold\n",
    "        while nll_diff > (nll_thresh* nll_old):\n",
    "\n",
    "            # Calculate posterior probabilities and assign points to clusters\n",
    "            posts,clusters = expectation(data, mus, phi, mix_coeffs)\n",
    "\n",
    "            # Calculate new mus and mixture coefficients given current posterior probabilities\n",
    "            mus, mix_coeffs = maximization(data, posts, mix_coeffs)    \n",
    "\n",
    "            # Calcualte the nll of hte current mixture model\n",
    "            nll = negll(data, mus, phi, mix_coeffs) \n",
    "\n",
    "            # find difference in consecutive nlls and update the nll_old\n",
    "            nll_diff = abs(nll-nll_old)\n",
    "            nll_old = nll\n",
    "            print(\"Updating nllh... Current diff %f, threshold: %f\"%(nll_diff, nll_thresh * nll_old))\n",
    "\n",
    "        # Update best estimates for mus, mixture coefficients and cluster assignments\n",
    "        if nll < nll_best:\n",
    "            mix_coeffs_best = mix_coeffs\n",
    "            nll_best = nll\n",
    "            mus_best = mus\n",
    "            clusters_best = clusters\n",
    "            \n",
    "    return (nll_best, mus_best, clusters_best)"
   ]
  },
  {
   "cell_type": "markdown",
   "metadata": {},
   "source": [
    "##### FITTING THE DATA WITH THE NEGATIVE BINOMIAL MIXTURE MODEL"
   ]
  },
  {
   "cell_type": "code",
   "execution_count": 34,
   "metadata": {},
   "outputs": [
    {
     "name": "stdout",
     "output_type": "stream",
     "text": [
      "Updating nllh... Current diff 8.166162, threshold: 0.008166\n",
      "Updating nllh... Current diff 0.507784, threshold: 0.007658\n",
      "Updating nllh... Current diff 0.352592, threshold: 0.007306\n",
      "Updating nllh... Current diff 0.168341, threshold: 0.007137\n",
      "Updating nllh... Current diff 0.101976, threshold: 0.007035\n",
      "Updating nllh... Current diff 0.069133, threshold: 0.006966\n",
      "Updating nllh... Current diff 0.069641, threshold: 0.006897\n",
      "Updating nllh... Current diff 0.218861, threshold: 0.006678\n",
      "Updating nllh... Current diff 1.383650, threshold: 0.005294\n"
     ]
    },
    {
     "ename": "KeyboardInterrupt",
     "evalue": "",
     "output_type": "error",
     "traceback": [
      "\u001b[0;31m---------------------------------------------------------------------------\u001b[0m",
      "\u001b[0;31mKeyboardInterrupt\u001b[0m                         Traceback (most recent call last)",
      "\u001b[0;32m<ipython-input-34-450dfb6f2274>\u001b[0m in \u001b[0;36m<module>\u001b[0;34m\u001b[0m\n\u001b[1;32m      1\u001b[0m \u001b[0;31m# running mixed neg binom model by initializing random points in space as centroids\u001b[0m\u001b[0;34m\u001b[0m\u001b[0;34m\u001b[0m\u001b[0;34m\u001b[0m\u001b[0m\n\u001b[0;32m----> 2\u001b[0;31m \u001b[0mmixed_rspace\u001b[0m \u001b[0;34m=\u001b[0m \u001b[0mmixed_nbinom\u001b[0m\u001b[0;34m(\u001b[0m\u001b[0mdata\u001b[0m\u001b[0;34m,\u001b[0m \u001b[0;36m1\u001b[0m\u001b[0;34m,\u001b[0m \u001b[0;36m0.3\u001b[0m\u001b[0;34m,\u001b[0m \u001b[0;36m0.001\u001b[0m\u001b[0;34m,\u001b[0m \u001b[0mnum_clust\u001b[0m\u001b[0;34m,\u001b[0m \u001b[0;36m10\u001b[0m\u001b[0;34m)\u001b[0m\u001b[0;34m\u001b[0m\u001b[0;34m\u001b[0m\u001b[0m\n\u001b[0m\u001b[1;32m      3\u001b[0m \u001b[0;34m\u001b[0m\u001b[0m\n\u001b[1;32m      4\u001b[0m \u001b[0;31m# # running mixed neg binom model by initializing random points in data as centroids\u001b[0m\u001b[0;34m\u001b[0m\u001b[0;34m\u001b[0m\u001b[0;34m\u001b[0m\u001b[0m\n\u001b[1;32m      5\u001b[0m \u001b[0;31m# mixed_rdata = mixed_nbinom(data, 2, 0.3, 0.001, num_clust, 10)\u001b[0m\u001b[0;34m\u001b[0m\u001b[0;34m\u001b[0m\u001b[0;34m\u001b[0m\u001b[0m\n",
      "\u001b[0;32m<ipython-input-33-e3339cabc4ae>\u001b[0m in \u001b[0;36mmixed_nbinom\u001b[0;34m(data, init, phi, nll_thresh, num_clust, iters)\u001b[0m\n\u001b[1;32m     82\u001b[0m \u001b[0;34m\u001b[0m\u001b[0m\n\u001b[1;32m     83\u001b[0m             \u001b[0;31m# Calcualte the nll of hte current mixture model\u001b[0m\u001b[0;34m\u001b[0m\u001b[0;34m\u001b[0m\u001b[0;34m\u001b[0m\u001b[0m\n\u001b[0;32m---> 84\u001b[0;31m             \u001b[0mnll\u001b[0m \u001b[0;34m=\u001b[0m \u001b[0mnegll\u001b[0m\u001b[0;34m(\u001b[0m\u001b[0mdata\u001b[0m\u001b[0;34m,\u001b[0m \u001b[0mmus\u001b[0m\u001b[0;34m,\u001b[0m \u001b[0mphi\u001b[0m\u001b[0;34m,\u001b[0m \u001b[0mmix_coeffs\u001b[0m\u001b[0;34m)\u001b[0m\u001b[0;34m\u001b[0m\u001b[0;34m\u001b[0m\u001b[0m\n\u001b[0m\u001b[1;32m     85\u001b[0m \u001b[0;34m\u001b[0m\u001b[0m\n\u001b[1;32m     86\u001b[0m             \u001b[0;31m# find difference in consecutive nlls and update the nll_old\u001b[0m\u001b[0;34m\u001b[0m\u001b[0;34m\u001b[0m\u001b[0;34m\u001b[0m\u001b[0m\n",
      "\u001b[0;32m<ipython-input-32-31fb5364576a>\u001b[0m in \u001b[0;36mnegll\u001b[0;34m(coords, mus, phi, mix_coeffs)\u001b[0m\n\u001b[1;32m     86\u001b[0m     \u001b[0;31m# Compute the nll as the nbinom logpmf of the data, given mu and sigma, plus the log of the mixture coefficient\u001b[0m\u001b[0;34m\u001b[0m\u001b[0;34m\u001b[0m\u001b[0;34m\u001b[0m\u001b[0m\n\u001b[1;32m     87\u001b[0m     \u001b[0;31m# Summed for each point\u001b[0m\u001b[0;34m\u001b[0m\u001b[0;34m\u001b[0m\u001b[0;34m\u001b[0m\u001b[0m\n\u001b[0;32m---> 88\u001b[0;31m     ll = special.logsumexp([[np.log(mix_coeffs[i]) + \n\u001b[0m\u001b[1;32m     89\u001b[0m                   \u001b[0mstats\u001b[0m\u001b[0;34m.\u001b[0m\u001b[0mnbinom\u001b[0m\u001b[0;34m.\u001b[0m\u001b[0mlogpmf\u001b[0m\u001b[0;34m(\u001b[0m\u001b[0mpoint\u001b[0m\u001b[0;34m[\u001b[0m\u001b[0;36m0\u001b[0m\u001b[0;34m]\u001b[0m\u001b[0;34m,\u001b[0m\u001b[0;36m1\u001b[0m\u001b[0;34m/\u001b[0m\u001b[0mphi\u001b[0m\u001b[0;34m,\u001b[0m\u001b[0;36m1\u001b[0m\u001b[0;34m/\u001b[0m\u001b[0;34m(\u001b[0m\u001b[0;36m1\u001b[0m\u001b[0;34m+\u001b[0m\u001b[0mmu\u001b[0m\u001b[0;34m[\u001b[0m\u001b[0;36m0\u001b[0m\u001b[0;34m]\u001b[0m\u001b[0;34m*\u001b[0m\u001b[0mphi\u001b[0m\u001b[0;34m)\u001b[0m\u001b[0;34m)\u001b[0m \u001b[0;34m+\u001b[0m\u001b[0;34m\u001b[0m\u001b[0;34m\u001b[0m\u001b[0m\n\u001b[1;32m     90\u001b[0m                   stats.nbinom.logpmf(point[1],1/phi,1/(1+mu[1]*phi))for i,mu in enumerate(mus)] for point in coords])\n",
      "\u001b[0;32m<ipython-input-32-31fb5364576a>\u001b[0m in \u001b[0;36m<listcomp>\u001b[0;34m(.0)\u001b[0m\n\u001b[1;32m     86\u001b[0m     \u001b[0;31m# Compute the nll as the nbinom logpmf of the data, given mu and sigma, plus the log of the mixture coefficient\u001b[0m\u001b[0;34m\u001b[0m\u001b[0;34m\u001b[0m\u001b[0;34m\u001b[0m\u001b[0m\n\u001b[1;32m     87\u001b[0m     \u001b[0;31m# Summed for each point\u001b[0m\u001b[0;34m\u001b[0m\u001b[0;34m\u001b[0m\u001b[0;34m\u001b[0m\u001b[0m\n\u001b[0;32m---> 88\u001b[0;31m     ll = special.logsumexp([[np.log(mix_coeffs[i]) + \n\u001b[0m\u001b[1;32m     89\u001b[0m                   \u001b[0mstats\u001b[0m\u001b[0;34m.\u001b[0m\u001b[0mnbinom\u001b[0m\u001b[0;34m.\u001b[0m\u001b[0mlogpmf\u001b[0m\u001b[0;34m(\u001b[0m\u001b[0mpoint\u001b[0m\u001b[0;34m[\u001b[0m\u001b[0;36m0\u001b[0m\u001b[0;34m]\u001b[0m\u001b[0;34m,\u001b[0m\u001b[0;36m1\u001b[0m\u001b[0;34m/\u001b[0m\u001b[0mphi\u001b[0m\u001b[0;34m,\u001b[0m\u001b[0;36m1\u001b[0m\u001b[0;34m/\u001b[0m\u001b[0;34m(\u001b[0m\u001b[0;36m1\u001b[0m\u001b[0;34m+\u001b[0m\u001b[0mmu\u001b[0m\u001b[0;34m[\u001b[0m\u001b[0;36m0\u001b[0m\u001b[0;34m]\u001b[0m\u001b[0;34m*\u001b[0m\u001b[0mphi\u001b[0m\u001b[0;34m)\u001b[0m\u001b[0;34m)\u001b[0m \u001b[0;34m+\u001b[0m\u001b[0;34m\u001b[0m\u001b[0;34m\u001b[0m\u001b[0m\n\u001b[1;32m     90\u001b[0m                   stats.nbinom.logpmf(point[1],1/phi,1/(1+mu[1]*phi))for i,mu in enumerate(mus)] for point in coords])\n",
      "\u001b[0;32m<ipython-input-32-31fb5364576a>\u001b[0m in \u001b[0;36m<listcomp>\u001b[0;34m(.0)\u001b[0m\n\u001b[1;32m     87\u001b[0m     \u001b[0;31m# Summed for each point\u001b[0m\u001b[0;34m\u001b[0m\u001b[0;34m\u001b[0m\u001b[0;34m\u001b[0m\u001b[0m\n\u001b[1;32m     88\u001b[0m     ll = special.logsumexp([[np.log(mix_coeffs[i]) + \n\u001b[0;32m---> 89\u001b[0;31m                   \u001b[0mstats\u001b[0m\u001b[0;34m.\u001b[0m\u001b[0mnbinom\u001b[0m\u001b[0;34m.\u001b[0m\u001b[0mlogpmf\u001b[0m\u001b[0;34m(\u001b[0m\u001b[0mpoint\u001b[0m\u001b[0;34m[\u001b[0m\u001b[0;36m0\u001b[0m\u001b[0;34m]\u001b[0m\u001b[0;34m,\u001b[0m\u001b[0;36m1\u001b[0m\u001b[0;34m/\u001b[0m\u001b[0mphi\u001b[0m\u001b[0;34m,\u001b[0m\u001b[0;36m1\u001b[0m\u001b[0;34m/\u001b[0m\u001b[0;34m(\u001b[0m\u001b[0;36m1\u001b[0m\u001b[0;34m+\u001b[0m\u001b[0mmu\u001b[0m\u001b[0;34m[\u001b[0m\u001b[0;36m0\u001b[0m\u001b[0;34m]\u001b[0m\u001b[0;34m*\u001b[0m\u001b[0mphi\u001b[0m\u001b[0;34m)\u001b[0m\u001b[0;34m)\u001b[0m \u001b[0;34m+\u001b[0m\u001b[0;34m\u001b[0m\u001b[0;34m\u001b[0m\u001b[0m\n\u001b[0m\u001b[1;32m     90\u001b[0m                   stats.nbinom.logpmf(point[1],1/phi,1/(1+mu[1]*phi))for i,mu in enumerate(mus)] for point in coords])\n\u001b[1;32m     91\u001b[0m \u001b[0;34m\u001b[0m\u001b[0m\n",
      "\u001b[0;32m/opt/homebrew/anaconda3/envs/biling/lib/python3.8/site-packages/scipy/stats/_distn_infrastructure.py\u001b[0m in \u001b[0;36mlogpmf\u001b[0;34m(self, k, *args, **kwds)\u001b[0m\n\u001b[1;32m   3184\u001b[0m         \u001b[0mplace\u001b[0m\u001b[0;34m(\u001b[0m\u001b[0moutput\u001b[0m\u001b[0;34m,\u001b[0m \u001b[0;34m(\u001b[0m\u001b[0;36m1\u001b[0m\u001b[0;34m-\u001b[0m\u001b[0mcond0\u001b[0m\u001b[0;34m)\u001b[0m \u001b[0;34m+\u001b[0m \u001b[0mnp\u001b[0m\u001b[0;34m.\u001b[0m\u001b[0misnan\u001b[0m\u001b[0;34m(\u001b[0m\u001b[0mk\u001b[0m\u001b[0;34m)\u001b[0m\u001b[0;34m,\u001b[0m \u001b[0mself\u001b[0m\u001b[0;34m.\u001b[0m\u001b[0mbadvalue\u001b[0m\u001b[0;34m)\u001b[0m\u001b[0;34m\u001b[0m\u001b[0;34m\u001b[0m\u001b[0m\n\u001b[1;32m   3185\u001b[0m         \u001b[0;32mif\u001b[0m \u001b[0mnp\u001b[0m\u001b[0;34m.\u001b[0m\u001b[0many\u001b[0m\u001b[0;34m(\u001b[0m\u001b[0mcond\u001b[0m\u001b[0;34m)\u001b[0m\u001b[0;34m:\u001b[0m\u001b[0;34m\u001b[0m\u001b[0;34m\u001b[0m\u001b[0m\n\u001b[0;32m-> 3186\u001b[0;31m             \u001b[0mgoodargs\u001b[0m \u001b[0;34m=\u001b[0m \u001b[0margsreduce\u001b[0m\u001b[0;34m(\u001b[0m\u001b[0mcond\u001b[0m\u001b[0;34m,\u001b[0m \u001b[0;34m*\u001b[0m\u001b[0;34m(\u001b[0m\u001b[0;34m(\u001b[0m\u001b[0mk\u001b[0m\u001b[0;34m,\u001b[0m\u001b[0;34m)\u001b[0m\u001b[0;34m+\u001b[0m\u001b[0margs\u001b[0m\u001b[0;34m)\u001b[0m\u001b[0;34m)\u001b[0m\u001b[0;34m\u001b[0m\u001b[0;34m\u001b[0m\u001b[0m\n\u001b[0m\u001b[1;32m   3187\u001b[0m             \u001b[0mplace\u001b[0m\u001b[0;34m(\u001b[0m\u001b[0moutput\u001b[0m\u001b[0;34m,\u001b[0m \u001b[0mcond\u001b[0m\u001b[0;34m,\u001b[0m \u001b[0mself\u001b[0m\u001b[0;34m.\u001b[0m\u001b[0m_logpmf\u001b[0m\u001b[0;34m(\u001b[0m\u001b[0;34m*\u001b[0m\u001b[0mgoodargs\u001b[0m\u001b[0;34m)\u001b[0m\u001b[0;34m)\u001b[0m\u001b[0;34m\u001b[0m\u001b[0;34m\u001b[0m\u001b[0m\n\u001b[1;32m   3188\u001b[0m         \u001b[0;32mif\u001b[0m \u001b[0moutput\u001b[0m\u001b[0;34m.\u001b[0m\u001b[0mndim\u001b[0m \u001b[0;34m==\u001b[0m \u001b[0;36m0\u001b[0m\u001b[0;34m:\u001b[0m\u001b[0;34m\u001b[0m\u001b[0;34m\u001b[0m\u001b[0m\n",
      "\u001b[0;32m/opt/homebrew/anaconda3/envs/biling/lib/python3.8/site-packages/scipy/stats/_distn_infrastructure.py\u001b[0m in \u001b[0;36margsreduce\u001b[0;34m(cond, *args)\u001b[0m\n\u001b[1;32m    568\u001b[0m         \u001b[0mnewargs\u001b[0m \u001b[0;34m=\u001b[0m \u001b[0;34m[\u001b[0m\u001b[0mnewargs\u001b[0m\u001b[0;34m,\u001b[0m \u001b[0;34m]\u001b[0m\u001b[0;34m\u001b[0m\u001b[0;34m\u001b[0m\u001b[0m\n\u001b[1;32m    569\u001b[0m \u001b[0;34m\u001b[0m\u001b[0m\n\u001b[0;32m--> 570\u001b[0;31m     \u001b[0;32mif\u001b[0m \u001b[0mnp\u001b[0m\u001b[0;34m.\u001b[0m\u001b[0mall\u001b[0m\u001b[0;34m(\u001b[0m\u001b[0mcond\u001b[0m\u001b[0;34m)\u001b[0m\u001b[0;34m:\u001b[0m\u001b[0;34m\u001b[0m\u001b[0;34m\u001b[0m\u001b[0m\n\u001b[0m\u001b[1;32m    571\u001b[0m         \u001b[0;31m# Nothing to do\u001b[0m\u001b[0;34m\u001b[0m\u001b[0;34m\u001b[0m\u001b[0;34m\u001b[0m\u001b[0m\n\u001b[1;32m    572\u001b[0m         \u001b[0;32mreturn\u001b[0m \u001b[0mnewargs\u001b[0m\u001b[0;34m\u001b[0m\u001b[0;34m\u001b[0m\u001b[0m\n",
      "\u001b[0;32m<__array_function__ internals>\u001b[0m in \u001b[0;36mall\u001b[0;34m(*args, **kwargs)\u001b[0m\n",
      "\u001b[0;32m/opt/homebrew/anaconda3/envs/biling/lib/python3.8/site-packages/numpy/core/fromnumeric.py\u001b[0m in \u001b[0;36mall\u001b[0;34m(a, axis, out, keepdims, where)\u001b[0m\n\u001b[1;32m   2448\u001b[0m \u001b[0;34m\u001b[0m\u001b[0m\n\u001b[1;32m   2449\u001b[0m     \"\"\"\n\u001b[0;32m-> 2450\u001b[0;31m     return _wrapreduction(a, np.logical_and, 'all', axis, None, out,\n\u001b[0m\u001b[1;32m   2451\u001b[0m                           keepdims=keepdims, where=where)\n\u001b[1;32m   2452\u001b[0m \u001b[0;34m\u001b[0m\u001b[0m\n",
      "\u001b[0;32m/opt/homebrew/anaconda3/envs/biling/lib/python3.8/site-packages/numpy/core/fromnumeric.py\u001b[0m in \u001b[0;36m_wrapreduction\u001b[0;34m(obj, ufunc, method, axis, dtype, out, **kwargs)\u001b[0m\n\u001b[1;32m     82\u001b[0m                 \u001b[0;32mreturn\u001b[0m \u001b[0mreduction\u001b[0m\u001b[0;34m(\u001b[0m\u001b[0maxis\u001b[0m\u001b[0;34m=\u001b[0m\u001b[0maxis\u001b[0m\u001b[0;34m,\u001b[0m \u001b[0mdtype\u001b[0m\u001b[0;34m=\u001b[0m\u001b[0mdtype\u001b[0m\u001b[0;34m,\u001b[0m \u001b[0mout\u001b[0m\u001b[0;34m=\u001b[0m\u001b[0mout\u001b[0m\u001b[0;34m,\u001b[0m \u001b[0;34m**\u001b[0m\u001b[0mpasskwargs\u001b[0m\u001b[0;34m)\u001b[0m\u001b[0;34m\u001b[0m\u001b[0;34m\u001b[0m\u001b[0m\n\u001b[1;32m     83\u001b[0m             \u001b[0;32melse\u001b[0m\u001b[0;34m:\u001b[0m\u001b[0;34m\u001b[0m\u001b[0;34m\u001b[0m\u001b[0m\n\u001b[0;32m---> 84\u001b[0;31m                 \u001b[0;32mreturn\u001b[0m \u001b[0mreduction\u001b[0m\u001b[0;34m(\u001b[0m\u001b[0maxis\u001b[0m\u001b[0;34m=\u001b[0m\u001b[0maxis\u001b[0m\u001b[0;34m,\u001b[0m \u001b[0mout\u001b[0m\u001b[0;34m=\u001b[0m\u001b[0mout\u001b[0m\u001b[0;34m,\u001b[0m \u001b[0;34m**\u001b[0m\u001b[0mpasskwargs\u001b[0m\u001b[0;34m)\u001b[0m\u001b[0;34m\u001b[0m\u001b[0;34m\u001b[0m\u001b[0m\n\u001b[0m\u001b[1;32m     85\u001b[0m \u001b[0;34m\u001b[0m\u001b[0m\n\u001b[1;32m     86\u001b[0m     \u001b[0;32mreturn\u001b[0m \u001b[0mufunc\u001b[0m\u001b[0;34m.\u001b[0m\u001b[0mreduce\u001b[0m\u001b[0;34m(\u001b[0m\u001b[0mobj\u001b[0m\u001b[0;34m,\u001b[0m \u001b[0maxis\u001b[0m\u001b[0;34m,\u001b[0m \u001b[0mdtype\u001b[0m\u001b[0;34m,\u001b[0m \u001b[0mout\u001b[0m\u001b[0;34m,\u001b[0m \u001b[0;34m**\u001b[0m\u001b[0mpasskwargs\u001b[0m\u001b[0;34m)\u001b[0m\u001b[0;34m\u001b[0m\u001b[0;34m\u001b[0m\u001b[0m\n",
      "\u001b[0;31mKeyboardInterrupt\u001b[0m: "
     ]
    }
   ],
   "source": [
    "# running mixed neg binom model by initializing random points in space as centroids\n",
    "mixed_rspace = mixed_nbinom(data, 1, 0.3, 0.001, num_clust, 10)\n",
    "\n",
    "# # running mixed neg binom model by initializing random points in data as centroids\n",
    "# mixed_rdata = mixed_nbinom(data, 2, 0.3, 0.001, num_clust, 10)\n",
    "\n",
    "# # running mixed neg binom model by initializing random clusters to data\n",
    "# mixed_rclusters = mixed_nbinom(data, 3, 0.3, 0.001, num_clust, 10)"
   ]
  },
  {
   "cell_type": "code",
   "execution_count": null,
   "metadata": {},
   "outputs": [],
   "source": [
    "nll_best = [mixed_rspace[0], mixed_rdata[0], mixed_rclusters[0]]\n",
    "\n",
    "if np.argmin(nll_best) == 0:\n",
    "    nll_best = mixed_rspace[0]\n",
    "    mus_best = mixed_rspace[1]\n",
    "    clusters_best = mixed_rspace[2]\n",
    "elif np.argmin(nll_best) == 1:\n",
    "    nll_best = mixed_rdata[0]\n",
    "    mus_best = mixed_rdata[1]\n",
    "    clusters_best = mixed_rdata[2]\n",
    "else:\n",
    "    nll_best = mixed_rclusters[0]\n",
    "    mus_best = mixed_rclusters[1]\n",
    "    clusters_best = mixed_rclusters[2]"
   ]
  },
  {
   "cell_type": "code",
   "execution_count": null,
   "metadata": {
    "scrolled": false
   },
   "outputs": [],
   "source": [
    "visualize_data(data, mus_best, clusters_best)"
   ]
  },
  {
   "cell_type": "code",
   "execution_count": 22,
   "metadata": {},
   "outputs": [
    {
     "name": "stdout",
     "output_type": "stream",
     "text": [
      "[4.413568312574279, 4.413525576344368, 4.413519652698277]\n"
     ]
    }
   ],
   "source": [
    "print ([mixed_rspace[0], mixed_rdata[0], mixed_rclusters[0]])"
   ]
  },
  {
   "cell_type": "code",
   "execution_count": 23,
   "metadata": {},
   "outputs": [
    {
     "name": "stdout",
     "output_type": "stream",
     "text": [
      "The best negative log likelihood generated is: 4.413519652698277\n"
     ]
    }
   ],
   "source": [
    "print ('The best negative log likelihood generated is: {}'.format(nll_best))"
   ]
  },
  {
   "cell_type": "markdown",
   "metadata": {},
   "source": [
    "#### Observations\n",
    "\n",
    "As we can see from the scatterplot above, using the mixed negative binomial model to fit our data works pretty well and achieves the obvious clusters that we see on the log scale."
   ]
  },
  {
   "cell_type": "markdown",
   "metadata": {},
   "source": [
    "##### Q: What are the estimated mean expression levels of Caraway and Kiwi in the five cell types, and the relative proportions of each cell type in the 1000 cells?"
   ]
  },
  {
   "cell_type": "code",
   "execution_count": 24,
   "metadata": {},
   "outputs": [
    {
     "data": {
      "text/html": [
       "<div>\n",
       "<style scoped>\n",
       "    .dataframe tbody tr th:only-of-type {\n",
       "        vertical-align: middle;\n",
       "    }\n",
       "\n",
       "    .dataframe tbody tr th {\n",
       "        vertical-align: top;\n",
       "    }\n",
       "\n",
       "    .dataframe thead th {\n",
       "        text-align: right;\n",
       "    }\n",
       "</style>\n",
       "<table border=\"1\" class=\"dataframe\">\n",
       "  <thead>\n",
       "    <tr style=\"text-align: right;\">\n",
       "      <th></th>\n",
       "      <th>fraction</th>\n",
       "      <th>Caraway mean count</th>\n",
       "      <th>Kiwi mean count</th>\n",
       "    </tr>\n",
       "  </thead>\n",
       "  <tbody>\n",
       "    <tr>\n",
       "      <th>0</th>\n",
       "      <td>0.119</td>\n",
       "      <td>1961.917970</td>\n",
       "      <td>32.346713</td>\n",
       "    </tr>\n",
       "    <tr>\n",
       "      <th>1</th>\n",
       "      <td>0.198</td>\n",
       "      <td>2038.629456</td>\n",
       "      <td>2094.654651</td>\n",
       "    </tr>\n",
       "    <tr>\n",
       "      <th>2</th>\n",
       "      <td>0.397</td>\n",
       "      <td>292.654307</td>\n",
       "      <td>295.203665</td>\n",
       "    </tr>\n",
       "    <tr>\n",
       "      <th>3</th>\n",
       "      <td>0.090</td>\n",
       "      <td>31.857091</td>\n",
       "      <td>2188.261313</td>\n",
       "    </tr>\n",
       "    <tr>\n",
       "      <th>4</th>\n",
       "      <td>0.196</td>\n",
       "      <td>31.522118</td>\n",
       "      <td>30.105160</td>\n",
       "    </tr>\n",
       "  </tbody>\n",
       "</table>\n",
       "</div>"
      ],
      "text/plain": [
       "   fraction  Caraway mean count  Kiwi mean count\n",
       "0     0.119         1961.917970        32.346713\n",
       "1     0.198         2038.629456      2094.654651\n",
       "2     0.397          292.654307       295.203665\n",
       "3     0.090           31.857091      2188.261313\n",
       "4     0.196           31.522118        30.105160"
      ]
     },
     "execution_count": 24,
     "metadata": {},
     "output_type": "execute_result"
    }
   ],
   "source": [
    "expr_levels(mixed_rclusters[1], mixed_rclusters[2])"
   ]
  },
  {
   "cell_type": "markdown",
   "metadata": {},
   "source": [
    "We can see from above that (although out of order from Wiggins' code) the fractions of each cell cluster as well as their Caraway and Kiwi mean counts are similar to those of the true centroids, suggesting that using the mixture negative binomial model fits our data well."
   ]
  },
  {
   "cell_type": "markdown",
   "metadata": {},
   "source": [
    "## 3. A simple fix for k-means\n",
    "\n",
    "To fix our _k_-means algorithm, we simply log transform the data, and pass this transformed data into our _k_-means method implemented in problem 1. We choose the best solution based on the minimum total squared distance of these logged points from every iteration, and afterward take the minimum based on the initialization method."
   ]
  },
  {
   "cell_type": "code",
   "execution_count": 25,
   "metadata": {
    "collapsed": true
   },
   "outputs": [],
   "source": [
    "# running k-means by initializing random points in space as centroids\n",
    "logkmeans_rspace = kmeans(np.log(data), 1, num_clust, 20)\n",
    "\n",
    "# running k-means by initializing random points in data as centroids\n",
    "logkmeans_rdata = kmeans(np.log(data), 2, num_clust, 20)\n",
    "\n",
    "# running k-means by initializing random clusters to data\n",
    "logkmeans_rclusters = kmeans(np.log(data), 3, num_clust, 20)"
   ]
  },
  {
   "cell_type": "code",
   "execution_count": 26,
   "metadata": {
    "collapsed": true
   },
   "outputs": [],
   "source": [
    "min_dists = [logkmeans_rspace[0], logkmeans_rdata[0], logkmeans_rclusters[0]]\n",
    "\n",
    "if np.argmin(min_dists) == 0:\n",
    "    min_dist = logkmeans_rspace[0]\n",
    "    centers_best = logkmeans_rspace[1]\n",
    "    clusters_best = logkmeans_rspace[2]\n",
    "elif np.argmin(min_dists) == 1:\n",
    "    min_dist = logkmeans_rdata[0]\n",
    "    centers_best = logkmeans_rdata[1]\n",
    "    clusters_best = logkmeans_rdata[2]\n",
    "else:\n",
    "    min_dist = logkmeans_rclusters[0]\n",
    "    centers_best = logkmeans_rclusters[1]\n",
    "    clusters_best = logkmeans_rclusters[2]"
   ]
  },
  {
   "cell_type": "code",
   "execution_count": 27,
   "metadata": {},
   "outputs": [
    {
     "name": "stdout",
     "output_type": "stream",
     "text": [
      "[767.7944058560514, 767.7944058560514, 767.7944058560514]\n"
     ]
    }
   ],
   "source": [
    "print (min_dists)"
   ]
  },
  {
   "cell_type": "code",
   "execution_count": 28,
   "metadata": {
    "scrolled": true
   },
   "outputs": [
    {
     "name": "stdout",
     "output_type": "stream",
     "text": [
      "767.7944058560514\n"
     ]
    }
   ],
   "source": [
    "print (min_dist)"
   ]
  },
  {
   "cell_type": "markdown",
   "metadata": {},
   "source": [
    "Each of the initialization methods generate pretty similar best distances for their respective _k_-means clusterings."
   ]
  },
  {
   "cell_type": "code",
   "execution_count": 29,
   "metadata": {},
   "outputs": [
    {
     "data": {
      "image/png": "[encoded data removed]",
      "text/plain": [
       "<matplotlib.figure.Figure at 0x1a1166e5f8>"
      ]
     },
     "metadata": {},
     "output_type": "display_data"
    }
   ],
   "source": [
    "# visualizing the data\n",
    "visualize_data(data, np.exp(np.array(centers_best)), clusters_best)"
   ]
  },
  {
   "cell_type": "code",
   "execution_count": 30,
   "metadata": {},
   "outputs": [
    {
     "data": {
      "text/html": [
       "<div>\n",
       "<style scoped>\n",
       "    .dataframe tbody tr th:only-of-type {\n",
       "        vertical-align: middle;\n",
       "    }\n",
       "\n",
       "    .dataframe tbody tr th {\n",
       "        vertical-align: top;\n",
       "    }\n",
       "\n",
       "    .dataframe thead th {\n",
       "        text-align: right;\n",
       "    }\n",
       "</style>\n",
       "<table border=\"1\" class=\"dataframe\">\n",
       "  <thead>\n",
       "    <tr style=\"text-align: right;\">\n",
       "      <th></th>\n",
       "      <th>fraction</th>\n",
       "      <th>Caraway mean count</th>\n",
       "      <th>Kiwi mean count</th>\n",
       "    </tr>\n",
       "  </thead>\n",
       "  <tbody>\n",
       "    <tr>\n",
       "      <th>0</th>\n",
       "      <td>0.097</td>\n",
       "      <td>27.289588</td>\n",
       "      <td>1624.901352</td>\n",
       "    </tr>\n",
       "    <tr>\n",
       "      <th>1</th>\n",
       "      <td>0.197</td>\n",
       "      <td>1796.308322</td>\n",
       "      <td>1824.829541</td>\n",
       "    </tr>\n",
       "    <tr>\n",
       "      <th>2</th>\n",
       "      <td>0.200</td>\n",
       "      <td>25.772877</td>\n",
       "      <td>24.517656</td>\n",
       "    </tr>\n",
       "    <tr>\n",
       "      <th>3</th>\n",
       "      <td>0.381</td>\n",
       "      <td>258.113885</td>\n",
       "      <td>262.434932</td>\n",
       "    </tr>\n",
       "    <tr>\n",
       "      <th>4</th>\n",
       "      <td>0.125</td>\n",
       "      <td>1501.942038</td>\n",
       "      <td>28.843558</td>\n",
       "    </tr>\n",
       "  </tbody>\n",
       "</table>\n",
       "</div>"
      ],
      "text/plain": [
       "   fraction  Caraway mean count  Kiwi mean count\n",
       "0     0.097           27.289588      1624.901352\n",
       "1     0.197         1796.308322      1824.829541\n",
       "2     0.200           25.772877        24.517656\n",
       "3     0.381          258.113885       262.434932\n",
       "4     0.125         1501.942038        28.843558"
      ]
     },
     "execution_count": 30,
     "metadata": {},
     "output_type": "execute_result"
    }
   ],
   "source": [
    "expr_levels(np.exp(centers_best), clusters_best)"
   ]
  },
  {
   "cell_type": "markdown",
   "metadata": {},
   "source": [
    "We can see from above that (although out of order from Wiggins' code) the fractions of each cell cluster as well as their Caraway and Kiwi mean counts are similar to those of the true centroids, suggesting that taking the log of the data in the _k_-means clustering algorithm works as expected."
   ]
  }
 ],
 "metadata": {
  "kernelspec": {
   "display_name": "Python 3",
   "language": "python",
   "name": "python3"
  },
  "language_info": {
   "codemirror_mode": {
    "name": "ipython",
    "version": 3
   },
   "file_extension": ".py",
   "mimetype": "text/x-python",
   "name": "python",
   "nbconvert_exporter": "python",
   "pygments_lexer": "ipython3",
   "version": "3.8.5"
  }
 },
 "nbformat": 4,
 "nbformat_minor": 2
}
