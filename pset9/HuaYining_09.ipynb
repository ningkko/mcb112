{
 "cells": [
  {
   "cell_type": "markdown",
   "metadata": {},
   "source": [
    "# homework 09: the return of the ten Arcs\n",
    "### Yining Hua"
   ]
  },
  {
   "cell_type": "markdown",
   "metadata": {},
   "source": [
    "## 1. write a simulator as a positive control\n",
    "Write a function that simulates N=1000000 observed read counts, following the model specified above, for any Arc locus structure (i.e. lengths L_i) and any transcript abundances τ. (You can assume that there are 10 segments and isoforms, though my version of this script will allow that to vary too.)\n",
    "\n",
    "Use your function to generate a test data set for known model parameters τ,L that you've chosen."
   ]
  },
  {
   "cell_type": "code",
   "execution_count": 119,
   "metadata": {},
   "outputs": [],
   "source": [
    "import numpy as np\n",
    "import pandas as pd\n",
    "import tqdm\n",
    "np.random.seed(42)\n",
    "\n",
    "default_len = [4,2,3,4,4,3,2,2,3,3]"
   ]
  },
  {
   "cell_type": "code",
   "execution_count": 71,
   "metadata": {},
   "outputs": [],
   "source": [
    "def initialize_abundance_length(n_transcript, min_len, max_len):\n",
    "    \"\"\"Totally random\"\"\"\n",
    "    abundance = list(np.random.dirichlet(np.ones(n_transcript),size=1)[0])\n",
    "    lengths = list(np.random.randint(min_len, max_len+1, n_transcript))  ## remember python cuts off the right side of the range\n",
    "    return abundance, lengths\n",
    "\n",
    "def use_default_abundance_length(n_transcript):\n",
    "    \"\"\"Use the given lengths\"\"\"\n",
    "    return list(np.random.dirichlet(np.ones(n_transcript),size=1)[0]), default_len\n",
    "\n",
    "def generate_arc(len_transcripts):    \n",
    "    transcripts = []\n",
    "    segment = [i for i in range(len(len_transcripts))]\n",
    "    for start_idx, trans_len in enumerate(len_transcripts):\n",
    "        if start_idx+trans_len > len(len_transcripts):  ## if a new circle, add next circle\n",
    "            transcripts.append(segment[start_idx:]+segment[:start_idx+trans_len - len(len_transcripts)])\n",
    "        else: \n",
    "            transcripts.append(segment[start_idx:start_idx+trans_len])  \n",
    "    return transcripts\n",
    "\n",
    "def create_reads(trans_vec, abundance_vec, len_transcripts, N):    \n",
    "    abundances = np.multiply(abundance_vec, len_transcripts)\n",
    "    abundances = np.true_divide(abundances, sum(abundances))\n",
    "    reads = []\n",
    "    for i in tqdm.tqdm(range(N)):\n",
    "        transcript = trans_vec[np.random.choice(len(trans_vec),p=abundances)]\n",
    "        reads.append(np.random.choice(transcript))        \n",
    "    return reads\n"
   ]
  },
  {
   "cell_type": "code",
   "execution_count": 41,
   "metadata": {},
   "outputs": [],
   "source": [
    "from collections import Counter\n",
    "def beautify(reads):\n",
    "    df = pd.DataFrame.from_dict(Counter(reads), orient=\"index\").reset_index()\n",
    "    df.columns = [\"read\", \"counts\"]\n",
    "    df[\"read_char\"] = df.read.apply(lambda x: chr(ord('@')+x+1))\n",
    "    df = df.sort_values(\"read\",ignore_index=True)\n",
    "    df[\"frequency\"] = round(df.counts/df.counts.values.sum(),2)\n",
    "    return df"
   ]
  },
  {
   "cell_type": "code",
   "execution_count": 121,
   "metadata": {},
   "outputs": [
    {
     "name": "stderr",
     "output_type": "stream",
     "text": [
      "100%|██████████| 1000000/1000000 [00:24<00:00, 40074.33it/s]\n"
     ]
    },
    {
     "data": {
      "text/html": [
       "<div>\n",
       "<style scoped>\n",
       "    .dataframe tbody tr th:only-of-type {\n",
       "        vertical-align: middle;\n",
       "    }\n",
       "\n",
       "    .dataframe tbody tr th {\n",
       "        vertical-align: top;\n",
       "    }\n",
       "\n",
       "    .dataframe thead th {\n",
       "        text-align: right;\n",
       "    }\n",
       "</style>\n",
       "<table border=\"1\" class=\"dataframe\">\n",
       "  <thead>\n",
       "    <tr style=\"text-align: right;\">\n",
       "      <th></th>\n",
       "      <th>read</th>\n",
       "      <th>counts</th>\n",
       "      <th>read_char</th>\n",
       "      <th>frequency</th>\n",
       "    </tr>\n",
       "  </thead>\n",
       "  <tbody>\n",
       "    <tr>\n",
       "      <th>0</th>\n",
       "      <td>0</td>\n",
       "      <td>59498</td>\n",
       "      <td>A</td>\n",
       "      <td>0.06</td>\n",
       "    </tr>\n",
       "    <tr>\n",
       "      <th>1</th>\n",
       "      <td>1</td>\n",
       "      <td>80702</td>\n",
       "      <td>B</td>\n",
       "      <td>0.08</td>\n",
       "    </tr>\n",
       "    <tr>\n",
       "      <th>2</th>\n",
       "      <td>2</td>\n",
       "      <td>59486</td>\n",
       "      <td>C</td>\n",
       "      <td>0.06</td>\n",
       "    </tr>\n",
       "    <tr>\n",
       "      <th>3</th>\n",
       "      <td>3</td>\n",
       "      <td>82660</td>\n",
       "      <td>D</td>\n",
       "      <td>0.08</td>\n",
       "    </tr>\n",
       "    <tr>\n",
       "      <th>4</th>\n",
       "      <td>4</td>\n",
       "      <td>65463</td>\n",
       "      <td>E</td>\n",
       "      <td>0.07</td>\n",
       "    </tr>\n",
       "    <tr>\n",
       "      <th>5</th>\n",
       "      <td>5</td>\n",
       "      <td>47579</td>\n",
       "      <td>F</td>\n",
       "      <td>0.05</td>\n",
       "    </tr>\n",
       "    <tr>\n",
       "      <th>6</th>\n",
       "      <td>6</td>\n",
       "      <td>120884</td>\n",
       "      <td>G</td>\n",
       "      <td>0.12</td>\n",
       "    </tr>\n",
       "    <tr>\n",
       "      <th>7</th>\n",
       "      <td>7</td>\n",
       "      <td>118486</td>\n",
       "      <td>H</td>\n",
       "      <td>0.12</td>\n",
       "    </tr>\n",
       "    <tr>\n",
       "      <th>8</th>\n",
       "      <td>8</td>\n",
       "      <td>163682</td>\n",
       "      <td>I</td>\n",
       "      <td>0.16</td>\n",
       "    </tr>\n",
       "    <tr>\n",
       "      <th>9</th>\n",
       "      <td>9</td>\n",
       "      <td>201560</td>\n",
       "      <td>J</td>\n",
       "      <td>0.20</td>\n",
       "    </tr>\n",
       "  </tbody>\n",
       "</table>\n",
       "</div>"
      ],
      "text/plain": [
       "   read  counts read_char  frequency\n",
       "0     0   59498         A       0.06\n",
       "1     1   80702         B       0.08\n",
       "2     2   59486         C       0.06\n",
       "3     3   82660         D       0.08\n",
       "4     4   65463         E       0.07\n",
       "5     5   47579         F       0.05\n",
       "6     6  120884         G       0.12\n",
       "7     7  118486         H       0.12\n",
       "8     8  163682         I       0.16\n",
       "9     9  201560         J       0.20"
      ]
     },
     "execution_count": 121,
     "metadata": {},
     "output_type": "execute_result"
    }
   ],
   "source": [
    "trans_abundance, len_transcripts = initialize_abundance_length(10, min_len=2, max_len=4)\n",
    "transcript_list = generate_arc(len_transcripts)\n",
    "reads = create_reads(transcript_list, trans_abundance, len_transcripts, 1000000)\n",
    "beautify(reads)"
   ]
  },
  {
   "cell_type": "code",
   "execution_count": 122,
   "metadata": {},
   "outputs": [
    {
     "data": {
      "text/html": [
       "<div>\n",
       "<style scoped>\n",
       "    .dataframe tbody tr th:only-of-type {\n",
       "        vertical-align: middle;\n",
       "    }\n",
       "\n",
       "    .dataframe tbody tr th {\n",
       "        vertical-align: top;\n",
       "    }\n",
       "\n",
       "    .dataframe thead th {\n",
       "        text-align: right;\n",
       "    }\n",
       "</style>\n",
       "<table border=\"1\" class=\"dataframe\">\n",
       "  <thead>\n",
       "    <tr style=\"text-align: right;\">\n",
       "      <th></th>\n",
       "      <th>read</th>\n",
       "      <th>counts</th>\n",
       "      <th>read_char</th>\n",
       "      <th>frequency</th>\n",
       "    </tr>\n",
       "  </thead>\n",
       "  <tbody>\n",
       "    <tr>\n",
       "      <th>0</th>\n",
       "      <td>0</td>\n",
       "      <td>59498</td>\n",
       "      <td>A</td>\n",
       "      <td>0.06</td>\n",
       "    </tr>\n",
       "    <tr>\n",
       "      <th>1</th>\n",
       "      <td>1</td>\n",
       "      <td>80702</td>\n",
       "      <td>B</td>\n",
       "      <td>0.08</td>\n",
       "    </tr>\n",
       "    <tr>\n",
       "      <th>2</th>\n",
       "      <td>2</td>\n",
       "      <td>59486</td>\n",
       "      <td>C</td>\n",
       "      <td>0.06</td>\n",
       "    </tr>\n",
       "    <tr>\n",
       "      <th>3</th>\n",
       "      <td>3</td>\n",
       "      <td>82660</td>\n",
       "      <td>D</td>\n",
       "      <td>0.08</td>\n",
       "    </tr>\n",
       "    <tr>\n",
       "      <th>4</th>\n",
       "      <td>4</td>\n",
       "      <td>65463</td>\n",
       "      <td>E</td>\n",
       "      <td>0.07</td>\n",
       "    </tr>\n",
       "    <tr>\n",
       "      <th>5</th>\n",
       "      <td>5</td>\n",
       "      <td>47579</td>\n",
       "      <td>F</td>\n",
       "      <td>0.05</td>\n",
       "    </tr>\n",
       "    <tr>\n",
       "      <th>6</th>\n",
       "      <td>6</td>\n",
       "      <td>120884</td>\n",
       "      <td>G</td>\n",
       "      <td>0.12</td>\n",
       "    </tr>\n",
       "    <tr>\n",
       "      <th>7</th>\n",
       "      <td>7</td>\n",
       "      <td>118486</td>\n",
       "      <td>H</td>\n",
       "      <td>0.12</td>\n",
       "    </tr>\n",
       "    <tr>\n",
       "      <th>8</th>\n",
       "      <td>8</td>\n",
       "      <td>163682</td>\n",
       "      <td>I</td>\n",
       "      <td>0.16</td>\n",
       "    </tr>\n",
       "    <tr>\n",
       "      <th>9</th>\n",
       "      <td>9</td>\n",
       "      <td>201560</td>\n",
       "      <td>J</td>\n",
       "      <td>0.20</td>\n",
       "    </tr>\n",
       "  </tbody>\n",
       "</table>\n",
       "</div>"
      ],
      "text/plain": [
       "   read  counts read_char  frequency\n",
       "0     0   59498         A       0.06\n",
       "1     1   80702         B       0.08\n",
       "2     2   59486         C       0.06\n",
       "3     3   82660         D       0.08\n",
       "4     4   65463         E       0.07\n",
       "5     5   47579         F       0.05\n",
       "6     6  120884         G       0.12\n",
       "7     7  118486         H       0.12\n",
       "8     8  163682         I       0.16\n",
       "9     9  201560         J       0.20"
      ]
     },
     "execution_count": 122,
     "metadata": {},
     "output_type": "execute_result"
    }
   ],
   "source": [
    "## Use the deault lengths\n",
    "abundances, len_transcripts = use_default_abundance_length(10)\n",
    "transcripts = generate_arc(default_len)\n",
    "reads = create_reads(transcripts, abundances, default_len, 1000000)\n",
    "df = beautify(reads)\n",
    "df"
   ]
  },
  {
   "cell_type": "markdown",
   "metadata": {},
   "source": [
    "## 2. calculate the log likelihood\n",
    "Write a function that calculates the log likelihood: the log probability of the observed data (the observed read counts rk) if the model and its parameters were known (i.e. τ,L), for a given locus structure of Arc. Explain the steps of your calculation.\n",
    "\n",
    "Calculate and show the log likelihood of one of your generated test data sets, for your known parameter values.\n",
    "\n",
    "Use Lestrade's approach (and his code, if you like) to estimate abundances of each Arc isoform in your test data set. Compare to your true τ. (Terrible, right?) Calculate and show the log likelihood given what Lestrade would estimate for the τ, compared to the log likelihood for the true τ in your positive control.\n",
    "\n",
    "You should observe that the true τ parameter values give a much better log likelihood than the Lestrade et al. estimates, because the Lestrade et al. estimates are poor."
   ]
  },
  {
   "cell_type": "code",
   "execution_count": 178,
   "metadata": {},
   "outputs": [],
   "source": [
    "from scipy import special\n",
    "def nuc_to_trans(abundances,len_transcripts):\n",
    "    abundances = np.true_divide(abundances, len_transcripts)\n",
    "    return np.true_divide(abundances, sum(abundances))\n",
    "    \n",
    "def trans_to_nuc(abundances,len_transcripts):\n",
    "    abundances = np.multiply(abundances, len_transcripts)\n",
    "    return np.true_divide(abundances, sum(abundances)) \n",
    "    \n",
    "def calc_nll(reads, transcripts, abundances, len_transcripts): \n",
    "    '''The function assumes nucleotide abundances'''\n",
    "    log_probs = []\n",
    "    for read_idx, read in enumerate(unique_reads):  ## loop though all reads\n",
    "        read_probs = []\n",
    "        for idx, transcript in enumerate(transcripts):  ## for each read, loop through all transcripts\n",
    "            if read in transcript:\n",
    "                read_probs.append(np.log(abundances[idx]/len_transcripts[idx]))  ## to calc the read probs\n",
    "        read_prob_sum = special.logsumexp(read_probs)*unique_counts[read_idx]  ## sum up and add to the total log prob list\n",
    "        log_probs.append(read_prob_sum)\n",
    "            \n",
    "    return -np.sum(log_probs)  ## return the summed negative log likelihood\n"
   ]
  },
  {
   "cell_type": "code",
   "execution_count": 124,
   "metadata": {},
   "outputs": [],
   "source": [
    "import string\n",
    "\n",
    "T = 10\n",
    "L = [4,2,3,4,4,3,2,2,3,3]\n",
    "r = df.counts.tolist()\n",
    "def Lestrade_est(reads, transcripts, lengths):\n",
    "    \"\"\"\n",
    "    Copied from the script. Nice naming of variables. ABCDEFG\n",
    "    \"\"\"\n",
    "    S = T    # S = R = T : there are T transcripts (Arc1..Arc10), S segments (A..J), R reads (a..j)\n",
    "    R = T\n",
    "    Slabel   = list(string.ascii_uppercase)[:S]               # ['A'..'J']        : the upper case labels for Arc locus segments \n",
    "    Tlabel   = [ \"Arc{}\".format(d) for d in range(1,T+1) ]    # ['Arc1'..'Arc10'] : the labels for Arc transcript isoforms\n",
    "    Rlabel   = list(string.ascii_lowercase)[:T]               # ['a'..'j']        : lower case labels for reads\n",
    "\n",
    "\n",
    "    # Count how often each segment A..J is used in the isoforms i\n",
    "    # We'll use that to split observed read counts across the isoforms\n",
    "    # that they might have come from.\n",
    "    #\n",
    "    segusage = np.zeros(S).astype(int)\n",
    "    for i in range(T):\n",
    "        for j in range(i,i+L[i]): \n",
    "            segusage[j%S] += 1\n",
    "\n",
    "\n",
    "    # Naive analysis:\n",
    "    #\n",
    "    c  = np.zeros(T)\n",
    "    for i in range(T):\n",
    "        for k in range(i,i+L[i]):\n",
    "            c[i] += (1.0 / float(segusage[k%S])) * float(r[k%S])  # For each read k, assume read k-> segment j,\n",
    "                                                                  # and assign 1/usage count to each transcript\n",
    "                                                                  # that contains segment j.\n",
    "    Z       = np.sum(c)\n",
    "    est_nu  = np.divide(c, Z)       # nucleotide abundance\n",
    "\n",
    "    print(c)\n",
    "\n",
    "    est_tau = np.divide(est_nu, L)  # convert to TPM, transcript abundance\n",
    "    est_tau = np.divide(est_tau, np.sum(est_tau))\n",
    "\n",
    "    # Print a table of the resulting estimates for tau\n",
    "    for i in range(T):\n",
    "        print (\"{0:10s}  {1:5.3f}\".format(Tlabel[i], est_tau[i]))\n",
    "    \n",
    "    return est_tau"
   ]
  },
  {
   "cell_type": "code",
   "execution_count": 125,
   "metadata": {},
   "outputs": [
    {
     "name": "stdout",
     "output_type": "stream",
     "text": [
      "[ 94115.33333333  46729.33333333  69203.          95455.\n",
      "  97523.16666667  75702.16666667  59842.5        111462.5\n",
      " 202453.66666667 147513.33333333]\n",
      "Arc1        0.068\n",
      "Arc2        0.068\n",
      "Arc3        0.067\n",
      "Arc4        0.069\n",
      "Arc5        0.071\n",
      "Arc6        0.073\n",
      "Arc7        0.087\n",
      "Arc8        0.161\n",
      "Arc9        0.195\n",
      "Arc10       0.142\n"
     ]
    }
   ],
   "source": [
    "les_abundances = Lestrade_est(reads, transcript_list, len_transcripts)"
   ]
  },
  {
   "cell_type": "code",
   "execution_count": 179,
   "metadata": {},
   "outputs": [],
   "source": [
    "unique_reads = df.read.tolist()\n",
    "unique_counts = df.counts.tolist()\n",
    "true_nll = calc_nll(reads, transcripts, trans_to_nuc(abundances, default_len), default_len)\n",
    "les_nll = calc_nll(reads, transcripts, trans_to_nuc(les_abundances, default_len), default_len)\n"
   ]
  },
  {
   "cell_type": "code",
   "execution_count": 180,
   "metadata": {},
   "outputs": [
    {
     "name": "stdout",
     "output_type": "stream",
     "text": [
      "The negative log-likelyhood of the true parameters is 2611101.60\n",
      "The negative log-likelyhood of Lestrade's parameters is 2267657.38\n",
      "Lestrade's nll is 343444.22 greater than the true llh.\n"
     ]
    }
   ],
   "source": [
    "print(\"The negative log-likelyhood of the true parameters is %.2f\" %round(true_nll,2))\n",
    "print(\"The negative log-likelyhood of Lestrade's parameters is %.2f\" %round(les_nll,2))\n",
    "print(\"Lestrade's nll is %.2f greater than the true llh.\"%round(np.abs(true_nll-les_nll),2))                                                             "
   ]
  },
  {
   "cell_type": "markdown",
   "metadata": {},
   "source": [
    "So the negative log-likelyhood of Lestrade's parameters's is 343444.22 greater than the negative log-likelyhood of true parameters."
   ]
  },
  {
   "cell_type": "markdown",
   "metadata": {},
   "source": [
    "## 3. estimate isoform abundances by EM\n",
    "Write a function that estimates unknown isoform abundances τi for each isoform Arc1..Arc10, given read counts rk and the structure of the Arc locus including the lengths Li, using expectation maximization.\n",
    "\n",
    "Apply your function to the data in the Lestrade et al. supplementary data file. Show your estimated τi."
   ]
  },
  {
   "cell_type": "code",
   "execution_count": 128,
   "metadata": {},
   "outputs": [
    {
     "data": {
      "text/html": [
       "<div>\n",
       "<style scoped>\n",
       "    .dataframe tbody tr th:only-of-type {\n",
       "        vertical-align: middle;\n",
       "    }\n",
       "\n",
       "    .dataframe tbody tr th {\n",
       "        vertical-align: top;\n",
       "    }\n",
       "\n",
       "    .dataframe thead th {\n",
       "        text-align: right;\n",
       "    }\n",
       "</style>\n",
       "<table border=\"1\" class=\"dataframe\">\n",
       "  <thead>\n",
       "    <tr style=\"text-align: right;\">\n",
       "      <th></th>\n",
       "      <th>arc</th>\n",
       "      <th>trans</th>\n",
       "      <th>len</th>\n",
       "      <th>reads</th>\n",
       "    </tr>\n",
       "  </thead>\n",
       "  <tbody>\n",
       "    <tr>\n",
       "      <th>0</th>\n",
       "      <td>Arc1</td>\n",
       "      <td>xxxxx</td>\n",
       "      <td>4</td>\n",
       "      <td>ABCD</td>\n",
       "    </tr>\n",
       "    <tr>\n",
       "      <th>1</th>\n",
       "      <td>Arc2</td>\n",
       "      <td>xxxxx</td>\n",
       "      <td>2</td>\n",
       "      <td>BC</td>\n",
       "    </tr>\n",
       "    <tr>\n",
       "      <th>2</th>\n",
       "      <td>Arc3</td>\n",
       "      <td>xxxxx</td>\n",
       "      <td>3</td>\n",
       "      <td>CDE</td>\n",
       "    </tr>\n",
       "    <tr>\n",
       "      <th>3</th>\n",
       "      <td>Arc4</td>\n",
       "      <td>xxxxx</td>\n",
       "      <td>4</td>\n",
       "      <td>DEFG</td>\n",
       "    </tr>\n",
       "    <tr>\n",
       "      <th>4</th>\n",
       "      <td>Arc5</td>\n",
       "      <td>xxxxx</td>\n",
       "      <td>4</td>\n",
       "      <td>EFGH</td>\n",
       "    </tr>\n",
       "    <tr>\n",
       "      <th>5</th>\n",
       "      <td>Arc6</td>\n",
       "      <td>xxxxx</td>\n",
       "      <td>3</td>\n",
       "      <td>FGH</td>\n",
       "    </tr>\n",
       "    <tr>\n",
       "      <th>6</th>\n",
       "      <td>Arc7</td>\n",
       "      <td>xxxxx</td>\n",
       "      <td>2</td>\n",
       "      <td>GH</td>\n",
       "    </tr>\n",
       "    <tr>\n",
       "      <th>7</th>\n",
       "      <td>Arc8</td>\n",
       "      <td>xxxxx</td>\n",
       "      <td>2</td>\n",
       "      <td>HI</td>\n",
       "    </tr>\n",
       "    <tr>\n",
       "      <th>8</th>\n",
       "      <td>Arc9</td>\n",
       "      <td>xxxxx</td>\n",
       "      <td>3</td>\n",
       "      <td>IJA</td>\n",
       "    </tr>\n",
       "    <tr>\n",
       "      <th>9</th>\n",
       "      <td>Arc10</td>\n",
       "      <td>xxxxx</td>\n",
       "      <td>3</td>\n",
       "      <td>JAB</td>\n",
       "    </tr>\n",
       "  </tbody>\n",
       "</table>\n",
       "</div>"
      ],
      "text/plain": [
       "     arc  trans  len reads\n",
       "0   Arc1  xxxxx    4  ABCD\n",
       "1   Arc2  xxxxx    2    BC\n",
       "2   Arc3  xxxxx    3   CDE\n",
       "3   Arc4  xxxxx    4  DEFG\n",
       "4   Arc5  xxxxx    4  EFGH\n",
       "5   Arc6  xxxxx    3   FGH\n",
       "6   Arc7  xxxxx    2    GH\n",
       "7   Arc8  xxxxx    2    HI\n",
       "8   Arc9  xxxxx    3   IJA\n",
       "9  Arc10  xxxxx    3   JAB"
      ]
     },
     "execution_count": 128,
     "metadata": {},
     "output_type": "execute_result"
    }
   ],
   "source": [
    "## read in the data\n",
    "arc_df = pd.read_csv(\"w09-data.1.txt\", header=0, index_col=None, delim_whitespace=True)\n",
    "arc_df\n"
   ]
  },
  {
   "cell_type": "code",
   "execution_count": 129,
   "metadata": {},
   "outputs": [
    {
     "data": {
      "text/html": [
       "<div>\n",
       "<style scoped>\n",
       "    .dataframe tbody tr th:only-of-type {\n",
       "        vertical-align: middle;\n",
       "    }\n",
       "\n",
       "    .dataframe tbody tr th {\n",
       "        vertical-align: top;\n",
       "    }\n",
       "\n",
       "    .dataframe thead th {\n",
       "        text-align: right;\n",
       "    }\n",
       "</style>\n",
       "<table border=\"1\" class=\"dataframe\">\n",
       "  <thead>\n",
       "    <tr style=\"text-align: right;\">\n",
       "      <th></th>\n",
       "      <th>index</th>\n",
       "      <th>read_char</th>\n",
       "      <th>counts</th>\n",
       "    </tr>\n",
       "  </thead>\n",
       "  <tbody>\n",
       "    <tr>\n",
       "      <th>0</th>\n",
       "      <td>0</td>\n",
       "      <td>a</td>\n",
       "      <td>111446</td>\n",
       "    </tr>\n",
       "    <tr>\n",
       "      <th>1</th>\n",
       "      <td>1</td>\n",
       "      <td>b</td>\n",
       "      <td>76074</td>\n",
       "    </tr>\n",
       "    <tr>\n",
       "      <th>2</th>\n",
       "      <td>2</td>\n",
       "      <td>c</td>\n",
       "      <td>63285</td>\n",
       "    </tr>\n",
       "    <tr>\n",
       "      <th>3</th>\n",
       "      <td>3</td>\n",
       "      <td>d</td>\n",
       "      <td>124405</td>\n",
       "    </tr>\n",
       "    <tr>\n",
       "      <th>4</th>\n",
       "      <td>4</td>\n",
       "      <td>e</td>\n",
       "      <td>126593</td>\n",
       "    </tr>\n",
       "    <tr>\n",
       "      <th>5</th>\n",
       "      <td>5</td>\n",
       "      <td>f</td>\n",
       "      <td>123914</td>\n",
       "    </tr>\n",
       "    <tr>\n",
       "      <th>6</th>\n",
       "      <td>6</td>\n",
       "      <td>g</td>\n",
       "      <td>125104</td>\n",
       "    </tr>\n",
       "    <tr>\n",
       "      <th>7</th>\n",
       "      <td>7</td>\n",
       "      <td>h</td>\n",
       "      <td>89216</td>\n",
       "    </tr>\n",
       "    <tr>\n",
       "      <th>8</th>\n",
       "      <td>8</td>\n",
       "      <td>i</td>\n",
       "      <td>69544</td>\n",
       "    </tr>\n",
       "    <tr>\n",
       "      <th>9</th>\n",
       "      <td>9</td>\n",
       "      <td>j</td>\n",
       "      <td>90419</td>\n",
       "    </tr>\n",
       "  </tbody>\n",
       "</table>\n",
       "</div>"
      ],
      "text/plain": [
       "   index read_char  counts\n",
       "0      0         a  111446\n",
       "1      1         b   76074\n",
       "2      2         c   63285\n",
       "3      3         d  124405\n",
       "4      4         e  126593\n",
       "5      5         f  123914\n",
       "6      6         g  125104\n",
       "7      7         h   89216\n",
       "8      8         i   69544\n",
       "9      9         j   90419"
      ]
     },
     "execution_count": 129,
     "metadata": {},
     "output_type": "execute_result"
    }
   ],
   "source": [
    "## read in the data\n",
    "read_df = pd.read_csv(\"w09-data.2.txt\", header=0, index_col=None, delim_whitespace=True)\n",
    "read_df = read_df.reset_index()\n",
    "read_df"
   ]
  },
  {
   "cell_type": "code",
   "execution_count": 273,
   "metadata": {},
   "outputs": [],
   "source": [
    "def EM(reads, transcripts, lengths, iterations):\n",
    "    ## get some random values to start with\n",
    "    trans_abundances = nuc_to_trans(initialize_abundance_length(len(transcripts), 1,1)[0], lengths)\n",
    "    unique_reads, unique_counts = np.unique(reads, return_counts=True)\n",
    "    nlls = []\n",
    "    print(\"Training with %i iterations, threshold set at %f\"%(iteration, threshold))\n",
    "    for i in range(iterations):\n",
    "        total_counts = np.zeros(10)   ## counts for the 10 reads at once\n",
    "        for read_idx, read in enumerate(unique_reads):   ## same thing like what we did in the last question but\n",
    "            read_probs, idxs = [], []    ## we'll keep track of the indices so we can use numpy to quickly add new reads in each run to the total reads\n",
    "            for idx, transcript in enumerate(transcripts):\n",
    "                if read in transcript:\n",
    "                    idxs.append(idx)\n",
    "                    read_probs.append(np.log(trans_abundances[idx]/lengths[idx]))\n",
    "            read_probs = np.subtract(read_probs, special.logsumexp(read_probs))\n",
    "            read_counts = np.multiply(np.exp(read_probs),unique_counts[read_idx])  ## add up\n",
    "            np.add.at(total_counts, idxs, read_counts)\n",
    "            \n",
    "        trans_abundances = np.divide(total_counts, np.sum(total_counts))\n",
    "        nll = calc_nll(reads, transcripts, trans_to_nuc(trans_abundances, lengths), lengths)\n",
    "                                    \n",
    "        if not nlls:\n",
    "            nlls.append(nll)\n",
    "            continue\n",
    "        elif np.abs(np.subtract(nlls[-1], nll)) < threshold:\n",
    "            nlls.append(nll)\n",
    "            print(\"Training converged at step %i\"%i)\n",
    "            return trans_abundances, nlls\n",
    "        else: \n",
    "            nlls.append(nll)\n",
    "                                    \n",
    "    print(\"Exceeded max iteration, killed and saved.\")\n",
    "    return trans_abundances, nlls"
   ]
  },
  {
   "cell_type": "code",
   "execution_count": 285,
   "metadata": {},
   "outputs": [
    {
     "name": "stdout",
     "output_type": "stream",
     "text": [
      "Training with 10000 iterations, threshold set at 0.001000\n",
      "Training converged at step 2050\n"
     ]
    }
   ],
   "source": [
    "threshold = 0.001\n",
    "iteration = 10000\n",
    "\n",
    "reads = []\n",
    "for read, counts in zip(read_df[\"index\"],read_df.counts):\n",
    "    reads += [read]*counts\n",
    "transcripts = generate_arc(arc_df.len.tolist())\n",
    "lengths = arc_df.len.tolist()\n",
    "\n",
    "EM_abundances, EM_nlls = EM(reads, transcripts, lengths, iteration)\n"
   ]
  },
  {
   "cell_type": "code",
   "execution_count": 286,
   "metadata": {},
   "outputs": [
    {
     "data": {
      "image/png": "[encoded data removed]",
      "text/plain": [
       "<Figure size 720x432 with 1 Axes>"
      ]
     },
     "metadata": {
      "needs_background": "light"
     },
     "output_type": "display_data"
    }
   ],
   "source": [
    "import matplotlib.pyplot as plt\n",
    "plt.figure(figsize=(10,6))\n",
    "plt.plot(EM_nlls)\n",
    "plt.xlabel(\"Iteration\")\n",
    "plt.ylabel(\"NLL\")\n",
    "plt.title(\"EM optimization of transcript abundances\")\n",
    "plt.show()\n"
   ]
  },
  {
   "cell_type": "code",
   "execution_count": 287,
   "metadata": {},
   "outputs": [
    {
     "name": "stdout",
     "output_type": "stream",
     "text": [
      "[ 94115.33333333  46729.33333333  69203.          95455.\n",
      "  97523.16666667  75702.16666667  59842.5        111462.5\n",
      " 202453.66666667 147513.33333333]\n",
      "Arc1        0.068\n",
      "Arc2        0.068\n",
      "Arc3        0.067\n",
      "Arc4        0.069\n",
      "Arc5        0.071\n",
      "Arc6        0.073\n",
      "Arc7        0.087\n",
      "Arc8        0.161\n",
      "Arc9        0.195\n",
      "Arc10       0.142\n"
     ]
    }
   ],
   "source": [
    "les_est_abundances = Lestrade_est(reads, transcripts, lengths)\n"
   ]
  },
  {
   "cell_type": "code",
   "execution_count": 299,
   "metadata": {},
   "outputs": [
    {
     "data": {
      "text/html": [
       "<div>\n",
       "<style scoped>\n",
       "    .dataframe tbody tr th:only-of-type {\n",
       "        vertical-align: middle;\n",
       "    }\n",
       "\n",
       "    .dataframe tbody tr th {\n",
       "        vertical-align: top;\n",
       "    }\n",
       "\n",
       "    .dataframe thead th {\n",
       "        text-align: right;\n",
       "    }\n",
       "</style>\n",
       "<table border=\"1\" class=\"dataframe\">\n",
       "  <thead>\n",
       "    <tr style=\"text-align: right;\">\n",
       "      <th></th>\n",
       "      <th>Arc</th>\n",
       "      <th>EM abundance</th>\n",
       "      <th>Les abundance</th>\n",
       "      <th>Differences</th>\n",
       "    </tr>\n",
       "  </thead>\n",
       "  <tbody>\n",
       "    <tr>\n",
       "      <th>0</th>\n",
       "      <td>A</td>\n",
       "      <td>0.08411166246799551</td>\n",
       "      <td>0.06805198601052122</td>\n",
       "      <td>0.01605967645747429</td>\n",
       "    </tr>\n",
       "    <tr>\n",
       "      <th>1</th>\n",
       "      <td>B</td>\n",
       "      <td>0.008954558526382604</td>\n",
       "      <td>0.06757716996056576</td>\n",
       "      <td>0.05862261143418315</td>\n",
       "    </tr>\n",
       "    <tr>\n",
       "      <th>2</th>\n",
       "      <td>C</td>\n",
       "      <td>0.11333984585709321</td>\n",
       "      <td>0.06671816264988491</td>\n",
       "      <td>0.0466216832072083</td>\n",
       "    </tr>\n",
       "    <tr>\n",
       "      <th>3</th>\n",
       "      <td>D</td>\n",
       "      <td>0.26238419386984313</td>\n",
       "      <td>0.0690206589571055</td>\n",
       "      <td>0.1933635349127376</td>\n",
       "    </tr>\n",
       "    <tr>\n",
       "      <th>4</th>\n",
       "      <td>E</td>\n",
       "      <td>0.09287054161482344</td>\n",
       "      <td>0.07051608849108962</td>\n",
       "      <td>0.022354453123733825</td>\n",
       "    </tr>\n",
       "    <tr>\n",
       "      <th>5</th>\n",
       "      <td>F</td>\n",
       "      <td>0.10526742966718647</td>\n",
       "      <td>0.07298396700454259</td>\n",
       "      <td>0.03228346266264388</td>\n",
       "    </tr>\n",
       "    <tr>\n",
       "      <th>6</th>\n",
       "      <td>G</td>\n",
       "      <td>0.002426056266632222</td>\n",
       "      <td>0.08654064813033548</td>\n",
       "      <td>0.08411459186370325</td>\n",
       "    </tr>\n",
       "    <tr>\n",
       "      <th>7</th>\n",
       "      <td>H</td>\n",
       "      <td>0.05939087540082555</td>\n",
       "      <td>0.1611904080248572</td>\n",
       "      <td>0.10179953262403166</td>\n",
       "    </tr>\n",
       "    <tr>\n",
       "      <th>8</th>\n",
       "      <td>I</td>\n",
       "      <td>0.11954724245795834</td>\n",
       "      <td>0.19518426458003627</td>\n",
       "      <td>0.07563702212207793</td>\n",
       "    </tr>\n",
       "    <tr>\n",
       "      <th>9</th>\n",
       "      <td>J</td>\n",
       "      <td>0.15170759387125948</td>\n",
       "      <td>0.14221664619106136</td>\n",
       "      <td>0.00949094768019812</td>\n",
       "    </tr>\n",
       "  </tbody>\n",
       "</table>\n",
       "</div>"
      ],
      "text/plain": [
       "  Arc          EM abundance        Les abundance           Differences\n",
       "0   A   0.08411166246799551  0.06805198601052122   0.01605967645747429\n",
       "1   B  0.008954558526382604  0.06757716996056576   0.05862261143418315\n",
       "2   C   0.11333984585709321  0.06671816264988491    0.0466216832072083\n",
       "3   D   0.26238419386984313   0.0690206589571055    0.1933635349127376\n",
       "4   E   0.09287054161482344  0.07051608849108962  0.022354453123733825\n",
       "5   F   0.10526742966718647  0.07298396700454259   0.03228346266264388\n",
       "6   G  0.002426056266632222  0.08654064813033548   0.08411459186370325\n",
       "7   H   0.05939087540082555   0.1611904080248572   0.10179953262403166\n",
       "8   I   0.11954724245795834  0.19518426458003627   0.07563702212207793\n",
       "9   J   0.15170759387125948  0.14221664619106136   0.00949094768019812"
      ]
     },
     "execution_count": 299,
     "metadata": {},
     "output_type": "execute_result"
    }
   ],
   "source": [
    "df = pd.DataFrame(np.array([read_df.read_char.str.upper().tolist(), EM_abundances, les_abundances, np.abs(np.subtract(EM_abundances, les_est_abundances))]).T, \n",
    "                  columns=[\"Arc\",\"EM abundance\", \"Les abundance\", \"Differences\"])\n",
    "df"
   ]
  },
  {
   "cell_type": "code",
   "execution_count": 301,
   "metadata": {},
   "outputs": [
    {
     "name": "stdout",
     "output_type": "stream",
     "text": [
      "The negative log-likelyhood of EM optimized parameters is 2177889.73\n",
      "The negative log-likelyhood of Les' parameters is 2267657.38\n",
      "Lestrade's nll is 89767.65 greater than the EM optimized llh.\n"
     ]
    }
   ],
   "source": [
    "print(\"The negative log-likelyhood of EM optimized parameters is %.2f\"%EM_nlls[-1])\n",
    "print(\"The negative log-likelyhood of Les' parameters is %.2f\"%les_nll)\n",
    "print(\"Lestrade's nll is %.2f greater than the EM optimized llh.\"%np.abs(les_nll - EM_nlls[-1]))"
   ]
  },
  {
   "cell_type": "markdown",
   "metadata": {},
   "source": [
    "### More questions in Q3\n",
    "1. What are the most abundant two transcripts\n",
    "2. and how much of the population do they account for? \n",
    "3. What are the least abundant two transcripts? "
   ]
  },
  {
   "cell_type": "code",
   "execution_count": 306,
   "metadata": {},
   "outputs": [
    {
     "data": {
      "text/html": [
       "<div>\n",
       "<style scoped>\n",
       "    .dataframe tbody tr th:only-of-type {\n",
       "        vertical-align: middle;\n",
       "    }\n",
       "\n",
       "    .dataframe tbody tr th {\n",
       "        vertical-align: top;\n",
       "    }\n",
       "\n",
       "    .dataframe thead th {\n",
       "        text-align: right;\n",
       "    }\n",
       "</style>\n",
       "<table border=\"1\" class=\"dataframe\">\n",
       "  <thead>\n",
       "    <tr style=\"text-align: right;\">\n",
       "      <th></th>\n",
       "      <th>Arc</th>\n",
       "      <th>EM abundance</th>\n",
       "      <th>Les abundance</th>\n",
       "      <th>Differences</th>\n",
       "    </tr>\n",
       "  </thead>\n",
       "  <tbody>\n",
       "    <tr>\n",
       "      <th>3</th>\n",
       "      <td>D</td>\n",
       "      <td>0.26238419386984313</td>\n",
       "      <td>0.0690206589571055</td>\n",
       "      <td>0.1933635349127376</td>\n",
       "    </tr>\n",
       "    <tr>\n",
       "      <th>9</th>\n",
       "      <td>J</td>\n",
       "      <td>0.15170759387125948</td>\n",
       "      <td>0.14221664619106136</td>\n",
       "      <td>0.00949094768019812</td>\n",
       "    </tr>\n",
       "    <tr>\n",
       "      <th>8</th>\n",
       "      <td>I</td>\n",
       "      <td>0.11954724245795834</td>\n",
       "      <td>0.19518426458003627</td>\n",
       "      <td>0.07563702212207793</td>\n",
       "    </tr>\n",
       "    <tr>\n",
       "      <th>2</th>\n",
       "      <td>C</td>\n",
       "      <td>0.11333984585709321</td>\n",
       "      <td>0.06671816264988491</td>\n",
       "      <td>0.0466216832072083</td>\n",
       "    </tr>\n",
       "    <tr>\n",
       "      <th>5</th>\n",
       "      <td>F</td>\n",
       "      <td>0.10526742966718647</td>\n",
       "      <td>0.07298396700454259</td>\n",
       "      <td>0.03228346266264388</td>\n",
       "    </tr>\n",
       "    <tr>\n",
       "      <th>4</th>\n",
       "      <td>E</td>\n",
       "      <td>0.09287054161482344</td>\n",
       "      <td>0.07051608849108962</td>\n",
       "      <td>0.022354453123733825</td>\n",
       "    </tr>\n",
       "    <tr>\n",
       "      <th>0</th>\n",
       "      <td>A</td>\n",
       "      <td>0.08411166246799551</td>\n",
       "      <td>0.06805198601052122</td>\n",
       "      <td>0.01605967645747429</td>\n",
       "    </tr>\n",
       "    <tr>\n",
       "      <th>7</th>\n",
       "      <td>H</td>\n",
       "      <td>0.05939087540082555</td>\n",
       "      <td>0.1611904080248572</td>\n",
       "      <td>0.10179953262403166</td>\n",
       "    </tr>\n",
       "    <tr>\n",
       "      <th>1</th>\n",
       "      <td>B</td>\n",
       "      <td>0.008954558526382604</td>\n",
       "      <td>0.06757716996056576</td>\n",
       "      <td>0.05862261143418315</td>\n",
       "    </tr>\n",
       "    <tr>\n",
       "      <th>6</th>\n",
       "      <td>G</td>\n",
       "      <td>0.002426056266632222</td>\n",
       "      <td>0.08654064813033548</td>\n",
       "      <td>0.08411459186370325</td>\n",
       "    </tr>\n",
       "  </tbody>\n",
       "</table>\n",
       "</div>"
      ],
      "text/plain": [
       "  Arc          EM abundance        Les abundance           Differences\n",
       "3   D   0.26238419386984313   0.0690206589571055    0.1933635349127376\n",
       "9   J   0.15170759387125948  0.14221664619106136   0.00949094768019812\n",
       "8   I   0.11954724245795834  0.19518426458003627   0.07563702212207793\n",
       "2   C   0.11333984585709321  0.06671816264988491    0.0466216832072083\n",
       "5   F   0.10526742966718647  0.07298396700454259   0.03228346266264388\n",
       "4   E   0.09287054161482344  0.07051608849108962  0.022354453123733825\n",
       "0   A   0.08411166246799551  0.06805198601052122   0.01605967645747429\n",
       "7   H   0.05939087540082555   0.1611904080248572   0.10179953262403166\n",
       "1   B  0.008954558526382604  0.06757716996056576   0.05862261143418315\n",
       "6   G  0.002426056266632222  0.08654064813033548   0.08411459186370325"
      ]
     },
     "execution_count": 306,
     "metadata": {},
     "output_type": "execute_result"
    }
   ],
   "source": [
    "df.sort_values(\"EM abundance\", ascending=False)"
   ]
  },
  {
   "cell_type": "code",
   "execution_count": 315,
   "metadata": {},
   "outputs": [
    {
     "name": "stdout",
     "output_type": "stream",
     "text": [
      "The most abundant two are Arc D and Arc J (4 and 10) as shown above. \n",
      "They accout for 0.41 of the population.\n"
     ]
    }
   ],
   "source": [
    "print(\"The most abundant two are Arc D and Arc J (4 and 10) as shown above. \\n\\\n",
    "They accout for %.2f of the population.\"%(0.26238419386984313+0.15170759387125948))"
   ]
  },
  {
   "cell_type": "code",
   "execution_count": 316,
   "metadata": {},
   "outputs": [
    {
     "name": "stdout",
     "output_type": "stream",
     "text": [
      "The least abundant two are Arc B and Arc G (2 and 7) as shown above. \n",
      "They accout for 0.01 of the population.\n"
     ]
    }
   ],
   "source": [
    "print(\"The least abundant two are Arc B and Arc G (2 and 7) as shown above. \\n\\\n",
    "They accout for %.2f of the population.\"%(0.008954558526382604+0.002426056266632222))"
   ]
  },
  {
   "cell_type": "markdown",
   "metadata": {},
   "source": [
    "4. What do you think of Lestrade et al.'s conclusion that all 10 mRNA transcripts are expressed at about the same level? \n",
    "5. Explain why Lestrade's method's is worse."
   ]
  },
  {
   "cell_type": "code",
   "execution_count": 319,
   "metadata": {},
   "outputs": [
    {
     "data": {
      "text/plain": [
       "<AxesSubplot:xlabel='Arc'>"
      ]
     },
     "execution_count": 319,
     "metadata": {},
     "output_type": "execute_result"
    },
    {
     "data": {
      "image/png": "[encoded data removed]",
      "text/plain": [
       "<Figure size 432x288 with 1 Axes>"
      ]
     },
     "metadata": {
      "needs_background": "light"
     },
     "output_type": "display_data"
    }
   ],
   "source": [
    "df.set_index(\"Arc\").astype(float).plot()   ## I know this is a bad visualization but it's easy to do so..."
   ]
  },
  {
   "cell_type": "markdown",
   "metadata": {},
   "source": [
    "So, although our visualization is pretty terrible, we can see that the transcripts are not uniformly distributed as predicted by the EM optimization algorithm (See the blue line above). From the negative log-likelyhood test we also see that Lestrade's total NLL is 89767.65 greater than that of the EM algorithm, meaning that Les did a pretty bad job in estimating the parameters. And talking about why, Lestrade simply used ```1/L_i``` when calculating the necleotide abundance, assuming a uniform distribution, which is not the case, while we considered the actual abundance."
   ]
  },
  {
   "cell_type": "code",
   "execution_count": null,
   "metadata": {},
   "outputs": [],
   "source": []
  }
 ],
 "metadata": {
  "kernelspec": {
   "display_name": "Python 3",
   "language": "python",
   "name": "python3"
  },
  "language_info": {
   "codemirror_mode": {
    "name": "ipython",
    "version": 3
   },
   "file_extension": ".py",
   "mimetype": "text/x-python",
   "name": "python",
   "nbconvert_exporter": "python",
   "pygments_lexer": "ipython3",
   "version": "3.8.5"
  }
 },
 "nbformat": 4,
 "nbformat_minor": 4
}
