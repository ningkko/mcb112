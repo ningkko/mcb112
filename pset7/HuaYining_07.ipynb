{
 "cells": [
  {
   "cell_type": "markdown",
   "id": "02b8f81c",
   "metadata": {},
   "source": [
    "## Pset 07\n",
    "### Yining Hua"
   ]
  },
  {
   "cell_type": "markdown",
   "id": "7c7c2e50",
   "metadata": {},
   "source": [
    "## 1. write a python function to run an external edgeR analysis\n",
    "Write a python function that takes the name of an input counts file as an argument (and any other arguments you need), and returns the results of an edgeR analysis: gene names, log fold changes, log CPM, P-values, and FDRs (and any other data you find you want to return).\n",
    "\n",
    "You can use the poor hacker's style: have your python script write an R script to a file, run the R script externally with Rscript (see hints), and parse the resulting output file.\n",
    "\n",
    "Use the same edgeR analysis steps that Wiggins' analyze_W.r script used.\n",
    "\n"
   ]
  },
  {
   "cell_type": "markdown",
   "id": "22e07db4",
   "metadata": {},
   "source": [
    "### Comment\n",
    "I tried the code below, but unfortunately popen can not have the r script to write an output file. I appreciate if anyone can let me know why."
   ]
  },
  {
   "cell_type": "code",
   "execution_count": 55,
   "id": "a32d5cb5",
   "metadata": {},
   "outputs": [],
   "source": [
    "# import subprocess\n",
    "# import os\n",
    "# import re\n",
    "# def process(input_file, output_file=\"out.txt\"):\n",
    "#     command = \"!Rscript analyze_W.r %s %s\"%(input_file, output_file)\n",
    "#     print(command)\n",
    "#     process = os.popen(command)\n",
    "#     with open(output_file,\"r\") as file:\n",
    "#         print(file)"
   ]
  },
  {
   "cell_type": "markdown",
   "id": "5079c108",
   "metadata": {},
   "source": [
    "So I'll not waste time on making it look better. Let's dissect the code "
   ]
  },
  {
   "cell_type": "code",
   "execution_count": 56,
   "id": "8186911a",
   "metadata": {},
   "outputs": [],
   "source": [
    "## step 1: concat input files \n",
    "!join -t $'\\t' w07-data.1.txt w07-data.2.txt > 'w07_12'\n",
    "!join -t $'\\t' w07-data.1.txt w07-data.3.txt > 'w07_13'\n",
    "!join -t $'\\t' w07-data.2.txt w07-data.3.txt > 'w07_23'"
   ]
  },
  {
   "cell_type": "code",
   "execution_count": 57,
   "id": "6b27e841",
   "metadata": {},
   "outputs": [
    {
     "name": "stdout",
     "output_type": "stream",
     "text": [
      "\r\n",
      "library(edgeR)\r\n",
      "args = commandArgs(trailingOnly=TRUE)\r\n",
      "\r\n",
      "group  <- factor(c(1,1,1,2,2,2))     \r\n",
      "\r\n",
      "x     <- read.table(args[1], sep='\\t', row.names=1)\r\n",
      "y     <- DGEList(counts=x,group=group)\r\n",
      "y     <- estimateDisp(y)\r\n",
      "et    <- exactTest(y)\r\n",
      "tab   <- topTags(et, nrow(x))\r\n",
      "\r\n",
      "write.table(tab, file=args[2])\r\n"
     ]
    }
   ],
   "source": [
    "## step 2: revise the r script a bit to specify input file path\n",
    "! grep -v \"#\" analyze_W.r"
   ]
  },
  {
   "cell_type": "code",
   "execution_count": 58,
   "id": "9a95af9d",
   "metadata": {},
   "outputs": [
    {
     "name": "stdout",
     "output_type": "stream",
     "text": [
      "Loading required package: limma\n",
      "Using classic mode.\n",
      "Loading required package: limma\n",
      "Using classic mode.\n",
      "Loading required package: limma\n",
      "Using classic mode.\n"
     ]
    }
   ],
   "source": [
    "## execute\n",
    "!Rscript analyze_W.r w07_12 out12\n",
    "!Rscript analyze_W.r w07_13 out13\n",
    "!Rscript analyze_W.r w07_23 out23"
   ]
  },
  {
   "cell_type": "code",
   "execution_count": 59,
   "id": "750cf8ed",
   "metadata": {},
   "outputs": [
    {
     "name": "stdout",
     "output_type": "stream",
     "text": [
      "\"logFC\" \"logCPM\" \"PValue\" \"FDR\"\r\n",
      "\"rhubarb\" -7.30404458459638 6.85592878807056 1.2649466807511e-31 1.33371646499977e-27\r\n",
      "\"lettuce\" -7.08169402194066 12.9978176318645 1.71016193939563e-31 1.33371646499977e-27\r\n",
      "\"pomegranate\" -7.11690470262085 12.6540286688078 1.99747860566088e-31 1.33371646499977e-27\r\n",
      "\"olive\" -7.11410491485279 12.0970435754477 3.83211772182032e-31 1.91902875214457e-27\r\n",
      "\"asparagus\" -7.10197346108237 10.9890041794302 6.46190580534054e-31 2.58876870373553e-27\r\n",
      "\"banana\" -7.01024474784206 9.43519417285822 9.15217807896019e-31 3.05545465166086e-27\r\n",
      "\"chickpea\" -7.01050698694148 9.53451724893932 2.26110271145122e-30 5.8790453488915e-27\r\n",
      "\"artichoke\" -6.9220047529707 10.166412740368 2.60487200051963e-30 5.8790453488915e-27\r\n",
      "\"chestnut\" -6.90563007688696 10.631611416659 2.6414761190167e-30 5.8790453488915e-27\r\n"
     ]
    }
   ],
   "source": [
    "## read the result\n",
    "### I'll just do out12\n",
    "!head out12"
   ]
  },
  {
   "cell_type": "markdown",
   "id": "05ba26a2",
   "metadata": {},
   "source": [
    "Looks like the index column's not named."
   ]
  },
  {
   "cell_type": "code",
   "execution_count": 61,
   "id": "76ea2436",
   "metadata": {},
   "outputs": [
    {
     "data": {
      "text/html": [
       "<div>\n",
       "<style scoped>\n",
       "    .dataframe tbody tr th:only-of-type {\n",
       "        vertical-align: middle;\n",
       "    }\n",
       "\n",
       "    .dataframe tbody tr th {\n",
       "        vertical-align: top;\n",
       "    }\n",
       "\n",
       "    .dataframe thead th {\n",
       "        text-align: right;\n",
       "    }\n",
       "</style>\n",
       "<table border=\"1\" class=\"dataframe\">\n",
       "  <thead>\n",
       "    <tr style=\"text-align: right;\">\n",
       "      <th></th>\n",
       "      <th>logFC</th>\n",
       "      <th>logCPM</th>\n",
       "      <th>PValue</th>\n",
       "      <th>FDR</th>\n",
       "    </tr>\n",
       "  </thead>\n",
       "  <tbody>\n",
       "    <tr>\n",
       "      <th>rhubarb</th>\n",
       "      <td>-7.304045</td>\n",
       "      <td>6.855929</td>\n",
       "      <td>1.264947e-31</td>\n",
       "      <td>1.333716e-27</td>\n",
       "    </tr>\n",
       "    <tr>\n",
       "      <th>lettuce</th>\n",
       "      <td>-7.081694</td>\n",
       "      <td>12.997818</td>\n",
       "      <td>1.710162e-31</td>\n",
       "      <td>1.333716e-27</td>\n",
       "    </tr>\n",
       "    <tr>\n",
       "      <th>pomegranate</th>\n",
       "      <td>-7.116905</td>\n",
       "      <td>12.654029</td>\n",
       "      <td>1.997479e-31</td>\n",
       "      <td>1.333716e-27</td>\n",
       "    </tr>\n",
       "    <tr>\n",
       "      <th>olive</th>\n",
       "      <td>-7.114105</td>\n",
       "      <td>12.097044</td>\n",
       "      <td>3.832118e-31</td>\n",
       "      <td>1.919029e-27</td>\n",
       "    </tr>\n",
       "    <tr>\n",
       "      <th>asparagus</th>\n",
       "      <td>-7.101973</td>\n",
       "      <td>10.989004</td>\n",
       "      <td>6.461906e-31</td>\n",
       "      <td>2.588769e-27</td>\n",
       "    </tr>\n",
       "    <tr>\n",
       "      <th>...</th>\n",
       "      <td>...</td>\n",
       "      <td>...</td>\n",
       "      <td>...</td>\n",
       "      <td>...</td>\n",
       "    </tr>\n",
       "    <tr>\n",
       "      <th>VIT</th>\n",
       "      <td>-0.000171</td>\n",
       "      <td>5.496915</td>\n",
       "      <td>1.000000e+00</td>\n",
       "      <td>1.000000e+00</td>\n",
       "    </tr>\n",
       "    <tr>\n",
       "      <th>MT-ND5</th>\n",
       "      <td>-0.000113</td>\n",
       "      <td>5.940724</td>\n",
       "      <td>1.000000e+00</td>\n",
       "      <td>1.000000e+00</td>\n",
       "    </tr>\n",
       "    <tr>\n",
       "      <th>SBNO2</th>\n",
       "      <td>-0.000095</td>\n",
       "      <td>5.068007</td>\n",
       "      <td>1.000000e+00</td>\n",
       "      <td>1.000000e+00</td>\n",
       "    </tr>\n",
       "    <tr>\n",
       "      <th>RAET1E</th>\n",
       "      <td>-0.000011</td>\n",
       "      <td>1.425810</td>\n",
       "      <td>1.000000e+00</td>\n",
       "      <td>1.000000e+00</td>\n",
       "    </tr>\n",
       "    <tr>\n",
       "      <th>SLC25A27</th>\n",
       "      <td>0.000010</td>\n",
       "      <td>4.376448</td>\n",
       "      <td>1.000000e+00</td>\n",
       "      <td>1.000000e+00</td>\n",
       "    </tr>\n",
       "  </tbody>\n",
       "</table>\n",
       "<p>20031 rows × 4 columns</p>\n",
       "</div>"
      ],
      "text/plain": [
       "                logFC     logCPM        PValue           FDR\n",
       "rhubarb     -7.304045   6.855929  1.264947e-31  1.333716e-27\n",
       "lettuce     -7.081694  12.997818  1.710162e-31  1.333716e-27\n",
       "pomegranate -7.116905  12.654029  1.997479e-31  1.333716e-27\n",
       "olive       -7.114105  12.097044  3.832118e-31  1.919029e-27\n",
       "asparagus   -7.101973  10.989004  6.461906e-31  2.588769e-27\n",
       "...               ...        ...           ...           ...\n",
       "VIT         -0.000171   5.496915  1.000000e+00  1.000000e+00\n",
       "MT-ND5      -0.000113   5.940724  1.000000e+00  1.000000e+00\n",
       "SBNO2       -0.000095   5.068007  1.000000e+00  1.000000e+00\n",
       "RAET1E      -0.000011   1.425810  1.000000e+00  1.000000e+00\n",
       "SLC25A27     0.000010   4.376448  1.000000e+00  1.000000e+00\n",
       "\n",
       "[20031 rows x 4 columns]"
      ]
     },
     "execution_count": 61,
     "metadata": {},
     "output_type": "execute_result"
    }
   ],
   "source": [
    "import pandas as pd\n",
    "out_12 = pd.read_table(\"out12\", sep=\" \", index_col=0)\n",
    "out_12"
   ]
  },
  {
   "cell_type": "markdown",
   "id": "4fdddd85",
   "metadata": {},
   "source": [
    "## 2. reproduce Wiggins' data, assign the missing labels\n",
    "There are three possible combinations of Wiggins' data files: (1,2), (1,3), or (2,3). Using your Python function for running his edgeR analysis, run all three analyses.\n",
    "\n",
    "Which combination did he run to obtain his result of 2107 differentially expressed genes significant at P<0.05?\n",
    "\n",
    "Which of the three files corresponds to the mutant sand mouse samples? Why?\n",
    "\n",
    "\n"
   ]
  },
  {
   "cell_type": "code",
   "execution_count": 62,
   "id": "1b31304e",
   "metadata": {},
   "outputs": [
    {
     "name": "stdout",
     "output_type": "stream",
     "text": [
      "Num of genes with p<0.05 in out_12: 2107\n",
      "Num of genes with p<0.05 in out_13: 1978\n",
      "Num of genes with p<0.05 in out_23: 1018\n"
     ]
    }
   ],
   "source": [
    "out_23 = pd.read_table(\"out23\", sep=\" \", index_col=0)\n",
    "out_13 = pd.read_table(\"out13\", sep=\" \", index_col=0)\n",
    "\n",
    "print(\"Num of genes with p<0.05 in %s: %i\"%(\"out_12\", len(out_12[out_12['PValue']<0.05])))\n",
    "print(\"Num of genes with p<0.05 in %s: %i\"%(\"out_13\", len(out_13[out_13['PValue']<0.05])))\n",
    "print(\"Num of genes with p<0.05 in %s: %i\"%(\"out_23\", len(out_23[out_23['PValue']<0.05])))\n"
   ]
  },
  {
   "cell_type": "markdown",
   "id": "204ffb37",
   "metadata": {},
   "source": [
    "See that 2107 in out_12? So combination of file 1 and 2 were used by Wiggins.\\\n",
    "The first file should be the muasnt sand mouse samples because 1+2 and 1+3 produced the same level of #differentially expressed genes (around 2000). Meanwhile #differentially expressed genes is much lower in the output file of 2+3, indicating that 2 and 3 should be normal wild type control mice.\n",
    "\n",
    "\n"
   ]
  },
  {
   "cell_type": "markdown",
   "id": "64775578",
   "metadata": {},
   "source": [
    "## 3. Wiggins doesn't understand p-values\n",
    "Do you agree with Wiggins' conclusion that 2107 genes are differentially expressed in that wt vs. mutant comparison? What did he fail to do?\n",
    "\n",
    "Give a different conclusion of your own -- what is a more appropriate statistical cutoff, and how many genes are called differentially expressed at your threshold?\n"
   ]
  },
  {
   "cell_type": "code",
   "execution_count": 67,
   "id": "7764b5e2",
   "metadata": {},
   "outputs": [
    {
     "data": {
      "text/plain": [
       "105.35000000000001"
      ]
     },
     "execution_count": 67,
     "metadata": {},
     "output_type": "execute_result"
    }
   ],
   "source": [
    "## how many genes we have? \n",
    "len(out_12)*0.05*(2107/len(out_12))"
   ]
  },
  {
   "cell_type": "markdown",
   "id": "8e1e9266",
   "metadata": {},
   "source": [
    "## Answer\n",
    "I think the explanation in the lecture notes has made it clear (having 2001 significantly associated genes also doesn't make sense):\n",
    "- the \"PValue\" is the probability per test (per gene). The FDR is, if you took all m \"differentially expressed\" gene in the list from this one and up, how many of those top m are expected to be false positives. Usually, we're interested in the set of predictions and how good it is, so it's more often the FDR that we're wanting to look at, and to control.\n",
    "\n",
    "Usually in gene-related studies we use FDRs rather than P-values (Or really small p-values e.g. $p < 5e-8$), because there are too many tests being performed."
   ]
  },
  {
   "cell_type": "code",
   "execution_count": 69,
   "id": "a6e20d9a",
   "metadata": {},
   "outputs": [
    {
     "data": {
      "text/html": [
       "<div>\n",
       "<style scoped>\n",
       "    .dataframe tbody tr th:only-of-type {\n",
       "        vertical-align: middle;\n",
       "    }\n",
       "\n",
       "    .dataframe tbody tr th {\n",
       "        vertical-align: top;\n",
       "    }\n",
       "\n",
       "    .dataframe thead th {\n",
       "        text-align: right;\n",
       "    }\n",
       "</style>\n",
       "<table border=\"1\" class=\"dataframe\">\n",
       "  <thead>\n",
       "    <tr style=\"text-align: right;\">\n",
       "      <th></th>\n",
       "      <th>logFC</th>\n",
       "      <th>logCPM</th>\n",
       "      <th>PValue</th>\n",
       "      <th>FDR</th>\n",
       "    </tr>\n",
       "  </thead>\n",
       "  <tbody>\n",
       "    <tr>\n",
       "      <th>rhubarb</th>\n",
       "      <td>-7.304045</td>\n",
       "      <td>6.855929</td>\n",
       "      <td>1.264947e-31</td>\n",
       "      <td>1.333716e-27</td>\n",
       "    </tr>\n",
       "    <tr>\n",
       "      <th>lettuce</th>\n",
       "      <td>-7.081694</td>\n",
       "      <td>12.997818</td>\n",
       "      <td>1.710162e-31</td>\n",
       "      <td>1.333716e-27</td>\n",
       "    </tr>\n",
       "    <tr>\n",
       "      <th>pomegranate</th>\n",
       "      <td>-7.116905</td>\n",
       "      <td>12.654029</td>\n",
       "      <td>1.997479e-31</td>\n",
       "      <td>1.333716e-27</td>\n",
       "    </tr>\n",
       "    <tr>\n",
       "      <th>olive</th>\n",
       "      <td>-7.114105</td>\n",
       "      <td>12.097044</td>\n",
       "      <td>3.832118e-31</td>\n",
       "      <td>1.919029e-27</td>\n",
       "    </tr>\n",
       "    <tr>\n",
       "      <th>asparagus</th>\n",
       "      <td>-7.101973</td>\n",
       "      <td>10.989004</td>\n",
       "      <td>6.461906e-31</td>\n",
       "      <td>2.588769e-27</td>\n",
       "    </tr>\n",
       "    <tr>\n",
       "      <th>...</th>\n",
       "      <td>...</td>\n",
       "      <td>...</td>\n",
       "      <td>...</td>\n",
       "      <td>...</td>\n",
       "    </tr>\n",
       "    <tr>\n",
       "      <th>NRBF2</th>\n",
       "      <td>1.933659</td>\n",
       "      <td>6.100198</td>\n",
       "      <td>7.529734e-05</td>\n",
       "      <td>2.556409e-02</td>\n",
       "    </tr>\n",
       "    <tr>\n",
       "      <th>SLC22A3</th>\n",
       "      <td>1.923916</td>\n",
       "      <td>7.697988</td>\n",
       "      <td>7.668450e-05</td>\n",
       "      <td>2.560112e-02</td>\n",
       "    </tr>\n",
       "    <tr>\n",
       "      <th>WDR5</th>\n",
       "      <td>1.982249</td>\n",
       "      <td>4.750166</td>\n",
       "      <td>9.018050e-05</td>\n",
       "      <td>2.961321e-02</td>\n",
       "    </tr>\n",
       "    <tr>\n",
       "      <th>KBTBD7</th>\n",
       "      <td>1.938968</td>\n",
       "      <td>2.261964</td>\n",
       "      <td>1.030004e-04</td>\n",
       "      <td>3.327743e-02</td>\n",
       "    </tr>\n",
       "    <tr>\n",
       "      <th>PXK</th>\n",
       "      <td>1.881716</td>\n",
       "      <td>4.153127</td>\n",
       "      <td>1.299058e-04</td>\n",
       "      <td>4.130387e-02</td>\n",
       "    </tr>\n",
       "  </tbody>\n",
       "</table>\n",
       "<p>63 rows × 4 columns</p>\n",
       "</div>"
      ],
      "text/plain": [
       "                logFC     logCPM        PValue           FDR\n",
       "rhubarb     -7.304045   6.855929  1.264947e-31  1.333716e-27\n",
       "lettuce     -7.081694  12.997818  1.710162e-31  1.333716e-27\n",
       "pomegranate -7.116905  12.654029  1.997479e-31  1.333716e-27\n",
       "olive       -7.114105  12.097044  3.832118e-31  1.919029e-27\n",
       "asparagus   -7.101973  10.989004  6.461906e-31  2.588769e-27\n",
       "...               ...        ...           ...           ...\n",
       "NRBF2        1.933659   6.100198  7.529734e-05  2.556409e-02\n",
       "SLC22A3      1.923916   7.697988  7.668450e-05  2.560112e-02\n",
       "WDR5         1.982249   4.750166  9.018050e-05  2.961321e-02\n",
       "KBTBD7       1.938968   2.261964  1.030004e-04  3.327743e-02\n",
       "PXK          1.881716   4.153127  1.299058e-04  4.130387e-02\n",
       "\n",
       "[63 rows x 4 columns]"
      ]
     },
     "execution_count": 69,
     "metadata": {},
     "output_type": "execute_result"
    }
   ],
   "source": [
    "out_12[out_12.FDR<0.05]"
   ]
  },
  {
   "cell_type": "markdown",
   "id": "9463a1a0",
   "metadata": {},
   "source": [
    "Using the threshold of FDR<0.05 we get 63 significantly associated genes, which makes much more sense.\n",
    "\n",
    "### Let's also do cross files to check if this violates our hypothesis that 1 is the sandmouse file"
   ]
  },
  {
   "cell_type": "code",
   "execution_count": 80,
   "id": "6af453c5",
   "metadata": {},
   "outputs": [
    {
     "name": "stdout",
     "output_type": "stream",
     "text": [
      "Num of genes with FDR<0.05 in out_12: 63\n",
      "Num of genes with FDR<0.05 in out_13: 63\n",
      "Num of genes with FDR<0.05 in out_23: 0\n"
     ]
    }
   ],
   "source": [
    "print(\"Num of genes with FDR<0.05 in %s: %i\"%(\"out_12\", len(out_12[out_12['FDR']<0.05])))\n",
    "print(\"Num of genes with FDR<0.05 in %s: %i\"%(\"out_13\", len(out_13[out_13['FDR']<0.05])))\n",
    "print(\"Num of genes with FDR<0.05 in %s: %i\"%(\"out_23\", len(out_23[out_23['FDR']<0.05])))\n"
   ]
  },
  {
   "cell_type": "markdown",
   "id": "d4f897c5",
   "metadata": {},
   "source": [
    "Wow nice result, really proved that 2&3 were control groups and 1 was the sandmouse one."
   ]
  },
  {
   "cell_type": "markdown",
   "id": "ce449c8c",
   "metadata": {},
   "source": [
    "## 4. Wiggins missed something else too\n",
    "Wiggins' analysis has a subtler problem. It's missing an important step in the edgeR analysis pipeline, and it just happens (!) that this example exercises exactly the problem that that edgeR step is designed to deal with. Find it and fix it -- you'll need to add one step in the R analysis script -- and rerun the analysis. Now how many genes do you think are differentially expressed? What was the problem? (see hints)\n",
    "\n"
   ]
  },
  {
   "cell_type": "code",
   "execution_count": 78,
   "id": "6219f42c",
   "metadata": {},
   "outputs": [
    {
     "data": {
      "image/png": "[encoded data removed]",
      "text/plain": [
       "<Figure size 432x288 with 1 Axes>"
      ]
     },
     "metadata": {
      "needs_background": "light"
     },
     "output_type": "display_data"
    }
   ],
   "source": [
    "import matplotlib.pyplot as plt\n",
    "out_12 = out_12.sort_values(by='logFC')\n",
    "plt.scatter(list(range(len(out_12))), out_12['logFC'])\n",
    "plt.ylabel('logFC')\n",
    "plt.xlabel('Sample number')\n",
    "plt.show()"
   ]
  },
  {
   "cell_type": "markdown",
   "id": "da67d297",
   "metadata": {},
   "source": [
    "This looks ok. Let's look at the significant ones\n"
   ]
  },
  {
   "cell_type": "code",
   "execution_count": 77,
   "id": "5a4a6dd1",
   "metadata": {},
   "outputs": [
    {
     "data": {
      "image/png": "[encoded data removed]",
      "text/plain": [
       "<Figure size 432x288 with 1 Axes>"
      ]
     },
     "metadata": {
      "needs_background": "light"
     },
     "output_type": "display_data"
    }
   ],
   "source": [
    "plt.scatter(list(range(len(out_12[out_12.FDR<0.05]))), out_12[out_12.FDR<0.05]['logFC'])\n",
    "plt.ylabel('logFC')\n",
    "plt.xlabel('Sample number')\n",
    "plt.show()"
   ]
  },
  {
   "cell_type": "markdown",
   "id": "2834c5f2",
   "metadata": {},
   "source": [
    "Ahha there's a gap. Some genes might be too abundant (relatively) so the fold change was not consistent. Let's normalize them."
   ]
  },
  {
   "cell_type": "code",
   "execution_count": 88,
   "id": "ce9c84bc",
   "metadata": {},
   "outputs": [
    {
     "name": "stdout",
     "output_type": "stream",
     "text": [
      "\r\n",
      "library(edgeR)\r\n",
      "args = commandArgs(trailingOnly=TRUE)\r\n",
      "\r\n",
      "group  <- factor(c(1,1,1,2,2,2))     \r\n",
      "\r\n",
      "x     <- read.table(args[1], sep='\\t', row.names=1)\r\n",
      "y     <- DGEList(counts=x,group=group)\r\n",
      "y     <- estimateDisp(y)\r\n",
      "et    <- exactTest(y)\r\n",
      "tab   <- topTags(et, nrow(x))\r\n",
      "\r\n",
      "write.table(tab, file=args[2])\r\n"
     ]
    }
   ],
   "source": [
    "! grep -v \"#\" analyze_W.r"
   ]
  },
  {
   "cell_type": "markdown",
   "id": "1e28dc2a",
   "metadata": {},
   "source": [
    "Let's add these:\n",
    "\n",
    "```\n",
    "keep  <- filterByExpr(y)        ## The filterByExpr function keeps rows that have worthwhile counts in \n",
    "                                ## a minumum number of samples. This one's probably unnecessary but \n",
    "                                ## let's add it just in case.\n",
    "y     <- y[keep, , keep.lib.sizes=FALSE]\n",
    "y     <- calcNormFactors(y)     ## normalization!\n",
    "```"
   ]
  },
  {
   "cell_type": "code",
   "execution_count": 89,
   "id": "f90a35e0",
   "metadata": {},
   "outputs": [
    {
     "name": "stdout",
     "output_type": "stream",
     "text": [
      "\r\n",
      "library(edgeR)\r\n",
      "args = commandArgs(trailingOnly=TRUE)\r\n",
      "\r\n",
      "group  <- factor(c(1,1,1,2,2,2))     \r\n",
      "\r\n",
      "x     <- read.table(args[1], sep='\\t', row.names=1)\r\n",
      "y     <- DGEList(counts=x,group=group)\r\n",
      "y     <- y[keep, , keep.lib.sizes=FALSE]\r\n",
      "y     <- estimateDisp(y)\r\n",
      "et    <- exactTest(y)\r\n",
      "tab   <- topTags(et, nrow(x))\r\n",
      "\r\n",
      "write.table(tab, file=args[2])\r\n"
     ]
    }
   ],
   "source": [
    "! grep -v \"#\" analyze_W.r"
   ]
  },
  {
   "cell_type": "markdown",
   "id": "bb338342",
   "metadata": {},
   "source": [
    "Added. Now let's run the analyses again."
   ]
  },
  {
   "cell_type": "code",
   "execution_count": 96,
   "id": "0fdab774",
   "metadata": {},
   "outputs": [
    {
     "name": "stdout",
     "output_type": "stream",
     "text": [
      "Loading required package: limma\n",
      "Using classic mode.\n"
     ]
    }
   ],
   "source": [
    "!Rscript analyze_W.r w07_12 out12\n",
    "out_12 = pd.read_table(\"out12\", sep=\" \", index_col=0)"
   ]
  },
  {
   "cell_type": "code",
   "execution_count": 100,
   "id": "e1585f52",
   "metadata": {},
   "outputs": [
    {
     "data": {
      "image/png": "[encoded data removed]",
      "text/plain": [
       "<Figure size 432x288 with 1 Axes>"
      ]
     },
     "metadata": {
      "needs_background": "light"
     },
     "output_type": "display_data"
    }
   ],
   "source": [
    "out_12 = out_12.sort_values(by='logFC')\n",
    "plt.scatter(list(range(len(out_12[out_12.FDR<0.05]))), out_12[out_12.FDR<0.05]['logFC'])\n",
    "plt.ylabel('logFC')\n",
    "plt.xlabel('Sample number')\n",
    "plt.show()"
   ]
  },
  {
   "cell_type": "code",
   "execution_count": 103,
   "id": "3521d82e",
   "metadata": {},
   "outputs": [
    {
     "data": {
      "text/plain": [
       "53"
      ]
     },
     "execution_count": 103,
     "metadata": {},
     "output_type": "execute_result"
    }
   ],
   "source": [
    "len(out_12[out_12.FDR<0.05])"
   ]
  },
  {
   "cell_type": "markdown",
   "id": "4697f04f",
   "metadata": {},
   "source": [
    "Still some outliers, but better. We have 53 highly associated genese left."
   ]
  },
  {
   "cell_type": "code",
   "execution_count": null,
   "id": "f22ce1d4",
   "metadata": {},
   "outputs": [],
   "source": []
  }
 ],
 "metadata": {
  "kernelspec": {
   "display_name": "Python 3",
   "language": "python",
   "name": "python3"
  },
  "language_info": {
   "codemirror_mode": {
    "name": "ipython",
    "version": 3
   },
   "file_extension": ".py",
   "mimetype": "text/x-python",
   "name": "python",
   "nbconvert_exporter": "python",
   "pygments_lexer": "ipython3",
   "version": "3.8.5"
  }
 },
 "nbformat": 4,
 "nbformat_minor": 5
}
