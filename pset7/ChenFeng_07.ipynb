{
 "cells": [
  {
   "cell_type": "markdown",
   "id": "43d9aff6",
   "metadata": {},
   "source": [
    "# Pset 7"
   ]
  },
  {
   "cell_type": "markdown",
   "id": "1d065c0c",
   "metadata": {},
   "source": [
    "## Part 1\n",
    "Use python to run EdgeR externally and get result"
   ]
  },
  {
   "cell_type": "code",
   "execution_count": 1,
   "id": "c8ca9bca",
   "metadata": {},
   "outputs": [],
   "source": [
    "#!Rscript analyze_W.r"
   ]
  },
  {
   "cell_type": "code",
   "execution_count": 2,
   "id": "685c1bab",
   "metadata": {},
   "outputs": [],
   "source": [
    "## write R script based on the analyze_W.r file into my own r script\n",
    "def runEdgeR (countsFile): \n",
    "    l1=\"library(edgeR)\\n\"\n",
    "    l2=\"infile     <- '{}' \\n\".format(countsFile)\n",
    "    l3=\"group      <- factor(c(1,1,1,2,2,2))\\n\"   \n",
    "    l4=\"outfile    <- 'FCResult.out'\\n\"\n",
    "    l5=\"x     <- read.table(infile, sep='\\\\t', row.names=1)\\n\"\n",
    "    l6=\"y     <- DGEList(counts=x,group=group)\\n\"\n",
    "    l7=\"y     <- estimateDisp(y)\\n\"\n",
    "    l8=\"et    <- exactTest(y)\\n\"\n",
    "    l9=\"tab   <- topTags(et, nrow(x))\\n\"\n",
    "    l10=\"write.table(tab, file=outfile)\\n\"\n",
    "    ## create and open the R script and write the command by strings to it\n",
    "    with open('myanalysis.r','w') as out:\n",
    "        out.writelines([l1, l2, l3, l4, l5, l6, l7, l8, l9, l10])\n",
    "    \n",
    "    ## run the R script file in command line\n",
    "    !Rscript myanalysis.r\n",
    "    \n",
    "    ## initialize return data\n",
    "    geneNames = []\n",
    "    logFCs = []\n",
    "    logCPMs = []\n",
    "    pValues = []\n",
    "    FDRs = []\n",
    "    \n",
    "    ## open the results file and parse inputs and store the result to their correspoinding list\n",
    "    with open (\"FCResult.out\", 'r') as infile: \n",
    "        next (infile)\n",
    "        for line in infile:\n",
    "            lineInfoList = line.split()\n",
    "            geneNames.append(lineInfoList[0])\n",
    "            logFCs.append(float(lineInfoList[1]))\n",
    "            logCPMs.append(float(lineInfoList[2]))\n",
    "            pValues.append(float(lineInfoList[3]))\n",
    "            FDRs.append(float(lineInfoList[4]))\n",
    "    \n",
    "    return geneNames, logFCs, logCPMs, pValues, FDRs"
   ]
  },
  {
   "cell_type": "code",
   "execution_count": 3,
   "id": "b1d9ae1e",
   "metadata": {},
   "outputs": [],
   "source": [
    "## join each data to form the merged data file\n",
    "!join -t $'\\t' w07-data.1 w07-data.2 > merged.12\n",
    "!join -t $'\\t' w07-data.1 w07-data.3 > merged.13\n",
    "!join -t $'\\t' w07-data.2 w07-data.3 > merged.23"
   ]
  },
  {
   "cell_type": "code",
   "execution_count": 4,
   "id": "8b3446d2",
   "metadata": {},
   "outputs": [
    {
     "name": "stdout",
     "output_type": "stream",
     "text": [
      "Loading required package: limma\n",
      "Using classic mode.\n",
      "Loading required package: limma\n",
      "Using classic mode.\n",
      "Loading required package: limma\n",
      "Using classic mode.\n"
     ]
    }
   ],
   "source": [
    "## run EdgeR externally and get results for each of the file\n",
    "geneNames12, logFCs12, logCPMs12, pValues12, FDRs12 = runEdgeR (\"merged.12\")\n",
    "geneNames13, logFCs13, logCPMs13, pValues13, FDRs13 = runEdgeR (\"merged.13\")\n",
    "geneNames23, logFCs23, logCPMs23, pValues23, FDRs23 = runEdgeR (\"merged.23\")"
   ]
  },
  {
   "cell_type": "markdown",
   "id": "ba44468a",
   "metadata": {},
   "source": [
    "## Part 2\n",
    "reproduce the wiggins data and assign missing labels"
   ]
  },
  {
   "cell_type": "code",
   "execution_count": 5,
   "id": "b0e1f7c1",
   "metadata": {},
   "outputs": [
    {
     "name": "stdout",
     "output_type": "stream",
     "text": [
      "Number of genes with p<0.05 in data files 1 & 2:    2107\n",
      "Number of genes with p<0.05 in data files 1 & 3:    1978\n",
      "Number of genes with p<0.05 in data files 2 & 3:    1018\n"
     ]
    }
   ],
   "source": [
    "## extract all p-values smaller than 0.05 and return the total counts\n",
    "def checkPValues (pValueList): \n",
    "    count = 0\n",
    "    for pValue in pValueList: \n",
    "        if pValue < 0.05: \n",
    "            count+=1\n",
    "    return count \n",
    "\n",
    "## print the number of cases for each merged file\n",
    "print (\"Number of genes with p<0.05 in data files 1 & 2:  {0:6d}\".format(checkPValues(pValues12)))\n",
    "print (\"Number of genes with p<0.05 in data files 1 & 3:  {0:6d}\".format(checkPValues(pValues13)))\n",
    "print (\"Number of genes with p<0.05 in data files 2 & 3:  {0:6d}\".format(checkPValues(pValues23)))"
   ]
  },
  {
   "cell_type": "markdown",
   "id": "9c96098d",
   "metadata": {},
   "source": [
    "The merged file for data 1 and 2 got 2107 different expressed genes with p value < 0.05.\n",
    "\n",
    "We can see that merged file 12 and merged file 13 have almost same amount of different expressed genes. However, merged file 23 has only around 1000 different expressed genes which is much fewer than the other two. In this way, we could conclude that data file 2 and data file 3 are the same wild type, while data file 1 is the mutant."
   ]
  },
  {
   "cell_type": "markdown",
   "id": "68c2bf18",
   "metadata": {},
   "source": [
    "## Part 3"
   ]
  },
  {
   "cell_type": "code",
   "execution_count": 6,
   "id": "9cec19f9",
   "metadata": {},
   "outputs": [
    {
     "name": "stdout",
     "output_type": "stream",
     "text": [
      "Number of genes with FDR<0.05 in data files 1 & 2:      63\n",
      "Number of genes with FDR<0.05 in data files 1 & 3:      63\n",
      "Number of genes with FDR<0.05 in data files 2 & 3:       0\n"
     ]
    }
   ],
   "source": [
    "## extract all FDR smaller than 0.05 and return the total counts\n",
    "def checkFDRs (FDRList): \n",
    "    count = 0\n",
    "    for FDR in FDRList: \n",
    "        if FDR < 0.05: \n",
    "            count+=1\n",
    "    return count\n",
    "\n",
    "## print the number of cases for each merged file\n",
    "print (\"Number of genes with FDR<0.05 in data files 1 & 2:  {0:6d}\".format(checkFDRs(FDRs12)))\n",
    "print (\"Number of genes with FDR<0.05 in data files 1 & 3:  {0:6d}\".format(checkFDRs(FDRs13)))\n",
    "print (\"Number of genes with FDR<0.05 in data files 2 & 3:  {0:6d}\".format(checkFDRs(FDRs23)))"
   ]
  },
  {
   "cell_type": "markdown",
   "id": "03d7b66b",
   "metadata": {},
   "source": [
    "I don't agree with Wiggin's conclusion. He missed the point that EdgeR relies on H0 that all samples are from the sample type of data. \n",
    "\n",
    "I believe that FDR is a better measurement in this case than p-value. As there are too many samples and FDR could measure the false discovery rate which is the rate to reject null hypothesis when it is actually true. Based on my threshold of FDR < 0.05, there are 63 cases that pass the threshold in both merged file 12 and 13, which means that the number of different expressed genes between wildtype and mutant is 63. Also, the number of case for merged file 23 is 0, which also proves that FDR is suitable as both data are the same type and they should have no different expressed genes."
   ]
  },
  {
   "cell_type": "markdown",
   "id": "f0d71da4",
   "metadata": {},
   "source": [
    "## Part 4"
   ]
  },
  {
   "cell_type": "code",
   "execution_count": 7,
   "id": "43ba26ee",
   "metadata": {},
   "outputs": [],
   "source": [
    "## update the EdgeR function with normalization added in the pipeline\n",
    "def runEdgeRQ4 (countsFile): \n",
    "    l1=\"library(edgeR)\\n\"\n",
    "    l2=\"infile     <- '{}' \\n\".format(countsFile)\n",
    "    l3=\"group      <- factor(c(1,1,1,2,2,2))\\n\"   \n",
    "    l4=\"outfile    <- 'FCResult2.out'\\n\"\n",
    "    l5=\"x     <- read.table(infile, sep='\\\\t', row.names=1)\\n\"\n",
    "    l6=\"y     <- DGEList(counts=x,group=group)\\n\"\n",
    "    \n",
    "    ## add normalization step into the pipeline\n",
    "    l61=\"y <- calcNormFactors(y)\\n\"\n",
    "    l62=\"design <- model.matrix(~group)\\n\"\n",
    "    l7=\"y     <- estimateDisp(y, design)\\n\"  \n",
    "    l8=\"et    <- exactTest(y)\\n\"\n",
    "    l9=\"tab   <- topTags(et, nrow(x))\\n\"\n",
    "    l10=\"write.table(tab, file=outfile)\\n\"\n",
    "    ## create another R script and store the new command in it\n",
    "    with open('mynormalize.r','w') as out:\n",
    "        out.writelines([l1, l2, l3, l4, l5, l6, l61, l62, l7, l8, l9, l10])\n",
    "    \n",
    "    ##run the updated R script file\n",
    "    !Rscript mynormalize.r\n",
    "    \n",
    "    ## store the updated result\n",
    "    geneNames = []\n",
    "    logFCs = []\n",
    "    logCPMs = []\n",
    "    pValues = []\n",
    "    FDRs = []\n",
    "    \n",
    "    # open a new file and parse inputs and store updated results\n",
    "    with open (\"FCResult2.out\", 'r') as infile: \n",
    "        next (infile)\n",
    "        for line in infile:\n",
    "            lineInfoList = line.split()\n",
    "            geneNames.append(lineInfoList[0])\n",
    "            logFCs.append(float(lineInfoList[1]))\n",
    "            logCPMs.append(float(lineInfoList[2]))\n",
    "            pValues.append(float(lineInfoList[3]))\n",
    "            FDRs.append(float(lineInfoList[4]))\n",
    "    \n",
    "    return geneNames, logFCs, logCPMs, pValues, FDRs"
   ]
  },
  {
   "cell_type": "code",
   "execution_count": 8,
   "id": "8298416d",
   "metadata": {},
   "outputs": [
    {
     "name": "stdout",
     "output_type": "stream",
     "text": [
      "Loading required package: limma\n",
      "Loading required package: limma\n",
      "Loading required package: limma\n",
      "Number of genes with FDR<0.05 in data files 1 & 2:      53\n",
      "Number of genes with FDR<0.05 in data files 1 & 3:      53\n",
      "Number of genes with FDR<0.05 in data files 2 & 3:       0\n"
     ]
    }
   ],
   "source": [
    "## rerun the EdgeR and count the genes that pass the FDR threshold in the updated pipeline\n",
    "geneNames12_4, logFCs12_4, logCPMs12_4, pValues12_4, FDRs12_4 = runEdgeRQ4 (\"merged.12\")\n",
    "geneNames13_4, logFCs13_4, logCPMs13_4, pValues13_4, FDRs13_4 = runEdgeRQ4 (\"merged.13\")\n",
    "geneNames23_4, logFCs23_4, logCPMs23_4, pValues23_4, FDRs23_4 = runEdgeRQ4 (\"merged.23\")\n",
    "\n",
    "print (\"Number of genes with FDR<0.05 in data files 1 & 2:  {0:6d}\".format(checkFDRs(FDRs12_4)))\n",
    "print (\"Number of genes with FDR<0.05 in data files 1 & 3:  {0:6d}\".format(checkFDRs(FDRs13_4)))\n",
    "print (\"Number of genes with FDR<0.05 in data files 2 & 3:  {0:6d}\".format(checkFDRs(FDRs23_4)))"
   ]
  },
  {
   "cell_type": "markdown",
   "id": "eccf5acc",
   "metadata": {},
   "source": [
    "The important step that is missing in the edgeR pipeline is normalization. It is a crucial step that could deal with unequal data sizes.\n",
    "\n",
    "\n",
    "After adding that step and rerun the whole process, I found 53 genes that are differently expressed between wildtype and mutant."
   ]
  },
  {
   "cell_type": "code",
   "execution_count": null,
   "id": "064c88d8",
   "metadata": {},
   "outputs": [],
   "source": []
  }
 ],
 "metadata": {
  "kernelspec": {
   "display_name": "Python 3",
   "language": "python",
   "name": "python3"
  },
  "language_info": {
   "codemirror_mode": {
    "name": "ipython",
    "version": 3
   },
   "file_extension": ".py",
   "mimetype": "text/x-python",
   "name": "python",
   "nbconvert_exporter": "python",
   "pygments_lexer": "ipython3",
   "version": "3.8.5"
  }
 },
 "nbformat": 4,
 "nbformat_minor": 5
}
